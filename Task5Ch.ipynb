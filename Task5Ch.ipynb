{
  "nbformat": 4,
  "nbformat_minor": 0,
  "metadata": {
    "colab": {
      "name": "Task5Ch.ipynb",
      "provenance": [],
      "collapsed_sections": []
    },
    "kernelspec": {
      "name": "python3",
      "display_name": "Python 3"
    }
  },
  "cells": [
    {
      "cell_type": "code",
      "metadata": {
        "id": "YXoZxDhhkrE9"
      },
      "source": [
        "import numpy as np\n",
        "import pandas as pd\n",
        "import requests\n",
        "import datetime as dt\n",
        "import json\n",
        "from datetime import datetime as dt"
      ],
      "execution_count": 60,
      "outputs": []
    },
    {
      "cell_type": "code",
      "metadata": {
        "id": "jQ9fgy7K7nSc"
      },
      "source": [
        "ticker= 'nflx' #ticker symbol of Netflix\n",
        "api_key= \"sk_0dff5fb95b4f42d3816fdaf34dc2907b\"\n",
        "prev1y=\"https://cloud.iexapis.com/stable/stock/%s/chart/1y?token=%s\"%(ticker,api_key)\n",
        "prev1d= \"https://cloud.iexapis.com/stable/stock/%s/chart/1d?token=%s\"%(ticker,api_key)\n",
        "intraday= \"https://cloud.iexapis.com/stable/stock/%s/intraday-prices/batch?token=%s\"%(ticker,api_key)\n",
        "r1d= requests.get(prev1d)\n",
        "r1y= requests.get(prev1y)\n",
        "rid= requests.get(intraday)\n",
        "jsnprev1d=json.loads(r1d.text)\n",
        "#print(jsnprev1d)\n",
        "jsnprev1y=json.loads(r1y.text)\n",
        "jsnintraday=json.loads(rid.text)\n"
      ],
      "execution_count": 84,
      "outputs": []
    },
    {
      "cell_type": "code",
      "metadata": {
        "id": "o_xY10u-fuwQ"
      },
      "source": [
        "# creating minutes key in previous years' data\n",
        "for i in jsnprev1y:\n",
        "  i['minute'] = i.get('minute','09:30')"
      ],
      "execution_count": 85,
      "outputs": []
    },
    {
      "cell_type": "code",
      "metadata": {
        "id": "ZDTvG3_blzw_"
      },
      "source": [
        "# converting to timestamps\n",
        "\n",
        "for i in jsnprev1y:\n",
        "  string= i['date']+'T'+i['minute']+':00+00:00'\n",
        "  element= dt.strptime(string,\"%Y-%m-%dT%H:%M:%S+00:00\")\n",
        "  timestamp= dt.timestamp(element)\n",
        "  i['timestamps']= i.get('timestamps',timestamp)\n",
        "for i in jsnprev1d:\n",
        "  string= i['date']+'T'+i['minute']+':00+00:00'\n",
        "  element= dt.strptime(string,\"%Y-%m-%dT%H:%M:%S+00:00\")\n",
        "  timestamp= dt.timestamp(element)\n",
        "  i['timestamps']= i.get('timestamps', timestamp)\n",
        "for i in jsnintraday:\n",
        "  string= i['date']+'T'+i['minute']+':00+00:00'\n",
        "  element= dt.strptime(string,\"%Y-%m-%dT%H:%M:%S+00:00\")\n",
        "  timestamp= dt.timestamp(element)\n",
        "  i['timestamps']= i.get('timestamps', timestamp)"
      ],
      "execution_count": 86,
      "outputs": []
    },
    {
      "cell_type": "code",
      "metadata": {
        "id": "bdGB43aMzh4g"
      },
      "source": [
        "# creating the DataFrame\n",
        "df1y= pd.DataFrame(jsnprev1y)\n",
        "df1d= pd.DataFrame(jsnprev1d)\n",
        "dfid= pd.DataFrame(jsnintraday)\n",
        "#dfid"
      ],
      "execution_count": 87,
      "outputs": []
    },
    {
      "cell_type": "code",
      "metadata": {
        "id": "9_01UR8J0tJg",
        "outputId": "c3cb7026-3dba-424b-beb4-830503b9b849",
        "colab": {
          "base_uri": "https://localhost:8080/",
          "height": 419
        }
      },
      "source": [
        "# concatinating the dataframe\n",
        "frames =[df1y,df1d,dfid]\n",
        "results =pd.concat(frames)\n",
        "results= results.drop(['date','close','high','low','volume','uOpen','uHigh','uLow','uVolume','change','label','changeOverTime','minute'],axis=1)\n",
        "results= results.drop(['uClose','changePercent','average','notional','numberOfTrades'],axis=1)\n",
        "results"
      ],
      "execution_count": 88,
      "outputs": [
        {
          "output_type": "execute_result",
          "data": {
            "text/html": [
              "<div>\n",
              "<style scoped>\n",
              "    .dataframe tbody tr th:only-of-type {\n",
              "        vertical-align: middle;\n",
              "    }\n",
              "\n",
              "    .dataframe tbody tr th {\n",
              "        vertical-align: top;\n",
              "    }\n",
              "\n",
              "    .dataframe thead th {\n",
              "        text-align: right;\n",
              "    }\n",
              "</style>\n",
              "<table border=\"1\" class=\"dataframe\">\n",
              "  <thead>\n",
              "    <tr style=\"text-align: right;\">\n",
              "      <th></th>\n",
              "      <th>open</th>\n",
              "      <th>timestamps</th>\n",
              "    </tr>\n",
              "  </thead>\n",
              "  <tbody>\n",
              "    <tr>\n",
              "      <th>0</th>\n",
              "      <td>273.030</td>\n",
              "      <td>1.570527e+09</td>\n",
              "    </tr>\n",
              "    <tr>\n",
              "      <th>1</th>\n",
              "      <td>270.020</td>\n",
              "      <td>1.570613e+09</td>\n",
              "    </tr>\n",
              "    <tr>\n",
              "      <th>2</th>\n",
              "      <td>265.970</td>\n",
              "      <td>1.570700e+09</td>\n",
              "    </tr>\n",
              "    <tr>\n",
              "      <th>3</th>\n",
              "      <td>284.800</td>\n",
              "      <td>1.570786e+09</td>\n",
              "    </tr>\n",
              "    <tr>\n",
              "      <th>4</th>\n",
              "      <td>283.930</td>\n",
              "      <td>1.571045e+09</td>\n",
              "    </tr>\n",
              "    <tr>\n",
              "      <th>...</th>\n",
              "      <td>...</td>\n",
              "      <td>...</td>\n",
              "    </tr>\n",
              "    <tr>\n",
              "      <th>385</th>\n",
              "      <td>535.830</td>\n",
              "      <td>1.602086e+09</td>\n",
              "    </tr>\n",
              "    <tr>\n",
              "      <th>386</th>\n",
              "      <td>535.845</td>\n",
              "      <td>1.602086e+09</td>\n",
              "    </tr>\n",
              "    <tr>\n",
              "      <th>387</th>\n",
              "      <td>535.810</td>\n",
              "      <td>1.602086e+09</td>\n",
              "    </tr>\n",
              "    <tr>\n",
              "      <th>388</th>\n",
              "      <td>535.700</td>\n",
              "      <td>1.602086e+09</td>\n",
              "    </tr>\n",
              "    <tr>\n",
              "      <th>389</th>\n",
              "      <td>535.000</td>\n",
              "      <td>1.602086e+09</td>\n",
              "    </tr>\n",
              "  </tbody>\n",
              "</table>\n",
              "<p>1033 rows × 2 columns</p>\n",
              "</div>"
            ],
            "text/plain": [
              "        open    timestamps\n",
              "0    273.030  1.570527e+09\n",
              "1    270.020  1.570613e+09\n",
              "2    265.970  1.570700e+09\n",
              "3    284.800  1.570786e+09\n",
              "4    283.930  1.571045e+09\n",
              "..       ...           ...\n",
              "385  535.830  1.602086e+09\n",
              "386  535.845  1.602086e+09\n",
              "387  535.810  1.602086e+09\n",
              "388  535.700  1.602086e+09\n",
              "389  535.000  1.602086e+09\n",
              "\n",
              "[1033 rows x 2 columns]"
            ]
          },
          "metadata": {
            "tags": []
          },
          "execution_count": 88
        }
      ]
    }
  ]
}