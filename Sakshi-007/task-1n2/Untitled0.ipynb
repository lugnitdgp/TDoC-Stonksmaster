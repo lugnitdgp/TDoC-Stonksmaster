{
  "nbformat": 4,
  "nbformat_minor": 0,
  "metadata": {
    "colab": {
      "name": "Untitled0.ipynb",
      "provenance": [],
      "toc_visible": true
    },
    "kernelspec": {
      "name": "python3",
      "display_name": "Python 3"
    }
  },
  "cells": [
    {
      "cell_type": "code",
      "metadata": {
        "id": "JNExSma-OYGA",
        "outputId": "06a7cac7-f716-48bc-eaff-d88074d93c78",
        "colab": {
          "base_uri": "https://localhost:8080/",
          "height": 642
        }
      },
      "source": [
        "import pandas as pd\n",
        "import numpy as np\n",
        "df = pd.read_csv(\"housing.csv\")\n",
        "df = df.head(5)\n",
        "print(df)\n",
        "dfa = np.array(df)\n",
        "print(dfa[0: ,0:2 ])\n",
        "print(dfa)\n",
        "df['added'] = pd.Series(['1', '2', '3', '4', '5'])\n",
        "del df ['LSTAT']\n",
        "print(df)\n",
        "print(df.iloc[0: , 0:2])\n",
        "df.rename(columns={'added' : 'dummy'}, inplace=True)\n",
        "print(df)\n"
      ],
      "execution_count": 7,
      "outputs": [
        {
          "output_type": "stream",
          "text": [
            "      RM  LSTAT  PTRATIO      MEDV\n",
            "0  6.575   4.98     15.3  504000.0\n",
            "1  6.421   9.14     17.8  453600.0\n",
            "2  7.185   4.03     17.8  728700.0\n",
            "3  6.998   2.94     18.7  701400.0\n",
            "4  7.147   5.33     18.7  760200.0\n",
            "[[6.575 4.98 ]\n",
            " [6.421 9.14 ]\n",
            " [7.185 4.03 ]\n",
            " [6.998 2.94 ]\n",
            " [7.147 5.33 ]]\n",
            "[[6.575e+00 4.980e+00 1.530e+01 5.040e+05]\n",
            " [6.421e+00 9.140e+00 1.780e+01 4.536e+05]\n",
            " [7.185e+00 4.030e+00 1.780e+01 7.287e+05]\n",
            " [6.998e+00 2.940e+00 1.870e+01 7.014e+05]\n",
            " [7.147e+00 5.330e+00 1.870e+01 7.602e+05]]\n",
            "      RM  PTRATIO      MEDV added\n",
            "0  6.575     15.3  504000.0     1\n",
            "1  6.421     17.8  453600.0     2\n",
            "2  7.185     17.8  728700.0     3\n",
            "3  6.998     18.7  701400.0     4\n",
            "4  7.147     18.7  760200.0     5\n",
            "      RM  PTRATIO\n",
            "0  6.575     15.3\n",
            "1  6.421     17.8\n",
            "2  7.185     17.8\n",
            "3  6.998     18.7\n",
            "4  7.147     18.7\n",
            "      RM  PTRATIO      MEDV dummy\n",
            "0  6.575     15.3  504000.0     1\n",
            "1  6.421     17.8  453600.0     2\n",
            "2  7.185     17.8  728700.0     3\n",
            "3  6.998     18.7  701400.0     4\n",
            "4  7.147     18.7  760200.0     5\n"
          ],
          "name": "stdout"
        }
      ]
    },
    {
      "cell_type": "code",
      "metadata": {
        "id": "vkW2BN0adaxg",
        "outputId": "481c7b6a-4022-478d-8824-92f10e0dca64",
        "colab": {
          "base_uri": "https://localhost:8080/",
          "height": 750
        }
      },
      "source": [
        "import pandas as pd\n",
        "from pandas.plotting import scatter_matrix\n",
        "from matplotlib import pyplot\n",
        "df = pd.read_csv(\"housing.csv\")\n",
        "df = df.head(10)\n",
        "print(df)\n",
        "# print(df.shape)\n",
        "# print(df.describe())\n",
        "df.hist()\n",
        "pyplot.show()\n",
        "del df['LSTAT']\n",
        "del df['MEDV']\n",
        "df.plot.line()\n",
        "\n"
      ],
      "execution_count": 8,
      "outputs": [
        {
          "output_type": "stream",
          "text": [
            "      RM  LSTAT  PTRATIO      MEDV\n",
            "0  6.575   4.98     15.3  504000.0\n",
            "1  6.421   9.14     17.8  453600.0\n",
            "2  7.185   4.03     17.8  728700.0\n",
            "3  6.998   2.94     18.7  701400.0\n",
            "4  7.147   5.33     18.7  760200.0\n",
            "5  6.430   5.21     18.7  602700.0\n",
            "6  6.012  12.43     15.2  480900.0\n",
            "7  6.172  19.15     15.2  569100.0\n",
            "8  5.631  29.93     15.2  346500.0\n",
            "9  6.004  17.10     15.2  396900.0\n"
          ],
          "name": "stdout"
        },
        {
          "output_type": "display_data",
          "data": {
            "image/png": "[encoded data removed]",
            "text/plain": [
              "<Figure size 432x288 with 4 Axes>"
            ]
          },
          "metadata": {
            "tags": [],
            "needs_background": "light"
          }
        },
        {
          "output_type": "execute_result",
          "data": {
            "text/plain": [
              "<matplotlib.axes._subplots.AxesSubplot at 0x7f33e9a06f28>"
            ]
          },
          "metadata": {
            "tags": []
          },
          "execution_count": 8
        },
        {
          "output_type": "display_data",
          "data": {
            "image/png": "[encoded data removed]",
            "text/plain": [
              "<Figure size 432x288 with 1 Axes>"
            ]
          },
          "metadata": {
            "tags": [],
            "needs_background": "light"
          }
        }
      ]
    }
  ]
}