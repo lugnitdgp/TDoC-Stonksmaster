{
  "nbformat": 4,
  "nbformat_minor": 0,
  "metadata": {
    "colab": {
      "name": "Task1Ch.ipynb",
      "provenance": [],
      "collapsed_sections": []
    },
    "kernelspec": {
      "name": "python3",
      "display_name": "Python 3"
    }
  },
  "cells": [
    {
      "cell_type": "code",
      "metadata": {
        "id": "KtbBnI1T5GLG"
      },
      "source": [
        "import numpy as np\n",
        "import pandas as pd\n",
        "df= pd.read_csv(\"housing.csv\")\n",
        "#df"
      ],
      "execution_count": 117,
      "outputs": []
    },
    {
      "cell_type": "code",
      "metadata": {
        "id": "nggCEOLV5zdy"
      },
      "source": [
        "#1.1 converting dataframe to a 2d array\n",
        "arr= np.array(df) # df.values will do the same"
      ],
      "execution_count": 118,
      "outputs": []
    },
    {
      "cell_type": "code",
      "metadata": {
        "id": "Otm85qsdIfYu"
      },
      "source": [
        "#1.2 adding necessary and dropping unnecessary columns\n",
        "df= df.drop(\"MEDV\",axis=1) #dropped the MEDV column\n",
        "#df"
      ],
      "execution_count": 119,
      "outputs": []
    },
    {
      "cell_type": "code",
      "metadata": {
        "id": "KzSMmF5LOUHF"
      },
      "source": [
        "df[\"HouseNum\"]= np.random.randint(489,size=(489)) #added a column \"HouseNum\"\n",
        "#df"
      ],
      "execution_count": 120,
      "outputs": []
    },
    {
      "cell_type": "code",
      "metadata": {
        "id": "5VzRrqV9ZKRz"
      },
      "source": [
        "#1.3 renaming columns\n",
        "df.rename(columns={'RM':'Rm','LSTAT':'LStat','PTRATIO':'PtRatio','HouseNum':'House'},inplace=True)\n",
        "#df"
      ],
      "execution_count": 121,
      "outputs": []
    },
    {
      "cell_type": "code",
      "metadata": {
        "id": "xXvYOeX9c0iw"
      },
      "source": [
        "#1.4 slicing dataframe\n",
        "df1=df.iloc[:,0:3] #1st dataset containg the 1st 3 columns and all the rows(number of rows can be changed)\n",
        "df2=df.iloc[:,-1] #dataset containin\n",
        "#df1\n",
        "#df2\n",
        "#dfHlsThan_200=df.loc[(df['House']<200)] # example of query based slicing\n",
        "#dfHgrtrNdEq_200=df.loc[(df['House']>=200)] # example of query based slicing\n",
        "#dfHlsThan_200"
      ],
      "execution_count": 122,
      "outputs": []
    }
  ]
}