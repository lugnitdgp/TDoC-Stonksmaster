{
  "nbformat": 4,
  "nbformat_minor": 0,
  "metadata": {
    "colab": {
      "name": "Added_Task5.ipynb",
      "provenance": []
    },
    "kernelspec": {
      "name": "python3",
      "display_name": "Python 3"
    }
  },
  "cells": [
    {
      "cell_type": "code",
      "metadata": {
        "id": "EryCUAArtt34"
      },
      "source": [
        "import numpy as np\n",
        "import pandas as pd\n",
        "import requests\n",
        "import datetime as dt\n",
        "import json\n",
        "from datetime import datetime as dt"
      ],
      "execution_count": 18,
      "outputs": []
    },
    {
      "cell_type": "code",
      "metadata": {
        "id": "FrqKl9Cwtz29"
      },
      "source": [
        "ticker= 'nflx'\n",
        "api_key= \"pk_48c23fbf1f594045b030fb910fbd455f\"\n",
        "prev1y=\"https://cloud.iexapis.com/stable/stock/%s/chart/1y?token=%s\"%(ticker,api_key)\n",
        "prev1d= \"https://cloud.iexapis.com/stable/stock/%s/chart/1d?token=%s\"%(ticker,api_key)\n",
        "intraday= \"https://cloud.iexapis.com/stable/stock/%s/intraday-prices/batch?token=%s\"%(ticker,api_key)\n",
        "r1d= requests.get(prev1d)\n",
        "r1y= requests.get(prev1y)\n",
        "rid= requests.get(intraday)\n",
        "jsnprev1d=json.loads(r1d.text)\n",
        "jsnprev1y=json.loads(r1y.text)\n",
        "jsnintraday=json.loads(rid.text)"
      ],
      "execution_count": 19,
      "outputs": []
    },
    {
      "cell_type": "code",
      "metadata": {
        "id": "SoNohjkut4Xn"
      },
      "source": [
        "for i in jsnprev1y:\n",
        "  i['minute'] = i.get('minute','09:30')"
      ],
      "execution_count": 20,
      "outputs": []
    },
    {
      "cell_type": "code",
      "metadata": {
        "id": "VZicmIYvt7_a"
      },
      "source": [
        "for i in jsnprev1y:\n",
        "  string= i['date']+'T'+i['minute']+':00+00:00'\n",
        "  element= dt.strptime(string,\"%Y-%m-%dT%H:%M:%S+00:00\")\n",
        "  timestamp= dt.timestamp(element)\n",
        "  i['timestamps']= i.get('timestamps',timestamp)\n",
        "for i in jsnprev1d:\n",
        "  string= i['date']+'T'+i['minute']+':00+00:00'\n",
        "  element= dt.strptime(string,\"%Y-%m-%dT%H:%M:%S+00:00\")\n",
        "  timestamp= dt.timestamp(element)\n",
        "  i['timestamps']= i.get('timestamps', timestamp)\n",
        "for i in jsnintraday:\n",
        "  string= i['date']+'T'+i['minute']+':00+00:00'\n",
        "  element= dt.strptime(string,\"%Y-%m-%dT%H:%M:%S+00:00\")\n",
        "  timestamp= dt.timestamp(element)\n",
        "  i['timestamps']= i.get('timestamps', timestamp)"
      ],
      "execution_count": 21,
      "outputs": []
    },
    {
      "cell_type": "code",
      "metadata": {
        "id": "uJuG1jdVt8PK"
      },
      "source": [
        "df1y= pd.DataFrame(jsnprev1y)\n",
        "df1d= pd.DataFrame(jsnprev1d)\n",
        "dfid= pd.DataFrame(jsnintraday)"
      ],
      "execution_count": 22,
      "outputs": []
    },
    {
      "cell_type": "code",
      "metadata": {
        "id": "1WyWhJfBt8s6",
        "outputId": "9fe39826-ec4c-4ccf-cc0e-abc8ef947d3e",
        "colab": {
          "base_uri": "https://localhost:8080/",
          "height": 402
        }
      },
      "source": [
        "\n",
        "frames =[df1y,df1d,dfid]\n",
        "results =pd.concat(frames)\n",
        "results= results.drop(['date','close','high','low','volume','uOpen','uHigh','uLow','uVolume','change','label','changeOverTime','minute'],axis=1)\n",
        "results= results.drop(['uClose','changePercent','average','notional','numberOfTrades'],axis=1)\n",
        "results"
      ],
      "execution_count": 23,
      "outputs": [
        {
          "output_type": "execute_result",
          "data": {
            "text/html": [
              "<div>\n",
              "<style scoped>\n",
              "    .dataframe tbody tr th:only-of-type {\n",
              "        vertical-align: middle;\n",
              "    }\n",
              "\n",
              "    .dataframe tbody tr th {\n",
              "        vertical-align: top;\n",
              "    }\n",
              "\n",
              "    .dataframe thead th {\n",
              "        text-align: right;\n",
              "    }\n",
              "</style>\n",
              "<table border=\"1\" class=\"dataframe\">\n",
              "  <thead>\n",
              "    <tr style=\"text-align: right;\">\n",
              "      <th></th>\n",
              "      <th>open</th>\n",
              "      <th>timestamps</th>\n",
              "    </tr>\n",
              "  </thead>\n",
              "  <tbody>\n",
              "    <tr>\n",
              "      <th>0</th>\n",
              "      <td>273.030</td>\n",
              "      <td>1.570527e+09</td>\n",
              "    </tr>\n",
              "    <tr>\n",
              "      <th>1</th>\n",
              "      <td>270.020</td>\n",
              "      <td>1.570613e+09</td>\n",
              "    </tr>\n",
              "    <tr>\n",
              "      <th>2</th>\n",
              "      <td>265.970</td>\n",
              "      <td>1.570700e+09</td>\n",
              "    </tr>\n",
              "    <tr>\n",
              "      <th>3</th>\n",
              "      <td>284.800</td>\n",
              "      <td>1.570786e+09</td>\n",
              "    </tr>\n",
              "    <tr>\n",
              "      <th>4</th>\n",
              "      <td>283.930</td>\n",
              "      <td>1.571045e+09</td>\n",
              "    </tr>\n",
              "    <tr>\n",
              "      <th>...</th>\n",
              "      <td>...</td>\n",
              "      <td>...</td>\n",
              "    </tr>\n",
              "    <tr>\n",
              "      <th>97</th>\n",
              "      <td>527.310</td>\n",
              "      <td>1.602155e+09</td>\n",
              "    </tr>\n",
              "    <tr>\n",
              "      <th>98</th>\n",
              "      <td>526.840</td>\n",
              "      <td>1.602155e+09</td>\n",
              "    </tr>\n",
              "    <tr>\n",
              "      <th>99</th>\n",
              "      <td>526.850</td>\n",
              "      <td>1.602155e+09</td>\n",
              "    </tr>\n",
              "    <tr>\n",
              "      <th>100</th>\n",
              "      <td>526.180</td>\n",
              "      <td>1.602155e+09</td>\n",
              "    </tr>\n",
              "    <tr>\n",
              "      <th>101</th>\n",
              "      <td>526.535</td>\n",
              "      <td>1.602155e+09</td>\n",
              "    </tr>\n",
              "  </tbody>\n",
              "</table>\n",
              "<p>457 rows × 2 columns</p>\n",
              "</div>"
            ],
            "text/plain": [
              "        open    timestamps\n",
              "0    273.030  1.570527e+09\n",
              "1    270.020  1.570613e+09\n",
              "2    265.970  1.570700e+09\n",
              "3    284.800  1.570786e+09\n",
              "4    283.930  1.571045e+09\n",
              "..       ...           ...\n",
              "97   527.310  1.602155e+09\n",
              "98   526.840  1.602155e+09\n",
              "99   526.850  1.602155e+09\n",
              "100  526.180  1.602155e+09\n",
              "101  526.535  1.602155e+09\n",
              "\n",
              "[457 rows x 2 columns]"
            ]
          },
          "metadata": {
            "tags": []
          },
          "execution_count": 23
        }
      ]
    }
  ]
}