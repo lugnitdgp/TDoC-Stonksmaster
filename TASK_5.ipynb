{
  "nbformat": 4,
  "nbformat_minor": 0,
  "metadata": {
    "colab": {
      "name": "TASK 5.ipynb",
      "provenance": [],
      "collapsed_sections": []
    },
    "kernelspec": {
      "name": "python3",
      "display_name": "Python 3"
    }
  },
  "cells": [
    {
      "cell_type": "code",
      "metadata": {
        "id": "8ced5xQDFaLe"
      },
      "source": [
        "import pandas as pd\n",
        "import datetime as dt\n",
        "import requests\n",
        "import json\n",
        "from datetime import datetime as dt\n",
        "\n",
        "token = 'pk_48c23fbf1f594045b030fb910fbd455f'\n",
        "\n",
        "sym = 'AAPL'\n",
        "prev1y='https://cloud.iexapis.com/stable/stock/'+sym+'/chart/1y?token='+token+''\n",
        "prev1d= 'https://cloud.iexapis.com/stable/stock/'+sym+'/chart/1d?token='+token+''\n",
        "intraday= 'https://cloud.iexapis.com/stable/stock/'+sym+'/intraday-prices/batch?token='+token+''\n",
        "\n",
        "r1d= requests.get(prev1d)\n",
        "r1y= requests.get(prev1y)\n",
        "rid= requests.get(intraday)\n",
        "\n",
        "prev1d=json.loads(r1d.text)\n",
        "prev1y=json.loads(r1y.text)\n",
        "intraday=json.loads(rid.text)"
      ],
      "execution_count": 47,
      "outputs": []
    },
    {
      "cell_type": "code",
      "metadata": {
        "id": "LO2cjJgMHEQp"
      },
      "source": [
        "for i in prev1y:\n",
        "  i['minute'] = i.get('minute','09:30')"
      ],
      "execution_count": 48,
      "outputs": []
    },
    {
      "cell_type": "code",
      "metadata": {
        "id": "nV_C0Gv2HTlt"
      },
      "source": [
        "for i in prev1y:\n",
        "  string= i['date']+'T'+i['minute']+':00+00:00'\n",
        "  element= dt.strptime(string,\"%Y-%m-%dT%H:%M:%S+00:00\")\n",
        "  timestamp= dt.timestamp(element)\n",
        "  i['timestamps']= i.get('timestamps',timestamp)\n",
        "  \n",
        "for i in prev1d:\n",
        "  string= i['date']+'T'+i['minute']+':00+00:00'\n",
        "  element= dt.strptime(string,\"%Y-%m-%dT%H:%M:%S+00:00\")\n",
        "  timestamp= dt.timestamp(element)\n",
        "  i['timestamps']= i.get('timestamps', timestamp)\n",
        "\n",
        "for i in intraday:\n",
        "  string= i['date']+'T'+i['minute']+':00+00:00'\n",
        "  element= dt.strptime(string,\"%Y-%m-%dT%H:%M:%S+00:00\")\n",
        "  timestamp= dt.timestamp(element)\n",
        "  i['timestamps']= i.get('timestamps', timestamp)"
      ],
      "execution_count": 49,
      "outputs": []
    },
    {
      "cell_type": "code",
      "metadata": {
        "id": "n4C-EWXoIZqv"
      },
      "source": [
        "df_1= pd.DataFrame(prev1y)\n",
        "df_2= pd.DataFrame(prev1d)\n",
        "df_3= pd.DataFrame(intraday)"
      ],
      "execution_count": 50,
      "outputs": []
    },
    {
      "cell_type": "code",
      "metadata": {
        "id": "KiuGjdJvKYSU",
        "outputId": "af341085-b546-4e9b-e930-d362385f0d39",
        "colab": {
          "base_uri": "https://localhost:8080/",
          "height": 402
        }
      },
      "source": [
        "frames =[df_1,df_2,df_3]\n",
        "final =pd.concat(frames)\n",
        "final= final.drop(['date','close','high','low','volume','uOpen','uHigh','uLow','uVolume','change','label','changeOverTime','minute','uClose','changePercent','average','notional','numberOfTrades'],axis=1)\n",
        "final"
      ],
      "execution_count": 51,
      "outputs": [
        {
          "output_type": "execute_result",
          "data": {
            "text/html": [
              "<div>\n",
              "<style scoped>\n",
              "    .dataframe tbody tr th:only-of-type {\n",
              "        vertical-align: middle;\n",
              "    }\n",
              "\n",
              "    .dataframe tbody tr th {\n",
              "        vertical-align: top;\n",
              "    }\n",
              "\n",
              "    .dataframe thead th {\n",
              "        text-align: right;\n",
              "    }\n",
              "</style>\n",
              "<table border=\"1\" class=\"dataframe\">\n",
              "  <thead>\n",
              "    <tr style=\"text-align: right;\">\n",
              "      <th></th>\n",
              "      <th>open</th>\n",
              "      <th>timestamps</th>\n",
              "    </tr>\n",
              "  </thead>\n",
              "  <tbody>\n",
              "    <tr>\n",
              "      <th>0</th>\n",
              "      <td>56.46</td>\n",
              "      <td>1.570527e+09</td>\n",
              "    </tr>\n",
              "    <tr>\n",
              "      <th>1</th>\n",
              "      <td>56.76</td>\n",
              "      <td>1.570613e+09</td>\n",
              "    </tr>\n",
              "    <tr>\n",
              "      <th>2</th>\n",
              "      <td>56.98</td>\n",
              "      <td>1.570700e+09</td>\n",
              "    </tr>\n",
              "    <tr>\n",
              "      <th>3</th>\n",
              "      <td>58.24</td>\n",
              "      <td>1.570786e+09</td>\n",
              "    </tr>\n",
              "    <tr>\n",
              "      <th>4</th>\n",
              "      <td>58.73</td>\n",
              "      <td>1.571045e+09</td>\n",
              "    </tr>\n",
              "    <tr>\n",
              "      <th>...</th>\n",
              "      <td>...</td>\n",
              "      <td>...</td>\n",
              "    </tr>\n",
              "    <tr>\n",
              "      <th>235</th>\n",
              "      <td>114.69</td>\n",
              "      <td>1.602164e+09</td>\n",
              "    </tr>\n",
              "    <tr>\n",
              "      <th>236</th>\n",
              "      <td>114.75</td>\n",
              "      <td>1.602164e+09</td>\n",
              "    </tr>\n",
              "    <tr>\n",
              "      <th>237</th>\n",
              "      <td>114.83</td>\n",
              "      <td>1.602164e+09</td>\n",
              "    </tr>\n",
              "    <tr>\n",
              "      <th>238</th>\n",
              "      <td>114.81</td>\n",
              "      <td>1.602164e+09</td>\n",
              "    </tr>\n",
              "    <tr>\n",
              "      <th>239</th>\n",
              "      <td>114.87</td>\n",
              "      <td>1.602164e+09</td>\n",
              "    </tr>\n",
              "  </tbody>\n",
              "</table>\n",
              "<p>733 rows × 2 columns</p>\n",
              "</div>"
            ],
            "text/plain": [
              "       open    timestamps\n",
              "0     56.46  1.570527e+09\n",
              "1     56.76  1.570613e+09\n",
              "2     56.98  1.570700e+09\n",
              "3     58.24  1.570786e+09\n",
              "4     58.73  1.571045e+09\n",
              "..      ...           ...\n",
              "235  114.69  1.602164e+09\n",
              "236  114.75  1.602164e+09\n",
              "237  114.83  1.602164e+09\n",
              "238  114.81  1.602164e+09\n",
              "239  114.87  1.602164e+09\n",
              "\n",
              "[733 rows x 2 columns]"
            ]
          },
          "metadata": {
            "tags": []
          },
          "execution_count": 51
        }
      ]
    }
  ]
}