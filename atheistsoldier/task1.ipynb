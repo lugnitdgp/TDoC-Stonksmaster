{
  "nbformat": 4,
  "nbformat_minor": 0,
  "metadata": {
    "colab": {
      "name": "Untitled0.ipynb",
      "provenance": [],
      "collapsed_sections": []
    },
    "kernelspec": {
      "name": "python3",
      "display_name": "Python 3"
    }
  },
  "cells": [
    {
      "cell_type": "code",
      "metadata": {
        "id": "w8el7PfxpHsU",
        "outputId": "28ab2040-2b8f-4324-b0d0-8d46cfd8e4fb",
        "colab": {
          "base_uri": "https://localhost:8080/",
          "height": 139
        }
      },
      "source": [
        "import pandas as pd\n",
        "import numpy as np\n",
        "from matplotlib import pyplot\n",
        "df = pd.read_csv ('housing.csv')\n",
        "\n",
        "arr=df.to_numpy()\n",
        "print(arr)\n"
      ],
      "execution_count": null,
      "outputs": [
        {
          "output_type": "stream",
          "text": [
            "[[6.575e+00 4.980e+00 1.530e+01 5.040e+05]\n",
            " [6.421e+00 9.140e+00 1.780e+01 4.536e+05]\n",
            " [7.185e+00 4.030e+00 1.780e+01 7.287e+05]\n",
            " ...\n",
            " [6.976e+00 5.640e+00 2.100e+01 5.019e+05]\n",
            " [6.794e+00 6.480e+00 2.100e+01 4.620e+05]\n",
            " [6.030e+00 7.880e+00 2.100e+01 2.499e+05]]\n"
          ],
          "name": "stdout"
        }
      ]
    },
    {
      "cell_type": "markdown",
      "metadata": {
        "id": "qQErP6SFHglb"
      },
      "source": [
        "# New Section"
      ]
    },
    {
      "cell_type": "markdown",
      "metadata": {
        "id": "NI3sSjkayJek"
      },
      "source": [
        ""
      ]
    },
    {
      "cell_type": "code",
      "metadata": {
        "id": "TxRHqweRNQvv",
        "outputId": "3766b220-deaf-485e-a653-28f11d2c3df9",
        "colab": {
          "base_uri": "https://localhost:8080/",
          "height": 260
        }
      },
      "source": [
        "print(df)"
      ],
      "execution_count": null,
      "outputs": [
        {
          "output_type": "stream",
          "text": [
            "        RM  LSTAT  PTRATIO      MEDV\n",
            "0    6.575   4.98     15.3  504000.0\n",
            "1    6.421   9.14     17.8  453600.0\n",
            "2    7.185   4.03     17.8  728700.0\n",
            "3    6.998   2.94     18.7  701400.0\n",
            "4    7.147   5.33     18.7  760200.0\n",
            "..     ...    ...      ...       ...\n",
            "484  6.593   9.67     21.0  470400.0\n",
            "485  6.120   9.08     21.0  432600.0\n",
            "486  6.976   5.64     21.0  501900.0\n",
            "487  6.794   6.48     21.0  462000.0\n",
            "488  6.030   7.88     21.0  249900.0\n",
            "\n",
            "[489 rows x 4 columns]\n"
          ],
          "name": "stdout"
        }
      ]
    },
    {
      "cell_type": "code",
      "metadata": {
        "id": "XUp1e5isNaTH",
        "outputId": "6071e071-20f0-4506-dca1-2400f3a59d79",
        "colab": {
          "base_uri": "https://localhost:8080/",
          "height": 139
        }
      },
      "source": [
        "print(np.delete(arr,2,axis=0))"
      ],
      "execution_count": null,
      "outputs": [
        {
          "output_type": "stream",
          "text": [
            "[[6.575e+00 4.980e+00 1.530e+01 5.040e+05]\n",
            " [6.421e+00 9.140e+00 1.780e+01 4.536e+05]\n",
            " [6.998e+00 2.940e+00 1.870e+01 7.014e+05]\n",
            " ...\n",
            " [6.976e+00 5.640e+00 2.100e+01 5.019e+05]\n",
            " [6.794e+00 6.480e+00 2.100e+01 4.620e+05]\n",
            " [6.030e+00 7.880e+00 2.100e+01 2.499e+05]]\n"
          ],
          "name": "stdout"
        }
      ]
    },
    {
      "cell_type": "code",
      "metadata": {
        "id": "TQtEItTiPQgh",
        "outputId": "5e844ae5-775a-4ee3-9d17-ce1e421ffd67",
        "colab": {
          "base_uri": "https://localhost:8080/",
          "height": 260
        }
      },
      "source": [
        "df.rename(columns={'MEDV':'Value'},inplace=True)\n",
        "print(df)\n"
      ],
      "execution_count": null,
      "outputs": [
        {
          "output_type": "stream",
          "text": [
            "        RM  LSTAT  PTRATIO     Value\n",
            "0    6.575   4.98     15.3  504000.0\n",
            "1    6.421   9.14     17.8  453600.0\n",
            "2    7.185   4.03     17.8  728700.0\n",
            "3    6.998   2.94     18.7  701400.0\n",
            "4    7.147   5.33     18.7  760200.0\n",
            "..     ...    ...      ...       ...\n",
            "484  6.593   9.67     21.0  470400.0\n",
            "485  6.120   9.08     21.0  432600.0\n",
            "486  6.976   5.64     21.0  501900.0\n",
            "487  6.794   6.48     21.0  462000.0\n",
            "488  6.030   7.88     21.0  249900.0\n",
            "\n",
            "[489 rows x 4 columns]\n"
          ],
          "name": "stdout"
        }
      ]
    },
    {
      "cell_type": "code",
      "metadata": {
        "id": "7kDSU_27QI-O",
        "outputId": "2da75828-a282-41fd-b640-418d79c978c9",
        "colab": {
          "base_uri": "https://localhost:8080/",
          "height": 69
        }
      },
      "source": [
        "df_new=df.iloc[0:2,1:3]\n",
        "print(df_new)"
      ],
      "execution_count": null,
      "outputs": [
        {
          "output_type": "stream",
          "text": [
            "   LSTAT  PTRATIO\n",
            "0   4.98     15.3\n",
            "1   9.14     17.8\n"
          ],
          "name": "stdout"
        }
      ]
    }
  ]
}
