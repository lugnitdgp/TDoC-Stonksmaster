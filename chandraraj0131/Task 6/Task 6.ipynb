{
 "cells": [
  {
   "cell_type": "markdown",
   "metadata": {},
   "source": [
    "# Stock price prediction. \n",
    "# Final project (StonksMaster) for \"10 Days of Code\" by NIT Durgapur\n",
    "# Plotting real-time stock data and predicting stock fluctuations using standard algorithms."
   ]
  },
  {
   "cell_type": "code",
   "execution_count": 1,
   "metadata": {},
   "outputs": [],
   "source": [
    "import pandas as pd \n",
    "import numpy as np \n",
    "from datetime import datetime\n",
    "import matplotlib.pyplot as plt\n",
    "import seaborn as sns\n",
    "from sklearn.model_selection import train_test_split\n",
    "from sklearn.model_selection import KFold\n",
    "from sklearn.model_selection import cross_val_score\n",
    "from sklearn.tree import DecisionTreeRegressor\n",
    "from sklearn.ensemble import GradientBoostingRegressor\n",
    "from sklearn.svm import SVR\n",
    "from sklearn.neighbors import KNeighborsRegressor\n",
    "from sklearn.linear_model import LinearRegression\n",
    "from pprint import pprint \n",
    "from sklearn.model_selection import RandomizedSearchCV\n",
    "from sklearn.model_selection import GridSearchCV"
   ]
  },
  {
   "cell_type": "code",
   "execution_count": 2,
   "metadata": {},
   "outputs": [],
   "source": [
    "#Using iexcloud api to get the stock prices of AAPL.\n",
    "df = pd.read_json('https://cloud.iexapis.com/stable/stock/aapl/chart/1y?token=pk_cc965fc3b7d94fc7b06a798c0cd96bae') "
   ]
  },
  {
   "cell_type": "code",
   "execution_count": 3,
   "metadata": {
    "scrolled": false
   },
   "outputs": [
    {
     "data": {
      "text/html": [
       "<div>\n",
       "<style scoped>\n",
       "    .dataframe tbody tr th:only-of-type {\n",
       "        vertical-align: middle;\n",
       "    }\n",
       "\n",
       "    .dataframe tbody tr th {\n",
       "        vertical-align: top;\n",
       "    }\n",
       "\n",
       "    .dataframe thead th {\n",
       "        text-align: right;\n",
       "    }\n",
       "</style>\n",
       "<table border=\"1\" class=\"dataframe\">\n",
       "  <thead>\n",
       "    <tr style=\"text-align: right;\">\n",
       "      <th></th>\n",
       "      <th>date</th>\n",
       "      <th>open</th>\n",
       "      <th>close</th>\n",
       "      <th>high</th>\n",
       "      <th>low</th>\n",
       "      <th>volume</th>\n",
       "      <th>uOpen</th>\n",
       "      <th>uClose</th>\n",
       "      <th>uHigh</th>\n",
       "      <th>uLow</th>\n",
       "      <th>uVolume</th>\n",
       "      <th>change</th>\n",
       "      <th>changePercent</th>\n",
       "      <th>label</th>\n",
       "      <th>changeOverTime</th>\n",
       "    </tr>\n",
       "  </thead>\n",
       "  <tbody>\n",
       "    <tr>\n",
       "      <th>249</th>\n",
       "      <td>2020-10-05</td>\n",
       "      <td>113.91</td>\n",
       "      <td>116.50</td>\n",
       "      <td>116.65</td>\n",
       "      <td>113.55</td>\n",
       "      <td>106243839</td>\n",
       "      <td>113.91</td>\n",
       "      <td>116.50</td>\n",
       "      <td>116.65</td>\n",
       "      <td>113.55</td>\n",
       "      <td>106243839</td>\n",
       "      <td>3.48</td>\n",
       "      <td>3.0791</td>\n",
       "      <td>Oct 5, 20</td>\n",
       "      <td>1.052592</td>\n",
       "    </tr>\n",
       "    <tr>\n",
       "      <th>250</th>\n",
       "      <td>2020-10-06</td>\n",
       "      <td>115.70</td>\n",
       "      <td>113.16</td>\n",
       "      <td>116.12</td>\n",
       "      <td>112.25</td>\n",
       "      <td>161498212</td>\n",
       "      <td>115.70</td>\n",
       "      <td>113.16</td>\n",
       "      <td>116.12</td>\n",
       "      <td>112.25</td>\n",
       "      <td>161498212</td>\n",
       "      <td>-3.34</td>\n",
       "      <td>-2.8670</td>\n",
       "      <td>Oct 6, 20</td>\n",
       "      <td>0.993745</td>\n",
       "    </tr>\n",
       "    <tr>\n",
       "      <th>251</th>\n",
       "      <td>2020-10-07</td>\n",
       "      <td>114.62</td>\n",
       "      <td>115.08</td>\n",
       "      <td>115.55</td>\n",
       "      <td>114.13</td>\n",
       "      <td>96848985</td>\n",
       "      <td>114.62</td>\n",
       "      <td>115.08</td>\n",
       "      <td>115.55</td>\n",
       "      <td>114.13</td>\n",
       "      <td>96848985</td>\n",
       "      <td>1.92</td>\n",
       "      <td>1.6967</td>\n",
       "      <td>Oct 7, 20</td>\n",
       "      <td>1.027573</td>\n",
       "    </tr>\n",
       "    <tr>\n",
       "      <th>252</th>\n",
       "      <td>2020-10-08</td>\n",
       "      <td>116.25</td>\n",
       "      <td>114.97</td>\n",
       "      <td>116.40</td>\n",
       "      <td>114.59</td>\n",
       "      <td>83477153</td>\n",
       "      <td>116.25</td>\n",
       "      <td>114.97</td>\n",
       "      <td>116.40</td>\n",
       "      <td>114.59</td>\n",
       "      <td>83477153</td>\n",
       "      <td>-0.11</td>\n",
       "      <td>-0.0956</td>\n",
       "      <td>Oct 8, 20</td>\n",
       "      <td>1.025635</td>\n",
       "    </tr>\n",
       "    <tr>\n",
       "      <th>253</th>\n",
       "      <td>2020-10-09</td>\n",
       "      <td>115.28</td>\n",
       "      <td>116.97</td>\n",
       "      <td>117.00</td>\n",
       "      <td>114.92</td>\n",
       "      <td>100506865</td>\n",
       "      <td>115.28</td>\n",
       "      <td>116.97</td>\n",
       "      <td>117.00</td>\n",
       "      <td>114.92</td>\n",
       "      <td>100506865</td>\n",
       "      <td>2.00</td>\n",
       "      <td>1.7100</td>\n",
       "      <td>Oct 9, 20</td>\n",
       "      <td>0.000000</td>\n",
       "    </tr>\n",
       "  </tbody>\n",
       "</table>\n",
       "</div>"
      ],
      "text/plain": [
       "          date    open   close    high     low     volume   uOpen  uClose  \\\n",
       "249 2020-10-05  113.91  116.50  116.65  113.55  106243839  113.91  116.50   \n",
       "250 2020-10-06  115.70  113.16  116.12  112.25  161498212  115.70  113.16   \n",
       "251 2020-10-07  114.62  115.08  115.55  114.13   96848985  114.62  115.08   \n",
       "252 2020-10-08  116.25  114.97  116.40  114.59   83477153  116.25  114.97   \n",
       "253 2020-10-09  115.28  116.97  117.00  114.92  100506865  115.28  116.97   \n",
       "\n",
       "      uHigh    uLow    uVolume  change  changePercent      label  \\\n",
       "249  116.65  113.55  106243839    3.48         3.0791  Oct 5, 20   \n",
       "250  116.12  112.25  161498212   -3.34        -2.8670  Oct 6, 20   \n",
       "251  115.55  114.13   96848985    1.92         1.6967  Oct 7, 20   \n",
       "252  116.40  114.59   83477153   -0.11        -0.0956  Oct 8, 20   \n",
       "253  117.00  114.92  100506865    2.00         1.7100  Oct 9, 20   \n",
       "\n",
       "     changeOverTime  \n",
       "249        1.052592  \n",
       "250        0.993745  \n",
       "251        1.027573  \n",
       "252        1.025635  \n",
       "253        0.000000  "
      ]
     },
     "execution_count": 3,
     "metadata": {},
     "output_type": "execute_result"
    }
   ],
   "source": [
    "df.tail(5)"
   ]
  },
  {
   "cell_type": "markdown",
   "metadata": {},
   "source": [
    "## Here we have the dataset which contains the opening and closing prices of Apple's stocks for the a year before the current day, day wise. \n",
    "## \"high\" and \"low\" are the highest and the lowest prices for the stocks for that particular day. \n",
    "## \"volume\" represents the number of stocks that were bought that day. \n",
    "## \"change percentage\" is percentage change of the closing price with respect to the last day's closing price.  "
   ]
  },
  {
   "cell_type": "code",
   "execution_count": 4,
   "metadata": {
    "scrolled": true
   },
   "outputs": [
    {
     "data": {
      "text/plain": [
       "dtype('<M8[ns]')"
      ]
     },
     "execution_count": 4,
     "metadata": {},
     "output_type": "execute_result"
    }
   ],
   "source": [
    "df.date.dtype"
   ]
  },
  {
   "cell_type": "markdown",
   "metadata": {},
   "source": [
    "### Here the datatype of \"date\" column is datetime64. "
   ]
  },
  {
   "cell_type": "markdown",
   "metadata": {},
   "source": [
    "### The datetime datatype cannot be passed into a linear regression model. This happens becuase Linear Regression cannot assign coefficient to the date feature as it doesn't comprehend the datetime64 datatype well. Therefore we need is to make the datetime object as numerical value and then feed that into the model. \n",
    "### So I would take months of the year, from intuition, as my feature which relates to the date column. "
   ]
  },
  {
   "cell_type": "code",
   "execution_count": 5,
   "metadata": {},
   "outputs": [],
   "source": [
    "s = pd.to_datetime(df['date'])\n",
    "df['date'] = s.dt.strftime(\"%Y%m\")          #This returns 2020-10-2 as 202010 (YearMonth)"
   ]
  },
  {
   "cell_type": "code",
   "execution_count": 6,
   "metadata": {
    "scrolled": true
   },
   "outputs": [
    {
     "data": {
      "text/plain": [
       "dtype('int64')"
      ]
     },
     "execution_count": 6,
     "metadata": {},
     "output_type": "execute_result"
    }
   ],
   "source": [
    "df.date = df.date.astype('int64')\n",
    "df.date.dtype"
   ]
  },
  {
   "cell_type": "code",
   "execution_count": 7,
   "metadata": {
    "scrolled": false
   },
   "outputs": [
    {
     "data": {
      "text/html": [
       "<div>\n",
       "<style scoped>\n",
       "    .dataframe tbody tr th:only-of-type {\n",
       "        vertical-align: middle;\n",
       "    }\n",
       "\n",
       "    .dataframe tbody tr th {\n",
       "        vertical-align: top;\n",
       "    }\n",
       "\n",
       "    .dataframe thead th {\n",
       "        text-align: right;\n",
       "    }\n",
       "</style>\n",
       "<table border=\"1\" class=\"dataframe\">\n",
       "  <thead>\n",
       "    <tr style=\"text-align: right;\">\n",
       "      <th></th>\n",
       "      <th>date</th>\n",
       "      <th>open</th>\n",
       "      <th>close</th>\n",
       "      <th>high</th>\n",
       "      <th>low</th>\n",
       "      <th>volume</th>\n",
       "      <th>uOpen</th>\n",
       "      <th>uClose</th>\n",
       "      <th>uHigh</th>\n",
       "      <th>uLow</th>\n",
       "      <th>uVolume</th>\n",
       "      <th>change</th>\n",
       "      <th>changePercent</th>\n",
       "      <th>label</th>\n",
       "      <th>changeOverTime</th>\n",
       "    </tr>\n",
       "  </thead>\n",
       "  <tbody>\n",
       "    <tr>\n",
       "      <th>249</th>\n",
       "      <td>202010</td>\n",
       "      <td>113.91</td>\n",
       "      <td>116.50</td>\n",
       "      <td>116.65</td>\n",
       "      <td>113.55</td>\n",
       "      <td>106243839</td>\n",
       "      <td>113.91</td>\n",
       "      <td>116.50</td>\n",
       "      <td>116.65</td>\n",
       "      <td>113.55</td>\n",
       "      <td>106243839</td>\n",
       "      <td>3.48</td>\n",
       "      <td>3.0791</td>\n",
       "      <td>Oct 5, 20</td>\n",
       "      <td>1.052592</td>\n",
       "    </tr>\n",
       "    <tr>\n",
       "      <th>250</th>\n",
       "      <td>202010</td>\n",
       "      <td>115.70</td>\n",
       "      <td>113.16</td>\n",
       "      <td>116.12</td>\n",
       "      <td>112.25</td>\n",
       "      <td>161498212</td>\n",
       "      <td>115.70</td>\n",
       "      <td>113.16</td>\n",
       "      <td>116.12</td>\n",
       "      <td>112.25</td>\n",
       "      <td>161498212</td>\n",
       "      <td>-3.34</td>\n",
       "      <td>-2.8670</td>\n",
       "      <td>Oct 6, 20</td>\n",
       "      <td>0.993745</td>\n",
       "    </tr>\n",
       "    <tr>\n",
       "      <th>251</th>\n",
       "      <td>202010</td>\n",
       "      <td>114.62</td>\n",
       "      <td>115.08</td>\n",
       "      <td>115.55</td>\n",
       "      <td>114.13</td>\n",
       "      <td>96848985</td>\n",
       "      <td>114.62</td>\n",
       "      <td>115.08</td>\n",
       "      <td>115.55</td>\n",
       "      <td>114.13</td>\n",
       "      <td>96848985</td>\n",
       "      <td>1.92</td>\n",
       "      <td>1.6967</td>\n",
       "      <td>Oct 7, 20</td>\n",
       "      <td>1.027573</td>\n",
       "    </tr>\n",
       "    <tr>\n",
       "      <th>252</th>\n",
       "      <td>202010</td>\n",
       "      <td>116.25</td>\n",
       "      <td>114.97</td>\n",
       "      <td>116.40</td>\n",
       "      <td>114.59</td>\n",
       "      <td>83477153</td>\n",
       "      <td>116.25</td>\n",
       "      <td>114.97</td>\n",
       "      <td>116.40</td>\n",
       "      <td>114.59</td>\n",
       "      <td>83477153</td>\n",
       "      <td>-0.11</td>\n",
       "      <td>-0.0956</td>\n",
       "      <td>Oct 8, 20</td>\n",
       "      <td>1.025635</td>\n",
       "    </tr>\n",
       "    <tr>\n",
       "      <th>253</th>\n",
       "      <td>202010</td>\n",
       "      <td>115.28</td>\n",
       "      <td>116.97</td>\n",
       "      <td>117.00</td>\n",
       "      <td>114.92</td>\n",
       "      <td>100506865</td>\n",
       "      <td>115.28</td>\n",
       "      <td>116.97</td>\n",
       "      <td>117.00</td>\n",
       "      <td>114.92</td>\n",
       "      <td>100506865</td>\n",
       "      <td>2.00</td>\n",
       "      <td>1.7100</td>\n",
       "      <td>Oct 9, 20</td>\n",
       "      <td>0.000000</td>\n",
       "    </tr>\n",
       "  </tbody>\n",
       "</table>\n",
       "</div>"
      ],
      "text/plain": [
       "       date    open   close    high     low     volume   uOpen  uClose  \\\n",
       "249  202010  113.91  116.50  116.65  113.55  106243839  113.91  116.50   \n",
       "250  202010  115.70  113.16  116.12  112.25  161498212  115.70  113.16   \n",
       "251  202010  114.62  115.08  115.55  114.13   96848985  114.62  115.08   \n",
       "252  202010  116.25  114.97  116.40  114.59   83477153  116.25  114.97   \n",
       "253  202010  115.28  116.97  117.00  114.92  100506865  115.28  116.97   \n",
       "\n",
       "      uHigh    uLow    uVolume  change  changePercent      label  \\\n",
       "249  116.65  113.55  106243839    3.48         3.0791  Oct 5, 20   \n",
       "250  116.12  112.25  161498212   -3.34        -2.8670  Oct 6, 20   \n",
       "251  115.55  114.13   96848985    1.92         1.6967  Oct 7, 20   \n",
       "252  116.40  114.59   83477153   -0.11        -0.0956  Oct 8, 20   \n",
       "253  117.00  114.92  100506865    2.00         1.7100  Oct 9, 20   \n",
       "\n",
       "     changeOverTime  \n",
       "249        1.052592  \n",
       "250        0.993745  \n",
       "251        1.027573  \n",
       "252        1.025635  \n",
       "253        0.000000  "
      ]
     },
     "execution_count": 7,
     "metadata": {},
     "output_type": "execute_result"
    }
   ],
   "source": [
    "df.tail(5)"
   ]
  },
  {
   "cell_type": "code",
   "execution_count": 8,
   "metadata": {},
   "outputs": [
    {
     "data": {
      "text/html": [
       "<div>\n",
       "<style scoped>\n",
       "    .dataframe tbody tr th:only-of-type {\n",
       "        vertical-align: middle;\n",
       "    }\n",
       "\n",
       "    .dataframe tbody tr th {\n",
       "        vertical-align: top;\n",
       "    }\n",
       "\n",
       "    .dataframe thead th {\n",
       "        text-align: right;\n",
       "    }\n",
       "</style>\n",
       "<table border=\"1\" class=\"dataframe\">\n",
       "  <thead>\n",
       "    <tr style=\"text-align: right;\">\n",
       "      <th></th>\n",
       "      <th>YearMonth</th>\n",
       "      <th>open</th>\n",
       "      <th>close</th>\n",
       "      <th>high</th>\n",
       "      <th>low</th>\n",
       "    </tr>\n",
       "  </thead>\n",
       "  <tbody>\n",
       "    <tr>\n",
       "      <th>0</th>\n",
       "      <td>201910</td>\n",
       "      <td>56.76</td>\n",
       "      <td>56.76</td>\n",
       "      <td>56.95</td>\n",
       "      <td>56.41</td>\n",
       "    </tr>\n",
       "    <tr>\n",
       "      <th>1</th>\n",
       "      <td>201910</td>\n",
       "      <td>56.98</td>\n",
       "      <td>57.52</td>\n",
       "      <td>57.61</td>\n",
       "      <td>56.83</td>\n",
       "    </tr>\n",
       "    <tr>\n",
       "      <th>2</th>\n",
       "      <td>201910</td>\n",
       "      <td>58.24</td>\n",
       "      <td>59.05</td>\n",
       "      <td>59.41</td>\n",
       "      <td>58.08</td>\n",
       "    </tr>\n",
       "    <tr>\n",
       "      <th>3</th>\n",
       "      <td>201910</td>\n",
       "      <td>58.73</td>\n",
       "      <td>58.97</td>\n",
       "      <td>59.53</td>\n",
       "      <td>58.67</td>\n",
       "    </tr>\n",
       "    <tr>\n",
       "      <th>4</th>\n",
       "      <td>201910</td>\n",
       "      <td>59.10</td>\n",
       "      <td>58.83</td>\n",
       "      <td>59.41</td>\n",
       "      <td>58.72</td>\n",
       "    </tr>\n",
       "    <tr>\n",
       "      <th>...</th>\n",
       "      <td>...</td>\n",
       "      <td>...</td>\n",
       "      <td>...</td>\n",
       "      <td>...</td>\n",
       "      <td>...</td>\n",
       "    </tr>\n",
       "    <tr>\n",
       "      <th>249</th>\n",
       "      <td>202010</td>\n",
       "      <td>113.91</td>\n",
       "      <td>116.50</td>\n",
       "      <td>116.65</td>\n",
       "      <td>113.55</td>\n",
       "    </tr>\n",
       "    <tr>\n",
       "      <th>250</th>\n",
       "      <td>202010</td>\n",
       "      <td>115.70</td>\n",
       "      <td>113.16</td>\n",
       "      <td>116.12</td>\n",
       "      <td>112.25</td>\n",
       "    </tr>\n",
       "    <tr>\n",
       "      <th>251</th>\n",
       "      <td>202010</td>\n",
       "      <td>114.62</td>\n",
       "      <td>115.08</td>\n",
       "      <td>115.55</td>\n",
       "      <td>114.13</td>\n",
       "    </tr>\n",
       "    <tr>\n",
       "      <th>252</th>\n",
       "      <td>202010</td>\n",
       "      <td>116.25</td>\n",
       "      <td>114.97</td>\n",
       "      <td>116.40</td>\n",
       "      <td>114.59</td>\n",
       "    </tr>\n",
       "    <tr>\n",
       "      <th>253</th>\n",
       "      <td>202010</td>\n",
       "      <td>115.28</td>\n",
       "      <td>116.97</td>\n",
       "      <td>117.00</td>\n",
       "      <td>114.92</td>\n",
       "    </tr>\n",
       "  </tbody>\n",
       "</table>\n",
       "<p>254 rows × 5 columns</p>\n",
       "</div>"
      ],
      "text/plain": [
       "     YearMonth    open   close    high     low\n",
       "0       201910   56.76   56.76   56.95   56.41\n",
       "1       201910   56.98   57.52   57.61   56.83\n",
       "2       201910   58.24   59.05   59.41   58.08\n",
       "3       201910   58.73   58.97   59.53   58.67\n",
       "4       201910   59.10   58.83   59.41   58.72\n",
       "..         ...     ...     ...     ...     ...\n",
       "249     202010  113.91  116.50  116.65  113.55\n",
       "250     202010  115.70  113.16  116.12  112.25\n",
       "251     202010  114.62  115.08  115.55  114.13\n",
       "252     202010  116.25  114.97  116.40  114.59\n",
       "253     202010  115.28  116.97  117.00  114.92\n",
       "\n",
       "[254 rows x 5 columns]"
      ]
     },
     "execution_count": 8,
     "metadata": {},
     "output_type": "execute_result"
    }
   ],
   "source": [
    "drop_columns = ['volume', 'uOpen', 'uClose', 'uHigh', 'uLow', \n",
    "                'uVolume', 'change', 'changePercent', 'label', 'changeOverTime']\n",
    "df.drop(drop_columns, axis = 1, inplace = True)\n",
    "df.rename(columns = {'date':'YearMonth'})"
   ]
  },
  {
   "cell_type": "code",
   "execution_count": 9,
   "metadata": {
    "scrolled": false
   },
   "outputs": [
    {
     "name": "stdout",
     "output_type": "stream",
     "text": [
      "<class 'pandas.core.frame.DataFrame'>\n",
      "RangeIndex: 254 entries, 0 to 253\n",
      "Data columns (total 5 columns):\n",
      " #   Column  Non-Null Count  Dtype  \n",
      "---  ------  --------------  -----  \n",
      " 0   date    254 non-null    int64  \n",
      " 1   open    254 non-null    float64\n",
      " 2   close   254 non-null    float64\n",
      " 3   high    254 non-null    float64\n",
      " 4   low     254 non-null    float64\n",
      "dtypes: float64(4), int64(1)\n",
      "memory usage: 10.0 KB\n"
     ]
    },
    {
     "data": {
      "text/plain": [
       "None"
      ]
     },
     "metadata": {},
     "output_type": "display_data"
    },
    {
     "data": {
      "text/html": [
       "<div>\n",
       "<style scoped>\n",
       "    .dataframe tbody tr th:only-of-type {\n",
       "        vertical-align: middle;\n",
       "    }\n",
       "\n",
       "    .dataframe tbody tr th {\n",
       "        vertical-align: top;\n",
       "    }\n",
       "\n",
       "    .dataframe thead th {\n",
       "        text-align: right;\n",
       "    }\n",
       "</style>\n",
       "<table border=\"1\" class=\"dataframe\">\n",
       "  <thead>\n",
       "    <tr style=\"text-align: right;\">\n",
       "      <th></th>\n",
       "      <th>date</th>\n",
       "      <th>open</th>\n",
       "      <th>close</th>\n",
       "      <th>high</th>\n",
       "      <th>low</th>\n",
       "    </tr>\n",
       "  </thead>\n",
       "  <tbody>\n",
       "    <tr>\n",
       "      <th>0</th>\n",
       "      <td>201910</td>\n",
       "      <td>56.76</td>\n",
       "      <td>56.76</td>\n",
       "      <td>56.95</td>\n",
       "      <td>56.41</td>\n",
       "    </tr>\n",
       "    <tr>\n",
       "      <th>1</th>\n",
       "      <td>201910</td>\n",
       "      <td>56.98</td>\n",
       "      <td>57.52</td>\n",
       "      <td>57.61</td>\n",
       "      <td>56.83</td>\n",
       "    </tr>\n",
       "    <tr>\n",
       "      <th>2</th>\n",
       "      <td>201910</td>\n",
       "      <td>58.24</td>\n",
       "      <td>59.05</td>\n",
       "      <td>59.41</td>\n",
       "      <td>58.08</td>\n",
       "    </tr>\n",
       "    <tr>\n",
       "      <th>3</th>\n",
       "      <td>201910</td>\n",
       "      <td>58.73</td>\n",
       "      <td>58.97</td>\n",
       "      <td>59.53</td>\n",
       "      <td>58.67</td>\n",
       "    </tr>\n",
       "    <tr>\n",
       "      <th>4</th>\n",
       "      <td>201910</td>\n",
       "      <td>59.10</td>\n",
       "      <td>58.83</td>\n",
       "      <td>59.41</td>\n",
       "      <td>58.72</td>\n",
       "    </tr>\n",
       "  </tbody>\n",
       "</table>\n",
       "</div>"
      ],
      "text/plain": [
       "     date   open  close   high    low\n",
       "0  201910  56.76  56.76  56.95  56.41\n",
       "1  201910  56.98  57.52  57.61  56.83\n",
       "2  201910  58.24  59.05  59.41  58.08\n",
       "3  201910  58.73  58.97  59.53  58.67\n",
       "4  201910  59.10  58.83  59.41  58.72"
      ]
     },
     "metadata": {},
     "output_type": "display_data"
    }
   ],
   "source": [
    "display(df.info())\n",
    "display(df.head())"
   ]
  },
  {
   "cell_type": "code",
   "execution_count": 10,
   "metadata": {},
   "outputs": [
    {
     "data": {
      "text/plain": [
       "<AxesSubplot:>"
      ]
     },
     "execution_count": 10,
     "metadata": {},
     "output_type": "execute_result"
    },
    {
     "data": {
      "image/png": "[encoded data removed]",
      "text/plain": [
       "<Figure size 432x288 with 2 Axes>"
      ]
     },
     "metadata": {
      "needs_background": "light"
     },
     "output_type": "display_data"
    }
   ],
   "source": [
    "corr = abs(df.corr())\n",
    "sns.heatmap(corr)"
   ]
  },
  {
   "cell_type": "markdown",
   "metadata": {},
   "source": [
    "## The correlation map doesn't really give any useful insights apart from what we expeceted from the basic understandings stocks and terms related to it."
   ]
  },
  {
   "cell_type": "code",
   "execution_count": 11,
   "metadata": {},
   "outputs": [],
   "source": [
    "df.date = (df.date-df.date.mean())/df.date.std()        #Normalizing the YearMonth column"
   ]
  },
  {
   "cell_type": "code",
   "execution_count": 12,
   "metadata": {},
   "outputs": [],
   "source": [
    "Y = df.open                                          #Separating the taget variable from the features \n",
    "df.drop('open', axis = 1, inplace = True)\n",
    "X = df"
   ]
  },
  {
   "cell_type": "code",
   "execution_count": 13,
   "metadata": {},
   "outputs": [
    {
     "data": {
      "image/png": "[encoded data removed]",
      "text/plain": [
       "<Figure size 1080x576 with 1 Axes>"
      ]
     },
     "metadata": {
      "needs_background": "light"
     },
     "output_type": "display_data"
    }
   ],
   "source": [
    "#Plotting history of opening prices for AAPL\n",
    "plt.figure(figsize=(15,8))\n",
    "plt.plot(Y, color=\"black\")\n",
    "plt.title('Opening Price history')\n",
    "plt.ylabel('Opening Price')\n",
    "plt.xlabel('Days')\n",
    "plt.show()"
   ]
  },
  {
   "cell_type": "code",
   "execution_count": 14,
   "metadata": {},
   "outputs": [],
   "source": [
    "xtrain, xtest, ytrain, ytest = train_test_split(X, Y, random_state = 14, test_size = .2)"
   ]
  },
  {
   "cell_type": "code",
   "execution_count": 15,
   "metadata": {
    "scrolled": false
   },
   "outputs": [
    {
     "name": "stdout",
     "output_type": "stream",
     "text": [
      "For KNeighborsRegressor() the r2 score is [0.99335666 0.99502475 0.99636053 0.99643137 0.99494827]\n",
      "For GradientBoostingRegressor() the r2 score is [0.99508039 0.9947121  0.99403207 0.996039   0.99335516]\n",
      "For LinearRegression() the r2 score is [0.99800156 0.99873292 0.99900641 0.99849952 0.99700489]\n",
      "For SVR() the r2 score is [0.9342955  0.9574346  0.97237578 0.97949413 0.93715948]\n",
      "For DecisionTreeRegressor() the r2 score is [0.99685413 0.99215437 0.99111943 0.99611375 0.99177949]\n"
     ]
    }
   ],
   "source": [
    "models = [KNeighborsRegressor(), GradientBoostingRegressor(),\n",
    "          LinearRegression(), SVR(), DecisionTreeRegressor()]\n",
    "for model in models:\n",
    "    kfold = KFold(n_splits=5, random_state= 14, shuffle=True)\n",
    "    result = cross_val_score(model, xtrain, ytrain, \n",
    "                             cv=kfold, scoring = 'r2')\n",
    "    print(\"For\", model, \"the r2 score is\",result)"
   ]
  },
  {
   "cell_type": "markdown",
   "metadata": {},
   "source": [
    "# Linear Regresssion "
   ]
  },
  {
   "cell_type": "code",
   "execution_count": 16,
   "metadata": {},
   "outputs": [],
   "source": [
    "lr = LinearRegression(normalize=True, copy_X=True)\n",
    "lr.fit(xtrain,ytrain)\n",
    "predict = lr.predict(X)"
   ]
  },
  {
   "cell_type": "code",
   "execution_count": 17,
   "metadata": {
    "scrolled": false
   },
   "outputs": [
    {
     "name": "stdout",
     "output_type": "stream",
     "text": [
      "R^2: 0.9982185776823383\n"
     ]
    }
   ],
   "source": [
    "from sklearn import metrics\n",
    "print('R^2:',metrics.r2_score(Y, predict))"
   ]
  },
  {
   "cell_type": "code",
   "execution_count": 18,
   "metadata": {},
   "outputs": [
    {
     "data": {
      "image/png": "[encoded data removed]",
      "text/plain": [
       "<Figure size 936x432 with 2 Axes>"
      ]
     },
     "metadata": {
      "needs_background": "light"
     },
     "output_type": "display_data"
    }
   ],
   "source": [
    "fig, ax1 = plt.subplots(figsize=(13,6))\n",
    "ax1.set_xlabel('Days')\n",
    "ax1.set_ylabel('Actual Price')\n",
    "ax1.plot(Y, color = 'black')\n",
    "\n",
    "ax2 = ax1.twinx()\n",
    "ax2.set_ylabel('Predicted Price', color ='red')\n",
    "ax2.tick_params(axis='y', colors='red')\n",
    "ax2.plot(predict, color = 'red')\n",
    "plt.show()"
   ]
  },
  {
   "cell_type": "markdown",
   "metadata": {},
   "source": [
    "# Gradient Boosting Regressor "
   ]
  },
  {
   "cell_type": "code",
   "execution_count": 19,
   "metadata": {
    "scrolled": true
   },
   "outputs": [
    {
     "name": "stdout",
     "output_type": "stream",
     "text": [
      "{'alpha': 0.9,\n",
      " 'ccp_alpha': 0.0,\n",
      " 'criterion': 'friedman_mse',\n",
      " 'init': None,\n",
      " 'learning_rate': 0.1,\n",
      " 'loss': 'ls',\n",
      " 'max_depth': 3,\n",
      " 'max_features': None,\n",
      " 'max_leaf_nodes': None,\n",
      " 'min_impurity_decrease': 0.0,\n",
      " 'min_impurity_split': None,\n",
      " 'min_samples_leaf': 1,\n",
      " 'min_samples_split': 2,\n",
      " 'min_weight_fraction_leaf': 0.0,\n",
      " 'n_estimators': 100,\n",
      " 'n_iter_no_change': None,\n",
      " 'presort': 'deprecated',\n",
      " 'random_state': None,\n",
      " 'subsample': 1.0,\n",
      " 'tol': 0.0001,\n",
      " 'validation_fraction': 0.1,\n",
      " 'verbose': 0,\n",
      " 'warm_start': False}\n"
     ]
    }
   ],
   "source": [
    "gbr = GradientBoostingRegressor()\n",
    "pprint(gbr.get_params())                    #Getting the hyperparameters which can be tuned for a better model"
   ]
  },
  {
   "cell_type": "markdown",
   "metadata": {},
   "source": [
    "### Using RandomSearchCV to get range of optimum values of hyperparameters "
   ]
  },
  {
   "cell_type": "code",
   "execution_count": 20,
   "metadata": {
    "scrolled": true
   },
   "outputs": [
    {
     "name": "stdout",
     "output_type": "stream",
     "text": [
      "{'criterion': ['friedman_mse', 'mse'],\n",
      " 'learning_rate': [0.01, 0.03, 0.3, 1],\n",
      " 'max_depth': [3, 5, 10, 15],\n",
      " 'min_samples_leaf': [2, 3, 4],\n",
      " 'n_estimators': [25, 50, 100, 150, 200, 300]}\n"
     ]
    }
   ],
   "source": [
    "random_grid = {'n_estimators': [25,50,100,150,200,300],\n",
    "               'max_depth': [3,5,10,15],\n",
    "               'min_samples_leaf': [2, 3, 4],\n",
    "               'learning_rate' : [.01,.03,.3,1],\n",
    "               'criterion' : ['friedman_mse','mse']}\n",
    "pprint(random_grid)"
   ]
  },
  {
   "cell_type": "code",
   "execution_count": 21,
   "metadata": {},
   "outputs": [],
   "source": [
    "gbr_random = RandomizedSearchCV(estimator = gbr, param_distributions = random_grid,\n",
    "                                n_iter = 100, cv = 5, random_state=14, verbose = 0)"
   ]
  },
  {
   "cell_type": "code",
   "execution_count": 22,
   "metadata": {},
   "outputs": [
    {
     "data": {
      "text/plain": [
       "RandomizedSearchCV(cv=5, estimator=GradientBoostingRegressor(), n_iter=100,\n",
       "                   param_distributions={'criterion': ['friedman_mse', 'mse'],\n",
       "                                        'learning_rate': [0.01, 0.03, 0.3, 1],\n",
       "                                        'max_depth': [3, 5, 10, 15],\n",
       "                                        'min_samples_leaf': [2, 3, 4],\n",
       "                                        'n_estimators': [25, 50, 100, 150, 200,\n",
       "                                                         300]},\n",
       "                   random_state=14)"
      ]
     },
     "execution_count": 22,
     "metadata": {},
     "output_type": "execute_result"
    }
   ],
   "source": [
    "gbr_random.fit(xtrain, ytrain)"
   ]
  },
  {
   "cell_type": "code",
   "execution_count": 23,
   "metadata": {},
   "outputs": [
    {
     "data": {
      "text/plain": [
       "{'n_estimators': 50,\n",
       " 'min_samples_leaf': 2,\n",
       " 'max_depth': 10,\n",
       " 'learning_rate': 0.3,\n",
       " 'criterion': 'mse'}"
      ]
     },
     "execution_count": 23,
     "metadata": {},
     "output_type": "execute_result"
    }
   ],
   "source": [
    "gbr_random.best_params_                     #Best parameters found by the RandomSearchCV"
   ]
  },
  {
   "cell_type": "markdown",
   "metadata": {},
   "source": [
    "### With small datasets and limited number of features GridSearchCV provides a very accurate model. "
   ]
  },
  {
   "cell_type": "code",
   "execution_count": 24,
   "metadata": {},
   "outputs": [
    {
     "name": "stdout",
     "output_type": "stream",
     "text": [
      "{'criterion': ['friedman_mse'],\n",
      " 'learning_rate': [0.1, 0.1, 0.3],\n",
      " 'max_depth': [10, 15, 17, 20],\n",
      " 'min_samples_leaf': [3, 4, 5],\n",
      " 'n_estimators': [150, 200, 100]}\n"
     ]
    }
   ],
   "source": [
    "grid_param = {'n_estimators': [150,200,100],\n",
    "               'max_depth': [10,15,17,20],\n",
    "               'min_samples_leaf': [3, 4,5],\n",
    "               'learning_rate' : [.1,0.1,0.3],\n",
    "               'criterion' : ['friedman_mse']}\n",
    "pprint(grid_param)"
   ]
  },
  {
   "cell_type": "code",
   "execution_count": 25,
   "metadata": {},
   "outputs": [],
   "source": [
    "grid_search =  GridSearchCV(estimator = gbr, param_grid = grid_param, \n",
    "                          cv = 3, verbose = 0)"
   ]
  },
  {
   "cell_type": "code",
   "execution_count": 26,
   "metadata": {},
   "outputs": [
    {
     "data": {
      "text/plain": [
       "GridSearchCV(cv=3, estimator=GradientBoostingRegressor(),\n",
       "             param_grid={'criterion': ['friedman_mse'],\n",
       "                         'learning_rate': [0.1, 0.1, 0.3],\n",
       "                         'max_depth': [10, 15, 17, 20],\n",
       "                         'min_samples_leaf': [3, 4, 5],\n",
       "                         'n_estimators': [150, 200, 100]})"
      ]
     },
     "execution_count": 26,
     "metadata": {},
     "output_type": "execute_result"
    }
   ],
   "source": [
    "grid_search.fit(xtrain, ytrain)"
   ]
  },
  {
   "cell_type": "code",
   "execution_count": 27,
   "metadata": {},
   "outputs": [
    {
     "data": {
      "text/plain": [
       "{'criterion': 'friedman_mse',\n",
       " 'learning_rate': 0.3,\n",
       " 'max_depth': 17,\n",
       " 'min_samples_leaf': 4,\n",
       " 'n_estimators': 200}"
      ]
     },
     "execution_count": 27,
     "metadata": {},
     "output_type": "execute_result"
    }
   ],
   "source": [
    "grid_search.best_params_                     #These are the best parameters for the Gradient Boosting Regressor "
   ]
  },
  {
   "cell_type": "code",
   "execution_count": 33,
   "metadata": {},
   "outputs": [],
   "source": [
    "gbr_final = GradientBoostingRegressor(n_estimators=200, criterion='friedman_mse', learning_rate = 0.3, \n",
    "                               max_depth=10, min_samples_leaf=4)"
   ]
  },
  {
   "cell_type": "code",
   "execution_count": 34,
   "metadata": {},
   "outputs": [
    {
     "data": {
      "text/plain": [
       "GradientBoostingRegressor(learning_rate=0.3, max_depth=10, min_samples_leaf=4,\n",
       "                          n_estimators=200)"
      ]
     },
     "execution_count": 34,
     "metadata": {},
     "output_type": "execute_result"
    }
   ],
   "source": [
    "gbr_final.fit(xtrain,ytrain)"
   ]
  },
  {
   "cell_type": "code",
   "execution_count": 35,
   "metadata": {},
   "outputs": [],
   "source": [
    "predict = gbr_final.predict(X)"
   ]
  },
  {
   "cell_type": "code",
   "execution_count": 36,
   "metadata": {},
   "outputs": [
    {
     "name": "stdout",
     "output_type": "stream",
     "text": [
      "R^2: 0.9992301652977653\n"
     ]
    }
   ],
   "source": [
    "from sklearn import metrics\n",
    "print('R^2:',metrics.r2_score(Y, predict))"
   ]
  },
  {
   "cell_type": "code",
   "execution_count": 37,
   "metadata": {},
   "outputs": [
    {
     "data": {
      "image/png": "[encoded data removed]",
      "text/plain": [
       "<Figure size 864x432 with 2 Axes>"
      ]
     },
     "metadata": {
      "needs_background": "light"
     },
     "output_type": "display_data"
    }
   ],
   "source": [
    "fig, ax1 = plt.subplots(figsize=(12,6))\n",
    "ax1.set_xlabel('Days')\n",
    "ax1.set_ylabel('Actual Prices')\n",
    "ax1.plot(Y, color = 'black')\n",
    "\n",
    "ax2 = ax1.twinx()\n",
    "ax2.set_ylabel('Predicted Price', color ='red')\n",
    "ax2.plot(predict, color = 'red')\n",
    "ax2.tick_params(axis='y', colors='red')\n",
    "plt.show()"
   ]
  },
  {
   "cell_type": "markdown",
   "metadata": {},
   "source": [
    "## Our model predicts prices pretty well based on the history of our chosen features. "
   ]
  }
 ],
 "metadata": {
  "kernelspec": {
   "display_name": "Python 3",
   "language": "python",
   "name": "python3"
  },
  "language_info": {
   "codemirror_mode": {
    "name": "ipython",
    "version": 3
   },
   "file_extension": ".py",
   "mimetype": "text/x-python",
   "name": "python",
   "nbconvert_exporter": "python",
   "pygments_lexer": "ipython3",
   "version": "3.7.7"
  }
 },
 "nbformat": 4,
 "nbformat_minor": 4
}
