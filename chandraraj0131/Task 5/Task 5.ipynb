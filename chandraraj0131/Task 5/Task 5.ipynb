{
 "cells": [
  {
   "cell_type": "code",
   "execution_count": 2,
   "metadata": {},
   "outputs": [],
   "source": [
    "import pandas as pd \n",
    "import numpy as np \n",
    "from datetime import datetime"
   ]
  },
  {
   "cell_type": "code",
   "execution_count": 9,
   "metadata": {},
   "outputs": [],
   "source": [
    "df = pd.read_json('https://cloud.iexapis.com/stable/stock/aapl/chart/1y?token=pk_cc965fc3b7d94fc7b06a798c0cd96bae')\n",
    "#df.to_csv('AAPL2.csv') "
   ]
  },
  {
   "cell_type": "code",
   "execution_count": 4,
   "metadata": {},
   "outputs": [],
   "source": [
    "#df = pd.read_csv('AAPL1.csv') "
   ]
  },
  {
   "cell_type": "code",
   "execution_count": 5,
   "metadata": {},
   "outputs": [],
   "source": [
    "#df.drop('Unnamed: 0', axis = 1, inplace = True)\n",
    "#df.tail(5)"
   ]
  },
  {
   "cell_type": "code",
   "execution_count": 6,
   "metadata": {},
   "outputs": [],
   "source": [
    "df.date = pd.to_datetime(df.date,utc=0)"
   ]
  },
  {
   "cell_type": "code",
   "execution_count": 7,
   "metadata": {},
   "outputs": [
    {
     "data": {
      "text/html": [
       "<div>\n",
       "<style scoped>\n",
       "    .dataframe tbody tr th:only-of-type {\n",
       "        vertical-align: middle;\n",
       "    }\n",
       "\n",
       "    .dataframe tbody tr th {\n",
       "        vertical-align: top;\n",
       "    }\n",
       "\n",
       "    .dataframe thead th {\n",
       "        text-align: right;\n",
       "    }\n",
       "</style>\n",
       "<table border=\"1\" class=\"dataframe\">\n",
       "  <thead>\n",
       "    <tr style=\"text-align: right;\">\n",
       "      <th></th>\n",
       "      <th>date</th>\n",
       "      <th>open</th>\n",
       "      <th>close</th>\n",
       "      <th>high</th>\n",
       "      <th>low</th>\n",
       "      <th>volume</th>\n",
       "      <th>uOpen</th>\n",
       "      <th>uClose</th>\n",
       "      <th>uHigh</th>\n",
       "      <th>uLow</th>\n",
       "      <th>uVolume</th>\n",
       "      <th>change</th>\n",
       "      <th>changePercent</th>\n",
       "      <th>label</th>\n",
       "      <th>changeOverTime</th>\n",
       "    </tr>\n",
       "  </thead>\n",
       "  <tbody>\n",
       "    <tr>\n",
       "      <th>249</th>\n",
       "      <td>2020-10-02</td>\n",
       "      <td>112.89</td>\n",
       "      <td>113.02</td>\n",
       "      <td>115.37</td>\n",
       "      <td>112.22</td>\n",
       "      <td>144711986</td>\n",
       "      <td>112.89</td>\n",
       "      <td>113.02</td>\n",
       "      <td>115.37</td>\n",
       "      <td>112.22</td>\n",
       "      <td>144711986</td>\n",
       "      <td>-3.77</td>\n",
       "      <td>-3.2280</td>\n",
       "      <td>Oct 2, 20</td>\n",
       "      <td>1.014617</td>\n",
       "    </tr>\n",
       "    <tr>\n",
       "      <th>250</th>\n",
       "      <td>2020-10-05</td>\n",
       "      <td>113.91</td>\n",
       "      <td>116.50</td>\n",
       "      <td>116.65</td>\n",
       "      <td>113.55</td>\n",
       "      <td>106243839</td>\n",
       "      <td>113.91</td>\n",
       "      <td>116.50</td>\n",
       "      <td>116.65</td>\n",
       "      <td>113.55</td>\n",
       "      <td>106243839</td>\n",
       "      <td>3.48</td>\n",
       "      <td>3.0791</td>\n",
       "      <td>Oct 5, 20</td>\n",
       "      <td>1.076649</td>\n",
       "    </tr>\n",
       "    <tr>\n",
       "      <th>251</th>\n",
       "      <td>2020-10-06</td>\n",
       "      <td>115.70</td>\n",
       "      <td>113.16</td>\n",
       "      <td>116.12</td>\n",
       "      <td>112.25</td>\n",
       "      <td>161498212</td>\n",
       "      <td>115.70</td>\n",
       "      <td>113.16</td>\n",
       "      <td>116.12</td>\n",
       "      <td>112.25</td>\n",
       "      <td>161498212</td>\n",
       "      <td>-3.34</td>\n",
       "      <td>-2.8670</td>\n",
       "      <td>Oct 6, 20</td>\n",
       "      <td>1.017112</td>\n",
       "    </tr>\n",
       "    <tr>\n",
       "      <th>252</th>\n",
       "      <td>2020-10-07</td>\n",
       "      <td>114.62</td>\n",
       "      <td>115.08</td>\n",
       "      <td>115.55</td>\n",
       "      <td>114.13</td>\n",
       "      <td>96848985</td>\n",
       "      <td>114.62</td>\n",
       "      <td>115.08</td>\n",
       "      <td>115.55</td>\n",
       "      <td>114.13</td>\n",
       "      <td>96848985</td>\n",
       "      <td>1.92</td>\n",
       "      <td>1.6967</td>\n",
       "      <td>Oct 7, 20</td>\n",
       "      <td>1.051337</td>\n",
       "    </tr>\n",
       "    <tr>\n",
       "      <th>253</th>\n",
       "      <td>2020-10-08</td>\n",
       "      <td>116.25</td>\n",
       "      <td>114.97</td>\n",
       "      <td>116.40</td>\n",
       "      <td>114.59</td>\n",
       "      <td>83477153</td>\n",
       "      <td>116.25</td>\n",
       "      <td>114.97</td>\n",
       "      <td>116.40</td>\n",
       "      <td>114.59</td>\n",
       "      <td>83477153</td>\n",
       "      <td>-0.11</td>\n",
       "      <td>-0.1000</td>\n",
       "      <td>Oct 8, 20</td>\n",
       "      <td>0.000000</td>\n",
       "    </tr>\n",
       "  </tbody>\n",
       "</table>\n",
       "</div>"
      ],
      "text/plain": [
       "          date    open   close    high     low     volume   uOpen  uClose  \\\n",
       "249 2020-10-02  112.89  113.02  115.37  112.22  144711986  112.89  113.02   \n",
       "250 2020-10-05  113.91  116.50  116.65  113.55  106243839  113.91  116.50   \n",
       "251 2020-10-06  115.70  113.16  116.12  112.25  161498212  115.70  113.16   \n",
       "252 2020-10-07  114.62  115.08  115.55  114.13   96848985  114.62  115.08   \n",
       "253 2020-10-08  116.25  114.97  116.40  114.59   83477153  116.25  114.97   \n",
       "\n",
       "      uHigh    uLow    uVolume  change  changePercent      label  \\\n",
       "249  115.37  112.22  144711986   -3.77        -3.2280  Oct 2, 20   \n",
       "250  116.65  113.55  106243839    3.48         3.0791  Oct 5, 20   \n",
       "251  116.12  112.25  161498212   -3.34        -2.8670  Oct 6, 20   \n",
       "252  115.55  114.13   96848985    1.92         1.6967  Oct 7, 20   \n",
       "253  116.40  114.59   83477153   -0.11        -0.1000  Oct 8, 20   \n",
       "\n",
       "     changeOverTime  \n",
       "249        1.014617  \n",
       "250        1.076649  \n",
       "251        1.017112  \n",
       "252        1.051337  \n",
       "253        0.000000  "
      ]
     },
     "execution_count": 7,
     "metadata": {},
     "output_type": "execute_result"
    }
   ],
   "source": [
    "df.tail(5)"
   ]
  },
  {
   "cell_type": "code",
   "execution_count": 8,
   "metadata": {},
   "outputs": [
    {
     "name": "stdout",
     "output_type": "stream",
     "text": [
      "<class 'pandas.core.frame.DataFrame'>\n",
      "RangeIndex: 254 entries, 0 to 253\n",
      "Data columns (total 15 columns):\n",
      " #   Column          Non-Null Count  Dtype         \n",
      "---  ------          --------------  -----         \n",
      " 0   date            254 non-null    datetime64[ns]\n",
      " 1   open            254 non-null    float64       \n",
      " 2   close           254 non-null    float64       \n",
      " 3   high            254 non-null    float64       \n",
      " 4   low             254 non-null    float64       \n",
      " 5   volume          254 non-null    int64         \n",
      " 6   uOpen           254 non-null    float64       \n",
      " 7   uClose          254 non-null    float64       \n",
      " 8   uHigh           254 non-null    float64       \n",
      " 9   uLow            254 non-null    float64       \n",
      " 10  uVolume         254 non-null    int64         \n",
      " 11  change          254 non-null    float64       \n",
      " 12  changePercent   254 non-null    float64       \n",
      " 13  label           254 non-null    object        \n",
      " 14  changeOverTime  254 non-null    float64       \n",
      "dtypes: datetime64[ns](1), float64(11), int64(2), object(1)\n",
      "memory usage: 29.9+ KB\n"
     ]
    }
   ],
   "source": [
    "df.info()"
   ]
  },
  {
   "cell_type": "markdown",
   "metadata": {},
   "source": [
    "We can see that the datatype for date is now \"datetime64\""
   ]
  }
 ],
 "metadata": {
  "kernelspec": {
   "display_name": "Python 3",
   "language": "python",
   "name": "python3"
  },
  "language_info": {
   "codemirror_mode": {
    "name": "ipython",
    "version": 3
   },
   "file_extension": ".py",
   "mimetype": "text/x-python",
   "name": "python",
   "nbconvert_exporter": "python",
   "pygments_lexer": "ipython3",
   "version": "3.7.7"
  }
 },
 "nbformat": 4,
 "nbformat_minor": 4
}
