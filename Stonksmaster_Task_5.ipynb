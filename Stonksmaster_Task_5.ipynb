{
  "nbformat": 4,
  "nbformat_minor": 0,
  "metadata": {
    "colab": {
      "name": "Stonksmaster Task 5.ipynb",
      "provenance": []
    },
    "kernelspec": {
      "name": "python3",
      "display_name": "Python 3"
    }
  },
  "cells": [
    {
      "cell_type": "code",
      "metadata": {
        "id": "xLMmQc52tbHI"
      },
      "source": [
        "from datetime import datetime\n",
        "import requests\n",
        "import pandas as pd"
      ],
      "execution_count": 1,
      "outputs": []
    },
    {
      "cell_type": "code",
      "metadata": {
        "id": "R4P50L0PCaF9"
      },
      "source": [
        "TICKER = \"aapl\"\n",
        "TOKEN_ID = \"pk_18e0f666b37842b2b7b9bdd4d677bc1e\""
      ],
      "execution_count": 2,
      "outputs": []
    },
    {
      "cell_type": "code",
      "metadata": {
        "id": "CKjpkDRutvRD",
        "collapsed": true,
        "outputId": "e77daa05-ad43-4841-b7ee-fa8f58a6e01c",
        "colab": {
          "base_uri": "https://localhost:8080/",
          "height": 204
        }
      },
      "source": [
        "ydata = requests.get(f\"https://cloud.iexapis.com/stable/stock/{TICKER}/chart/1y?token={TOKEN_ID}\").json()\n",
        "ydf = pd.DataFrame(ydata).iloc[:,:2]\n",
        "ydf[\"minute\"] = \"09:30\"\n",
        "ydf.head()"
      ],
      "execution_count": 3,
      "outputs": [
        {
          "output_type": "execute_result",
          "data": {
            "text/html": [
              "<div>\n",
              "<style scoped>\n",
              "    .dataframe tbody tr th:only-of-type {\n",
              "        vertical-align: middle;\n",
              "    }\n",
              "\n",
              "    .dataframe tbody tr th {\n",
              "        vertical-align: top;\n",
              "    }\n",
              "\n",
              "    .dataframe thead th {\n",
              "        text-align: right;\n",
              "    }\n",
              "</style>\n",
              "<table border=\"1\" class=\"dataframe\">\n",
              "  <thead>\n",
              "    <tr style=\"text-align: right;\">\n",
              "      <th></th>\n",
              "      <th>date</th>\n",
              "      <th>open</th>\n",
              "      <th>minute</th>\n",
              "    </tr>\n",
              "  </thead>\n",
              "  <tbody>\n",
              "    <tr>\n",
              "      <th>0</th>\n",
              "      <td>2019-10-07</td>\n",
              "      <td>56.57</td>\n",
              "      <td>09:30</td>\n",
              "    </tr>\n",
              "    <tr>\n",
              "      <th>1</th>\n",
              "      <td>2019-10-08</td>\n",
              "      <td>56.46</td>\n",
              "      <td>09:30</td>\n",
              "    </tr>\n",
              "    <tr>\n",
              "      <th>2</th>\n",
              "      <td>2019-10-09</td>\n",
              "      <td>56.76</td>\n",
              "      <td>09:30</td>\n",
              "    </tr>\n",
              "    <tr>\n",
              "      <th>3</th>\n",
              "      <td>2019-10-10</td>\n",
              "      <td>56.98</td>\n",
              "      <td>09:30</td>\n",
              "    </tr>\n",
              "    <tr>\n",
              "      <th>4</th>\n",
              "      <td>2019-10-11</td>\n",
              "      <td>58.24</td>\n",
              "      <td>09:30</td>\n",
              "    </tr>\n",
              "  </tbody>\n",
              "</table>\n",
              "</div>"
            ],
            "text/plain": [
              "         date   open minute\n",
              "0  2019-10-07  56.57  09:30\n",
              "1  2019-10-08  56.46  09:30\n",
              "2  2019-10-09  56.76  09:30\n",
              "3  2019-10-10  56.98  09:30\n",
              "4  2019-10-11  58.24  09:30"
            ]
          },
          "metadata": {
            "tags": []
          },
          "execution_count": 3
        }
      ]
    },
    {
      "cell_type": "code",
      "metadata": {
        "id": "j760LH77up7R",
        "collapsed": true,
        "outputId": "116d213d-41ff-4103-fc58-66f3717e1988",
        "colab": {
          "base_uri": "https://localhost:8080/",
          "height": 204
        }
      },
      "source": [
        "mdata = requests.get(f\"https://cloud.iexapis.com/stable/stock/{TICKER}/chart/1mm?token={TOKEN_ID}\").json()\n",
        "mdf = pd.DataFrame(mdata).iloc[:,:4].drop([\"label\"], axis=1)\n",
        "mdf.head()"
      ],
      "execution_count": 4,
      "outputs": [
        {
          "output_type": "execute_result",
          "data": {
            "text/html": [
              "<div>\n",
              "<style scoped>\n",
              "    .dataframe tbody tr th:only-of-type {\n",
              "        vertical-align: middle;\n",
              "    }\n",
              "\n",
              "    .dataframe tbody tr th {\n",
              "        vertical-align: top;\n",
              "    }\n",
              "\n",
              "    .dataframe thead th {\n",
              "        text-align: right;\n",
              "    }\n",
              "</style>\n",
              "<table border=\"1\" class=\"dataframe\">\n",
              "  <thead>\n",
              "    <tr style=\"text-align: right;\">\n",
              "      <th></th>\n",
              "      <th>date</th>\n",
              "      <th>minute</th>\n",
              "      <th>open</th>\n",
              "    </tr>\n",
              "  </thead>\n",
              "  <tbody>\n",
              "    <tr>\n",
              "      <th>0</th>\n",
              "      <td>2020-09-08</td>\n",
              "      <td>09:30</td>\n",
              "      <td>114.235</td>\n",
              "    </tr>\n",
              "    <tr>\n",
              "      <th>1</th>\n",
              "      <td>2020-09-08</td>\n",
              "      <td>10:00</td>\n",
              "      <td>117.300</td>\n",
              "    </tr>\n",
              "    <tr>\n",
              "      <th>2</th>\n",
              "      <td>2020-09-08</td>\n",
              "      <td>10:30</td>\n",
              "      <td>118.005</td>\n",
              "    </tr>\n",
              "    <tr>\n",
              "      <th>3</th>\n",
              "      <td>2020-09-08</td>\n",
              "      <td>11:00</td>\n",
              "      <td>116.725</td>\n",
              "    </tr>\n",
              "    <tr>\n",
              "      <th>4</th>\n",
              "      <td>2020-09-08</td>\n",
              "      <td>11:30</td>\n",
              "      <td>117.175</td>\n",
              "    </tr>\n",
              "  </tbody>\n",
              "</table>\n",
              "</div>"
            ],
            "text/plain": [
              "         date minute     open\n",
              "0  2020-09-08  09:30  114.235\n",
              "1  2020-09-08  10:00  117.300\n",
              "2  2020-09-08  10:30  118.005\n",
              "3  2020-09-08  11:00  116.725\n",
              "4  2020-09-08  11:30  117.175"
            ]
          },
          "metadata": {
            "tags": []
          },
          "execution_count": 4
        }
      ]
    },
    {
      "cell_type": "code",
      "metadata": {
        "id": "l98F-dCnvqOC",
        "outputId": "7fcaa1f3-8824-4c44-b171-750cfe16dfb7",
        "colab": {
          "base_uri": "https://localhost:8080/",
          "height": 204
        }
      },
      "source": [
        "d5data = requests.get(f\"https://cloud.iexapis.com/stable/stock/{TICKER}/chart/5dm?token={TOKEN_ID}\").json()\n",
        "d5df = pd.DataFrame(d5data).iloc[:,:4].drop([\"label\"], axis=1)\n",
        "d5df.head()"
      ],
      "execution_count": 5,
      "outputs": [
        {
          "output_type": "execute_result",
          "data": {
            "text/html": [
              "<div>\n",
              "<style scoped>\n",
              "    .dataframe tbody tr th:only-of-type {\n",
              "        vertical-align: middle;\n",
              "    }\n",
              "\n",
              "    .dataframe tbody tr th {\n",
              "        vertical-align: top;\n",
              "    }\n",
              "\n",
              "    .dataframe thead th {\n",
              "        text-align: right;\n",
              "    }\n",
              "</style>\n",
              "<table border=\"1\" class=\"dataframe\">\n",
              "  <thead>\n",
              "    <tr style=\"text-align: right;\">\n",
              "      <th></th>\n",
              "      <th>date</th>\n",
              "      <th>minute</th>\n",
              "      <th>open</th>\n",
              "    </tr>\n",
              "  </thead>\n",
              "  <tbody>\n",
              "    <tr>\n",
              "      <th>0</th>\n",
              "      <td>2020-10-01</td>\n",
              "      <td>09:30</td>\n",
              "      <td>117.65</td>\n",
              "    </tr>\n",
              "    <tr>\n",
              "      <th>1</th>\n",
              "      <td>2020-10-01</td>\n",
              "      <td>09:40</td>\n",
              "      <td>116.76</td>\n",
              "    </tr>\n",
              "    <tr>\n",
              "      <th>2</th>\n",
              "      <td>2020-10-01</td>\n",
              "      <td>09:50</td>\n",
              "      <td>116.69</td>\n",
              "    </tr>\n",
              "    <tr>\n",
              "      <th>3</th>\n",
              "      <td>2020-10-01</td>\n",
              "      <td>10:00</td>\n",
              "      <td>116.34</td>\n",
              "    </tr>\n",
              "    <tr>\n",
              "      <th>4</th>\n",
              "      <td>2020-10-01</td>\n",
              "      <td>10:10</td>\n",
              "      <td>116.56</td>\n",
              "    </tr>\n",
              "  </tbody>\n",
              "</table>\n",
              "</div>"
            ],
            "text/plain": [
              "         date minute    open\n",
              "0  2020-10-01  09:30  117.65\n",
              "1  2020-10-01  09:40  116.76\n",
              "2  2020-10-01  09:50  116.69\n",
              "3  2020-10-01  10:00  116.34\n",
              "4  2020-10-01  10:10  116.56"
            ]
          },
          "metadata": {
            "tags": []
          },
          "execution_count": 5
        }
      ]
    },
    {
      "cell_type": "code",
      "metadata": {
        "id": "GImRHNaPwH9F",
        "outputId": "d8f6a982-a26b-45ac-ad44-846ae84155d6",
        "colab": {
          "base_uri": "https://localhost:8080/",
          "height": 204
        }
      },
      "source": [
        "ddata = requests.get(f\"https://cloud.iexapis.com/stable/stock/{TICKER}/chart/1d?token={TOKEN_ID}\").json()\n",
        "ddf = pd.DataFrame(ddata).iloc[:,:6].drop([\"label\", \"low\", \"high\"], axis=1)\n",
        "ddf.head()"
      ],
      "execution_count": 6,
      "outputs": [
        {
          "output_type": "execute_result",
          "data": {
            "text/html": [
              "<div>\n",
              "<style scoped>\n",
              "    .dataframe tbody tr th:only-of-type {\n",
              "        vertical-align: middle;\n",
              "    }\n",
              "\n",
              "    .dataframe tbody tr th {\n",
              "        vertical-align: top;\n",
              "    }\n",
              "\n",
              "    .dataframe thead th {\n",
              "        text-align: right;\n",
              "    }\n",
              "</style>\n",
              "<table border=\"1\" class=\"dataframe\">\n",
              "  <thead>\n",
              "    <tr style=\"text-align: right;\">\n",
              "      <th></th>\n",
              "      <th>date</th>\n",
              "      <th>minute</th>\n",
              "      <th>open</th>\n",
              "    </tr>\n",
              "  </thead>\n",
              "  <tbody>\n",
              "    <tr>\n",
              "      <th>0</th>\n",
              "      <td>2020-10-07</td>\n",
              "      <td>09:30</td>\n",
              "      <td>114.64</td>\n",
              "    </tr>\n",
              "    <tr>\n",
              "      <th>1</th>\n",
              "      <td>2020-10-07</td>\n",
              "      <td>09:31</td>\n",
              "      <td>114.56</td>\n",
              "    </tr>\n",
              "    <tr>\n",
              "      <th>2</th>\n",
              "      <td>2020-10-07</td>\n",
              "      <td>09:32</td>\n",
              "      <td>114.76</td>\n",
              "    </tr>\n",
              "    <tr>\n",
              "      <th>3</th>\n",
              "      <td>2020-10-07</td>\n",
              "      <td>09:33</td>\n",
              "      <td>114.65</td>\n",
              "    </tr>\n",
              "    <tr>\n",
              "      <th>4</th>\n",
              "      <td>2020-10-07</td>\n",
              "      <td>09:34</td>\n",
              "      <td>114.98</td>\n",
              "    </tr>\n",
              "  </tbody>\n",
              "</table>\n",
              "</div>"
            ],
            "text/plain": [
              "         date minute    open\n",
              "0  2020-10-07  09:30  114.64\n",
              "1  2020-10-07  09:31  114.56\n",
              "2  2020-10-07  09:32  114.76\n",
              "3  2020-10-07  09:33  114.65\n",
              "4  2020-10-07  09:34  114.98"
            ]
          },
          "metadata": {
            "tags": []
          },
          "execution_count": 6
        }
      ]
    },
    {
      "cell_type": "code",
      "metadata": {
        "id": "DX-_hYMCtqkx",
        "outputId": "53a52aaa-0865-4813-bf6b-8a040c623df9",
        "colab": {
          "base_uri": "https://localhost:8080/",
          "height": 204
        }
      },
      "source": [
        "idata = requests.get(f\"https://cloud.iexapis.com/stable/stock/{TICKER}/intraday-prices/batch?token={TOKEN_ID}\").json()\n",
        "idf = pd.DataFrame(idata).iloc[:,:6].drop([\"label\", \"low\", \"high\"], axis=1)\n",
        "idf.head()"
      ],
      "execution_count": 7,
      "outputs": [
        {
          "output_type": "execute_result",
          "data": {
            "text/html": [
              "<div>\n",
              "<style scoped>\n",
              "    .dataframe tbody tr th:only-of-type {\n",
              "        vertical-align: middle;\n",
              "    }\n",
              "\n",
              "    .dataframe tbody tr th {\n",
              "        vertical-align: top;\n",
              "    }\n",
              "\n",
              "    .dataframe thead th {\n",
              "        text-align: right;\n",
              "    }\n",
              "</style>\n",
              "<table border=\"1\" class=\"dataframe\">\n",
              "  <thead>\n",
              "    <tr style=\"text-align: right;\">\n",
              "      <th></th>\n",
              "      <th>date</th>\n",
              "      <th>minute</th>\n",
              "      <th>open</th>\n",
              "    </tr>\n",
              "  </thead>\n",
              "  <tbody>\n",
              "    <tr>\n",
              "      <th>0</th>\n",
              "      <td>2020-10-07</td>\n",
              "      <td>09:30</td>\n",
              "      <td>114.64</td>\n",
              "    </tr>\n",
              "    <tr>\n",
              "      <th>1</th>\n",
              "      <td>2020-10-07</td>\n",
              "      <td>09:31</td>\n",
              "      <td>114.56</td>\n",
              "    </tr>\n",
              "    <tr>\n",
              "      <th>2</th>\n",
              "      <td>2020-10-07</td>\n",
              "      <td>09:32</td>\n",
              "      <td>114.76</td>\n",
              "    </tr>\n",
              "    <tr>\n",
              "      <th>3</th>\n",
              "      <td>2020-10-07</td>\n",
              "      <td>09:33</td>\n",
              "      <td>114.65</td>\n",
              "    </tr>\n",
              "    <tr>\n",
              "      <th>4</th>\n",
              "      <td>2020-10-07</td>\n",
              "      <td>09:34</td>\n",
              "      <td>114.98</td>\n",
              "    </tr>\n",
              "  </tbody>\n",
              "</table>\n",
              "</div>"
            ],
            "text/plain": [
              "         date minute    open\n",
              "0  2020-10-07  09:30  114.64\n",
              "1  2020-10-07  09:31  114.56\n",
              "2  2020-10-07  09:32  114.76\n",
              "3  2020-10-07  09:33  114.65\n",
              "4  2020-10-07  09:34  114.98"
            ]
          },
          "metadata": {
            "tags": []
          },
          "execution_count": 7
        }
      ]
    },
    {
      "cell_type": "code",
      "metadata": {
        "id": "BYJ-dHbcx2ph",
        "outputId": "4be16221-f18e-4825-ca11-7339ee38d869",
        "colab": {
          "base_uri": "https://localhost:8080/",
          "height": 204
        }
      },
      "source": [
        "merged_df = pd.merge(pd.merge(pd.merge(pd.merge(ddf, idf, how='outer'), d5df, how='outer'), mdf, how='outer'), ydf, how='outer')\n",
        "merged_df.head()"
      ],
      "execution_count": 8,
      "outputs": [
        {
          "output_type": "execute_result",
          "data": {
            "text/html": [
              "<div>\n",
              "<style scoped>\n",
              "    .dataframe tbody tr th:only-of-type {\n",
              "        vertical-align: middle;\n",
              "    }\n",
              "\n",
              "    .dataframe tbody tr th {\n",
              "        vertical-align: top;\n",
              "    }\n",
              "\n",
              "    .dataframe thead th {\n",
              "        text-align: right;\n",
              "    }\n",
              "</style>\n",
              "<table border=\"1\" class=\"dataframe\">\n",
              "  <thead>\n",
              "    <tr style=\"text-align: right;\">\n",
              "      <th></th>\n",
              "      <th>date</th>\n",
              "      <th>minute</th>\n",
              "      <th>open</th>\n",
              "    </tr>\n",
              "  </thead>\n",
              "  <tbody>\n",
              "    <tr>\n",
              "      <th>0</th>\n",
              "      <td>2020-10-07</td>\n",
              "      <td>09:30</td>\n",
              "      <td>114.64</td>\n",
              "    </tr>\n",
              "    <tr>\n",
              "      <th>1</th>\n",
              "      <td>2020-10-07</td>\n",
              "      <td>09:31</td>\n",
              "      <td>114.56</td>\n",
              "    </tr>\n",
              "    <tr>\n",
              "      <th>2</th>\n",
              "      <td>2020-10-07</td>\n",
              "      <td>09:32</td>\n",
              "      <td>114.76</td>\n",
              "    </tr>\n",
              "    <tr>\n",
              "      <th>3</th>\n",
              "      <td>2020-10-07</td>\n",
              "      <td>09:33</td>\n",
              "      <td>114.65</td>\n",
              "    </tr>\n",
              "    <tr>\n",
              "      <th>4</th>\n",
              "      <td>2020-10-07</td>\n",
              "      <td>09:34</td>\n",
              "      <td>114.98</td>\n",
              "    </tr>\n",
              "  </tbody>\n",
              "</table>\n",
              "</div>"
            ],
            "text/plain": [
              "         date minute    open\n",
              "0  2020-10-07  09:30  114.64\n",
              "1  2020-10-07  09:31  114.56\n",
              "2  2020-10-07  09:32  114.76\n",
              "3  2020-10-07  09:33  114.65\n",
              "4  2020-10-07  09:34  114.98"
            ]
          },
          "metadata": {
            "tags": []
          },
          "execution_count": 8
        }
      ]
    },
    {
      "cell_type": "code",
      "metadata": {
        "id": "q_3mjDizzrep"
      },
      "source": [
        "data = merged_df"
      ],
      "execution_count": 9,
      "outputs": []
    },
    {
      "cell_type": "code",
      "metadata": {
        "id": "beYfwKfzz2ht",
        "outputId": "ff5acb61-b17f-4e01-c5d9-c231c98c99d9",
        "colab": {
          "base_uri": "https://localhost:8080/",
          "height": 85
        }
      },
      "source": [
        "data.isna().sum()"
      ],
      "execution_count": 10,
      "outputs": [
        {
          "output_type": "execute_result",
          "data": {
            "text/plain": [
              "date      0\n",
              "minute    0\n",
              "open      0\n",
              "dtype: int64"
            ]
          },
          "metadata": {
            "tags": []
          },
          "execution_count": 10
        }
      ]
    },
    {
      "cell_type": "code",
      "metadata": {
        "id": "i8ypDgYY0TNL"
      },
      "source": [
        "stamps = []\n",
        "for index, row in data.iterrows():\n",
        "    date, time = row['date'], row['minute']\n",
        "    year, month, day = date.split(\"-\")\n",
        "    hour, minute = time.split(\":\")\n",
        "    stamps.append(datetime(int(year),int(month),int(day),int(hour),int(minute)).timestamp())\n",
        "    \n",
        "data[\"timestamp\"]=stamps"
      ],
      "execution_count": 11,
      "outputs": []
    },
    {
      "cell_type": "code",
      "metadata": {
        "id": "DfXObl8z7NnO"
      },
      "source": [
        "pd.options.display.float_format = '{:.1f}'.format\n",
        "\n",
        "data = data.drop(['date', 'minute'], axis=1).sort_values(by=['timestamp'])"
      ],
      "execution_count": 12,
      "outputs": []
    },
    {
      "cell_type": "code",
      "metadata": {
        "id": "umFzayv27hRd",
        "outputId": "8265830e-2a3e-4b07-fbe4-61eeb6f7c50b",
        "colab": {
          "base_uri": "https://localhost:8080/",
          "height": 419
        }
      },
      "source": [
        "data"
      ],
      "execution_count": 13,
      "outputs": [
        {
          "output_type": "execute_result",
          "data": {
            "text/html": [
              "<div>\n",
              "<style scoped>\n",
              "    .dataframe tbody tr th:only-of-type {\n",
              "        vertical-align: middle;\n",
              "    }\n",
              "\n",
              "    .dataframe tbody tr th {\n",
              "        vertical-align: top;\n",
              "    }\n",
              "\n",
              "    .dataframe thead th {\n",
              "        text-align: right;\n",
              "    }\n",
              "</style>\n",
              "<table border=\"1\" class=\"dataframe\">\n",
              "  <thead>\n",
              "    <tr style=\"text-align: right;\">\n",
              "      <th></th>\n",
              "      <th>open</th>\n",
              "      <th>timestamp</th>\n",
              "    </tr>\n",
              "  </thead>\n",
              "  <tbody>\n",
              "    <tr>\n",
              "      <th>767</th>\n",
              "      <td>56.6</td>\n",
              "      <td>1570440600.0</td>\n",
              "    </tr>\n",
              "    <tr>\n",
              "      <th>768</th>\n",
              "      <td>56.5</td>\n",
              "      <td>1570527000.0</td>\n",
              "    </tr>\n",
              "    <tr>\n",
              "      <th>769</th>\n",
              "      <td>56.8</td>\n",
              "      <td>1570613400.0</td>\n",
              "    </tr>\n",
              "    <tr>\n",
              "      <th>770</th>\n",
              "      <td>57.0</td>\n",
              "      <td>1570699800.0</td>\n",
              "    </tr>\n",
              "    <tr>\n",
              "      <th>771</th>\n",
              "      <td>58.2</td>\n",
              "      <td>1570786200.0</td>\n",
              "    </tr>\n",
              "    <tr>\n",
              "      <th>...</th>\n",
              "      <td>...</td>\n",
              "      <td>...</td>\n",
              "    </tr>\n",
              "    <tr>\n",
              "      <th>385</th>\n",
              "      <td>115.2</td>\n",
              "      <td>1602086100.0</td>\n",
              "    </tr>\n",
              "    <tr>\n",
              "      <th>386</th>\n",
              "      <td>115.1</td>\n",
              "      <td>1602086160.0</td>\n",
              "    </tr>\n",
              "    <tr>\n",
              "      <th>387</th>\n",
              "      <td>115.2</td>\n",
              "      <td>1602086220.0</td>\n",
              "    </tr>\n",
              "    <tr>\n",
              "      <th>388</th>\n",
              "      <td>115.2</td>\n",
              "      <td>1602086280.0</td>\n",
              "    </tr>\n",
              "    <tr>\n",
              "      <th>389</th>\n",
              "      <td>115.1</td>\n",
              "      <td>1602086340.0</td>\n",
              "    </tr>\n",
              "  </tbody>\n",
              "</table>\n",
              "<p>1019 rows × 2 columns</p>\n",
              "</div>"
            ],
            "text/plain": [
              "     open    timestamp\n",
              "767  56.6 1570440600.0\n",
              "768  56.5 1570527000.0\n",
              "769  56.8 1570613400.0\n",
              "770  57.0 1570699800.0\n",
              "771  58.2 1570786200.0\n",
              "..    ...          ...\n",
              "385 115.2 1602086100.0\n",
              "386 115.1 1602086160.0\n",
              "387 115.2 1602086220.0\n",
              "388 115.2 1602086280.0\n",
              "389 115.1 1602086340.0\n",
              "\n",
              "[1019 rows x 2 columns]"
            ]
          },
          "metadata": {
            "tags": []
          },
          "execution_count": 13
        }
      ]
    },
    {
      "cell_type": "code",
      "metadata": {
        "id": "ITthJatF7tWU",
        "outputId": "f807b008-41f7-4167-eae8-1eb0c72e2a94",
        "colab": {
          "base_uri": "https://localhost:8080/",
          "height": 34
        }
      },
      "source": [
        "data['timestamp'].unique().shape"
      ],
      "execution_count": 14,
      "outputs": [
        {
          "output_type": "execute_result",
          "data": {
            "text/plain": [
              "(999,)"
            ]
          },
          "metadata": {
            "tags": []
          },
          "execution_count": 14
        }
      ]
    },
    {
      "cell_type": "code",
      "metadata": {
        "id": "YNXbgmHI8QD1"
      },
      "source": [
        "for i, (index, row) in enumerate(data[data.duplicated(subset=['timestamp'],keep=False)].iterrows()):\n",
        "    if i%2 == 1:\n",
        "      data = data.drop(index=index)"
      ],
      "execution_count": 15,
      "outputs": []
    },
    {
      "cell_type": "code",
      "metadata": {
        "id": "Ocp-vdj58TZ4",
        "outputId": "b4329bb5-26a3-4aec-d26a-733b3d2c37fb",
        "colab": {
          "base_uri": "https://localhost:8080/",
          "height": 419
        }
      },
      "source": [
        "data"
      ],
      "execution_count": 16,
      "outputs": [
        {
          "output_type": "execute_result",
          "data": {
            "text/html": [
              "<div>\n",
              "<style scoped>\n",
              "    .dataframe tbody tr th:only-of-type {\n",
              "        vertical-align: middle;\n",
              "    }\n",
              "\n",
              "    .dataframe tbody tr th {\n",
              "        vertical-align: top;\n",
              "    }\n",
              "\n",
              "    .dataframe thead th {\n",
              "        text-align: right;\n",
              "    }\n",
              "</style>\n",
              "<table border=\"1\" class=\"dataframe\">\n",
              "  <thead>\n",
              "    <tr style=\"text-align: right;\">\n",
              "      <th></th>\n",
              "      <th>open</th>\n",
              "      <th>timestamp</th>\n",
              "    </tr>\n",
              "  </thead>\n",
              "  <tbody>\n",
              "    <tr>\n",
              "      <th>767</th>\n",
              "      <td>56.6</td>\n",
              "      <td>1570440600.0</td>\n",
              "    </tr>\n",
              "    <tr>\n",
              "      <th>768</th>\n",
              "      <td>56.5</td>\n",
              "      <td>1570527000.0</td>\n",
              "    </tr>\n",
              "    <tr>\n",
              "      <th>769</th>\n",
              "      <td>56.8</td>\n",
              "      <td>1570613400.0</td>\n",
              "    </tr>\n",
              "    <tr>\n",
              "      <th>770</th>\n",
              "      <td>57.0</td>\n",
              "      <td>1570699800.0</td>\n",
              "    </tr>\n",
              "    <tr>\n",
              "      <th>771</th>\n",
              "      <td>58.2</td>\n",
              "      <td>1570786200.0</td>\n",
              "    </tr>\n",
              "    <tr>\n",
              "      <th>...</th>\n",
              "      <td>...</td>\n",
              "      <td>...</td>\n",
              "    </tr>\n",
              "    <tr>\n",
              "      <th>385</th>\n",
              "      <td>115.2</td>\n",
              "      <td>1602086100.0</td>\n",
              "    </tr>\n",
              "    <tr>\n",
              "      <th>386</th>\n",
              "      <td>115.1</td>\n",
              "      <td>1602086160.0</td>\n",
              "    </tr>\n",
              "    <tr>\n",
              "      <th>387</th>\n",
              "      <td>115.2</td>\n",
              "      <td>1602086220.0</td>\n",
              "    </tr>\n",
              "    <tr>\n",
              "      <th>388</th>\n",
              "      <td>115.2</td>\n",
              "      <td>1602086280.0</td>\n",
              "    </tr>\n",
              "    <tr>\n",
              "      <th>389</th>\n",
              "      <td>115.1</td>\n",
              "      <td>1602086340.0</td>\n",
              "    </tr>\n",
              "  </tbody>\n",
              "</table>\n",
              "<p>999 rows × 2 columns</p>\n",
              "</div>"
            ],
            "text/plain": [
              "     open    timestamp\n",
              "767  56.6 1570440600.0\n",
              "768  56.5 1570527000.0\n",
              "769  56.8 1570613400.0\n",
              "770  57.0 1570699800.0\n",
              "771  58.2 1570786200.0\n",
              "..    ...          ...\n",
              "385 115.2 1602086100.0\n",
              "386 115.1 1602086160.0\n",
              "387 115.2 1602086220.0\n",
              "388 115.2 1602086280.0\n",
              "389 115.1 1602086340.0\n",
              "\n",
              "[999 rows x 2 columns]"
            ]
          },
          "metadata": {
            "tags": []
          },
          "execution_count": 16
        }
      ]
    },
    {
      "cell_type": "code",
      "metadata": {
        "id": "bJ40JuzuHpbM",
        "outputId": "b827e740-9b46-4e33-bf79-88c60e72fe96",
        "colab": {
          "base_uri": "https://localhost:8080/",
          "height": 204
        }
      },
      "source": [
        "data=data.reindex(columns=[\"timestamp\", \"open\"])\n",
        "data.head()"
      ],
      "execution_count": 17,
      "outputs": [
        {
          "output_type": "execute_result",
          "data": {
            "text/html": [
              "<div>\n",
              "<style scoped>\n",
              "    .dataframe tbody tr th:only-of-type {\n",
              "        vertical-align: middle;\n",
              "    }\n",
              "\n",
              "    .dataframe tbody tr th {\n",
              "        vertical-align: top;\n",
              "    }\n",
              "\n",
              "    .dataframe thead th {\n",
              "        text-align: right;\n",
              "    }\n",
              "</style>\n",
              "<table border=\"1\" class=\"dataframe\">\n",
              "  <thead>\n",
              "    <tr style=\"text-align: right;\">\n",
              "      <th></th>\n",
              "      <th>timestamp</th>\n",
              "      <th>open</th>\n",
              "    </tr>\n",
              "  </thead>\n",
              "  <tbody>\n",
              "    <tr>\n",
              "      <th>767</th>\n",
              "      <td>1570440600.0</td>\n",
              "      <td>56.6</td>\n",
              "    </tr>\n",
              "    <tr>\n",
              "      <th>768</th>\n",
              "      <td>1570527000.0</td>\n",
              "      <td>56.5</td>\n",
              "    </tr>\n",
              "    <tr>\n",
              "      <th>769</th>\n",
              "      <td>1570613400.0</td>\n",
              "      <td>56.8</td>\n",
              "    </tr>\n",
              "    <tr>\n",
              "      <th>770</th>\n",
              "      <td>1570699800.0</td>\n",
              "      <td>57.0</td>\n",
              "    </tr>\n",
              "    <tr>\n",
              "      <th>771</th>\n",
              "      <td>1570786200.0</td>\n",
              "      <td>58.2</td>\n",
              "    </tr>\n",
              "  </tbody>\n",
              "</table>\n",
              "</div>"
            ],
            "text/plain": [
              "       timestamp  open\n",
              "767 1570440600.0  56.6\n",
              "768 1570527000.0  56.5\n",
              "769 1570613400.0  56.8\n",
              "770 1570699800.0  57.0\n",
              "771 1570786200.0  58.2"
            ]
          },
          "metadata": {
            "tags": []
          },
          "execution_count": 17
        }
      ]
    },
    {
      "cell_type": "code",
      "metadata": {
        "id": "wQZu7rVMJZAH"
      },
      "source": [
        "data = data.reset_index().drop([\"index\"], axis=1)"
      ],
      "execution_count": 21,
      "outputs": []
    },
    {
      "cell_type": "code",
      "metadata": {
        "id": "lEm5hlUkJvpU",
        "outputId": "65b7ed1a-70ce-4ec9-b556-fcc5764e3619",
        "colab": {
          "base_uri": "https://localhost:8080/",
          "height": 204
        }
      },
      "source": [
        "data.head()"
      ],
      "execution_count": 22,
      "outputs": [
        {
          "output_type": "execute_result",
          "data": {
            "text/html": [
              "<div>\n",
              "<style scoped>\n",
              "    .dataframe tbody tr th:only-of-type {\n",
              "        vertical-align: middle;\n",
              "    }\n",
              "\n",
              "    .dataframe tbody tr th {\n",
              "        vertical-align: top;\n",
              "    }\n",
              "\n",
              "    .dataframe thead th {\n",
              "        text-align: right;\n",
              "    }\n",
              "</style>\n",
              "<table border=\"1\" class=\"dataframe\">\n",
              "  <thead>\n",
              "    <tr style=\"text-align: right;\">\n",
              "      <th></th>\n",
              "      <th>timestamp</th>\n",
              "      <th>open</th>\n",
              "    </tr>\n",
              "  </thead>\n",
              "  <tbody>\n",
              "    <tr>\n",
              "      <th>0</th>\n",
              "      <td>1570440600.0</td>\n",
              "      <td>56.6</td>\n",
              "    </tr>\n",
              "    <tr>\n",
              "      <th>1</th>\n",
              "      <td>1570527000.0</td>\n",
              "      <td>56.5</td>\n",
              "    </tr>\n",
              "    <tr>\n",
              "      <th>2</th>\n",
              "      <td>1570613400.0</td>\n",
              "      <td>56.8</td>\n",
              "    </tr>\n",
              "    <tr>\n",
              "      <th>3</th>\n",
              "      <td>1570699800.0</td>\n",
              "      <td>57.0</td>\n",
              "    </tr>\n",
              "    <tr>\n",
              "      <th>4</th>\n",
              "      <td>1570786200.0</td>\n",
              "      <td>58.2</td>\n",
              "    </tr>\n",
              "  </tbody>\n",
              "</table>\n",
              "</div>"
            ],
            "text/plain": [
              "     timestamp  open\n",
              "0 1570440600.0  56.6\n",
              "1 1570527000.0  56.5\n",
              "2 1570613400.0  56.8\n",
              "3 1570699800.0  57.0\n",
              "4 1570786200.0  58.2"
            ]
          },
          "metadata": {
            "tags": []
          },
          "execution_count": 22
        }
      ]
    },
    {
      "cell_type": "code",
      "metadata": {
        "id": "VIcbDutGKZdJ",
        "outputId": "1e5d548c-c331-4588-bb98-159d43d347a8",
        "colab": {
          "base_uri": "https://localhost:8080/",
          "height": 605
        }
      },
      "source": [
        "import matplotlib.pyplot as plt\n",
        "\n",
        "figure = plt.figure(figsize=(20,10))\n",
        "plt.plot(data[\"timestamp\"].values, data[\"open\"].values)\n",
        "plt.show()"
      ],
      "execution_count": 30,
      "outputs": [
        {
          "output_type": "display_data",
          "data": {
            "image/png": "[encoded data removed]",
            "text/plain": [
              "<Figure size 1440x720 with 1 Axes>"
            ]
          },
          "metadata": {
            "tags": [],
            "needs_background": "light"
          }
        }
      ]
    },
    {
      "cell_type": "code",
      "metadata": {
        "id": "hbwVnK8rKhE0"
      },
      "source": [
        ""
      ],
      "execution_count": null,
      "outputs": []
    }
  ]
}