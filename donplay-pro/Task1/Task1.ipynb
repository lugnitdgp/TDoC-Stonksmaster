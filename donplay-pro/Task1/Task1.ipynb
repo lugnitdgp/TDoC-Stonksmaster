{
  "nbformat": 4,
  "nbformat_minor": 0,
  "metadata": {
    "colab": {
      "name": "Task1.ipynb",
      "provenance": []
    },
    "kernelspec": {
      "name": "python3",
      "display_name": "Python 3"
    }
  },
  "cells": [
    {
      "cell_type": "code",
      "metadata": {
        "id": "mnsoEHWp3yvX",
        "outputId": "0a474edd-9734-41ad-9148-e8c62c40840e",
        "colab": {
          "base_uri": "https://localhost:8080/",
          "height": 316
        }
      },
      "source": [
        "import pandas as pd\n",
        "\n",
        "data = pd.read_csv(\"housing.csv\")\n",
        "#converting data into 2-D array\n",
        "df1 = pd.DataFrame(data)\n",
        "#storing the name of columns in a list to control the dropping\n",
        "colnam = ['RM','LSTAT','PTRATIO','MEDV']\n",
        "c = int(input(\"How many columns you want to select\"))\n",
        "#using ':' we can scling any no. of rows and dropping any no. of columns\n",
        "r=int(input(\"How many rows you want to take\"))\n",
        "df2 = pd.DataFrame(data,columns = colnam[0:c],dtype = float)\n",
        "print (df2[0:r])\n",
        "#renaming the column\n",
        "df1['a']=df1['RM']\n",
        "print(df1['a'])"
      ],
      "execution_count": 34,
      "outputs": [
        {
          "output_type": "stream",
          "text": [
            "How many columns you want to select2\n",
            "How many rows you want to take2\n",
            "      RM  LSTAT\n",
            "0  6.575   4.98\n",
            "1  6.421   9.14\n",
            "0      6.575\n",
            "1      6.421\n",
            "2      7.185\n",
            "3      6.998\n",
            "4      7.147\n",
            "       ...  \n",
            "484    6.593\n",
            "485    6.120\n",
            "486    6.976\n",
            "487    6.794\n",
            "488    6.030\n",
            "Name: a, Length: 489, dtype: float64\n"
          ],
          "name": "stdout"
        }
      ]
    }
  ]
}