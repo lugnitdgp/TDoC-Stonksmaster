{
  "nbformat": 4,
  "nbformat_minor": 0,
  "metadata": {
    "colab": {
      "name": "Untitled3.ipynb",
      "provenance": []
    },
    "kernelspec": {
      "name": "python3",
      "display_name": "Python 3"
    }
  },
  "cells": [
    {
      "cell_type": "code",
      "metadata": {
        "id": "ogz5nQZfV398",
        "outputId": "f4e359e6-0c7a-48b6-f66d-15d39b9e8896",
        "colab": {
          "base_uri": "https://localhost:8080/",
          "height": 118
        }
      },
      "source": [
        "import pandas as pd\n",
        "import datetime as dt\n",
        "import requests\n",
        "\n",
        "from datetime import datetime as dt\n",
        "\n",
        "datay='https://cloud.iexapis.com/stable/stock/aapl/chart/1y?token=pk_a4d36832d58c4fc5aef7b5ee188d48ce'\n",
        "datad='https://cloud.iexapis.com/stable/stock/aapl/chart/1d?token=pk_a4d36832d58c4fc5aef7b5ee188d48ce'\n",
        "dataday='https://cloud.iexapis.com/stable/stock/aapl/intraday-prices/batch?token=pk_a4d36832d58c4fc5aef7b5ee188d48ce'\n",
        "import json\n",
        "dd= requests.get(datad)\n",
        "dy= requests.get(datay)\n",
        "dday= requests.get(dataday)\n",
        "datad=json.loads(dd.text)\n",
        "datay=json.loads(dy.text)\n",
        "dataday=json.loads(dday.text)\n",
        "for i in datay:\n",
        "    i['minute'] = i.get('minute','09:30')\n",
        "for i in datay:\n",
        "      string= i['date']+'T'+i['minute']+':00+00:00'\n",
        "      element= dt.strptime(string,\"%Y-%m-%dT%H:%M:%S+00:00\")\n",
        "      timestamp= dt.timestamp(element)\n",
        "      i['timestamps']= i.get('timestamps',timestamp)\n",
        "for i in datad:\n",
        "       string= i['date']+'T'+i['minute']+':00+00:00'\n",
        "       element= dt.strptime(string,\"%Y-%m-%dT%H:%M:%S+00:00\")\n",
        "       timestamp= dt.timestamp(element)     \n",
        "       i['timestamps']= i.get('timestamps', timestamp)\n",
        "for i in dataday:\n",
        "        string= i['date']+'T'+i['minute']+':00+00:00'\n",
        "        element= dt.strptime(string,\"%Y-%m-%dT%H:%M:%S+00:00\")\n",
        "        timestamp= dt.timestamp(element)\n",
        "        i['timestamps']= i.get('timestamps', timestamp)\n",
        "      \n",
        "df1= pd.DataFrame(datay)\n",
        "df2= pd.DataFrame(datad)\n",
        "df3= pd.DataFrame(dataday)\n",
        "      \n",
        "frames =[df1,df2,df3]\n",
        "final =pd.concat(frames)\n",
        "final= final.drop(['date','close','high','low','volume','uOpen','uHigh','uLow','uVolume','change','label','changeOverTime','minute','uClose','changePercent','average','notional','numberOfTrades'],axis=1)\n",
        "print(final.head())"
      ],
      "execution_count": 15,
      "outputs": [
        {
          "output_type": "stream",
          "text": [
            "    open    timestamps\n",
            "0  56.98  1.570700e+09\n",
            "1  58.24  1.570786e+09\n",
            "2  58.73  1.571045e+09\n",
            "3  59.10  1.571132e+09\n",
            "4  58.34  1.571218e+09\n"
          ],
          "name": "stdout"
        }
      ]
    },
    {
      "cell_type": "code",
      "metadata": {
        "id": "41n4oqvKX3iH"
      },
      "source": [
        ""
      ],
      "execution_count": null,
      "outputs": []
    }
  ]
}