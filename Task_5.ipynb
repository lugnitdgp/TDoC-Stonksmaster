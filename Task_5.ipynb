{
  "nbformat": 4,
  "nbformat_minor": 0,
  "metadata": {
    "colab": {
      "name": "Task_5.ipynb",
      "provenance": [],
      "authorship_tag": "ABX9TyMDyW3dYDvpyEFVok/n7iLB"
    },
    "kernelspec": {
      "name": "python3",
      "display_name": "Python 3"
    }
  },
  "cells": [
    {
      "cell_type": "markdown",
      "metadata": {
        "id": "xVh1lxi-ajrA"
      },
      "source": [
        "Importing required libraries"
      ]
    },
    {
      "cell_type": "code",
      "metadata": {
        "id": "ZrKklXP98uMW"
      },
      "source": [
        "import math\n",
        "import pandas_datareader as web\n",
        "import numpy as np\n",
        "import pandas as pd\n",
        "import matplotlib.pyplot as plt\n",
        "import pandas_datareader as web"
      ],
      "execution_count": 6,
      "outputs": []
    },
    {
      "cell_type": "markdown",
      "metadata": {
        "id": "LmIpaHSaaoGP"
      },
      "source": [
        "Importing stock data"
      ]
    },
    {
      "cell_type": "code",
      "metadata": {
        "id": "lJoZire3QqKe",
        "outputId": "0f750dd3-7109-4a86-c9b9-c55c64b341c9",
        "colab": {
          "base_uri": "https://localhost:8080/",
          "height": 455
        }
      },
      "source": [
        "df = web.DataReader('AAPL', data_source='yahoo', start='2010-01-01', end='2020-10-08')\n",
        "df"
      ],
      "execution_count": 7,
      "outputs": [
        {
          "output_type": "execute_result",
          "data": {
            "text/html": [
              "<div>\n",
              "<style scoped>\n",
              "    .dataframe tbody tr th:only-of-type {\n",
              "        vertical-align: middle;\n",
              "    }\n",
              "\n",
              "    .dataframe tbody tr th {\n",
              "        vertical-align: top;\n",
              "    }\n",
              "\n",
              "    .dataframe thead th {\n",
              "        text-align: right;\n",
              "    }\n",
              "</style>\n",
              "<table border=\"1\" class=\"dataframe\">\n",
              "  <thead>\n",
              "    <tr style=\"text-align: right;\">\n",
              "      <th></th>\n",
              "      <th>High</th>\n",
              "      <th>Low</th>\n",
              "      <th>Open</th>\n",
              "      <th>Close</th>\n",
              "      <th>Volume</th>\n",
              "      <th>Adj Close</th>\n",
              "    </tr>\n",
              "    <tr>\n",
              "      <th>Date</th>\n",
              "      <th></th>\n",
              "      <th></th>\n",
              "      <th></th>\n",
              "      <th></th>\n",
              "      <th></th>\n",
              "      <th></th>\n",
              "    </tr>\n",
              "  </thead>\n",
              "  <tbody>\n",
              "    <tr>\n",
              "      <th>2010-01-04</th>\n",
              "      <td>7.660714</td>\n",
              "      <td>7.585000</td>\n",
              "      <td>7.622500</td>\n",
              "      <td>7.643214</td>\n",
              "      <td>493729600.0</td>\n",
              "      <td>6.604801</td>\n",
              "    </tr>\n",
              "    <tr>\n",
              "      <th>2010-01-05</th>\n",
              "      <td>7.699643</td>\n",
              "      <td>7.616071</td>\n",
              "      <td>7.664286</td>\n",
              "      <td>7.656428</td>\n",
              "      <td>601904800.0</td>\n",
              "      <td>6.616219</td>\n",
              "    </tr>\n",
              "    <tr>\n",
              "      <th>2010-01-06</th>\n",
              "      <td>7.686786</td>\n",
              "      <td>7.526786</td>\n",
              "      <td>7.656428</td>\n",
              "      <td>7.534643</td>\n",
              "      <td>552160000.0</td>\n",
              "      <td>6.510980</td>\n",
              "    </tr>\n",
              "    <tr>\n",
              "      <th>2010-01-07</th>\n",
              "      <td>7.571429</td>\n",
              "      <td>7.466072</td>\n",
              "      <td>7.562500</td>\n",
              "      <td>7.520714</td>\n",
              "      <td>477131200.0</td>\n",
              "      <td>6.498945</td>\n",
              "    </tr>\n",
              "    <tr>\n",
              "      <th>2010-01-08</th>\n",
              "      <td>7.571429</td>\n",
              "      <td>7.466429</td>\n",
              "      <td>7.510714</td>\n",
              "      <td>7.570714</td>\n",
              "      <td>447610800.0</td>\n",
              "      <td>6.542150</td>\n",
              "    </tr>\n",
              "    <tr>\n",
              "      <th>...</th>\n",
              "      <td>...</td>\n",
              "      <td>...</td>\n",
              "      <td>...</td>\n",
              "      <td>...</td>\n",
              "      <td>...</td>\n",
              "      <td>...</td>\n",
              "    </tr>\n",
              "    <tr>\n",
              "      <th>2020-10-02</th>\n",
              "      <td>115.370003</td>\n",
              "      <td>112.220001</td>\n",
              "      <td>112.889999</td>\n",
              "      <td>113.019997</td>\n",
              "      <td>144712000.0</td>\n",
              "      <td>113.019997</td>\n",
              "    </tr>\n",
              "    <tr>\n",
              "      <th>2020-10-05</th>\n",
              "      <td>116.650002</td>\n",
              "      <td>113.550003</td>\n",
              "      <td>113.910004</td>\n",
              "      <td>116.500000</td>\n",
              "      <td>106243800.0</td>\n",
              "      <td>116.500000</td>\n",
              "    </tr>\n",
              "    <tr>\n",
              "      <th>2020-10-06</th>\n",
              "      <td>116.120003</td>\n",
              "      <td>112.250000</td>\n",
              "      <td>115.699997</td>\n",
              "      <td>113.160004</td>\n",
              "      <td>161498200.0</td>\n",
              "      <td>113.160004</td>\n",
              "    </tr>\n",
              "    <tr>\n",
              "      <th>2020-10-07</th>\n",
              "      <td>115.550003</td>\n",
              "      <td>114.129997</td>\n",
              "      <td>114.620003</td>\n",
              "      <td>115.080002</td>\n",
              "      <td>96849000.0</td>\n",
              "      <td>115.080002</td>\n",
              "    </tr>\n",
              "    <tr>\n",
              "      <th>2020-10-08</th>\n",
              "      <td>116.400002</td>\n",
              "      <td>114.589996</td>\n",
              "      <td>116.250000</td>\n",
              "      <td>114.970001</td>\n",
              "      <td>83032000.0</td>\n",
              "      <td>114.970001</td>\n",
              "    </tr>\n",
              "  </tbody>\n",
              "</table>\n",
              "<p>2711 rows × 6 columns</p>\n",
              "</div>"
            ],
            "text/plain": [
              "                  High         Low  ...       Volume   Adj Close\n",
              "Date                                ...                         \n",
              "2010-01-04    7.660714    7.585000  ...  493729600.0    6.604801\n",
              "2010-01-05    7.699643    7.616071  ...  601904800.0    6.616219\n",
              "2010-01-06    7.686786    7.526786  ...  552160000.0    6.510980\n",
              "2010-01-07    7.571429    7.466072  ...  477131200.0    6.498945\n",
              "2010-01-08    7.571429    7.466429  ...  447610800.0    6.542150\n",
              "...                ...         ...  ...          ...         ...\n",
              "2020-10-02  115.370003  112.220001  ...  144712000.0  113.019997\n",
              "2020-10-05  116.650002  113.550003  ...  106243800.0  116.500000\n",
              "2020-10-06  116.120003  112.250000  ...  161498200.0  113.160004\n",
              "2020-10-07  115.550003  114.129997  ...   96849000.0  115.080002\n",
              "2020-10-08  116.400002  114.589996  ...   83032000.0  114.970001\n",
              "\n",
              "[2711 rows x 6 columns]"
            ]
          },
          "metadata": {
            "tags": []
          },
          "execution_count": 7
        }
      ]
    },
    {
      "cell_type": "markdown",
      "metadata": {
        "id": "wX_b5ciqatPn"
      },
      "source": [
        "Dropping unneccesary columns"
      ]
    },
    {
      "cell_type": "code",
      "metadata": {
        "id": "_ujyFUROcjKi",
        "outputId": "1c36e875-0307-456c-db23-4baecc1b41b8",
        "colab": {
          "base_uri": "https://localhost:8080/",
          "height": 455
        }
      },
      "source": [
        "dataset = df.values\n",
        "dataset=df.drop(columns=['High','Low','Close','Adj Close','Volume'])\n",
        "dataset"
      ],
      "execution_count": 8,
      "outputs": [
        {
          "output_type": "execute_result",
          "data": {
            "text/html": [
              "<div>\n",
              "<style scoped>\n",
              "    .dataframe tbody tr th:only-of-type {\n",
              "        vertical-align: middle;\n",
              "    }\n",
              "\n",
              "    .dataframe tbody tr th {\n",
              "        vertical-align: top;\n",
              "    }\n",
              "\n",
              "    .dataframe thead th {\n",
              "        text-align: right;\n",
              "    }\n",
              "</style>\n",
              "<table border=\"1\" class=\"dataframe\">\n",
              "  <thead>\n",
              "    <tr style=\"text-align: right;\">\n",
              "      <th></th>\n",
              "      <th>Open</th>\n",
              "    </tr>\n",
              "    <tr>\n",
              "      <th>Date</th>\n",
              "      <th></th>\n",
              "    </tr>\n",
              "  </thead>\n",
              "  <tbody>\n",
              "    <tr>\n",
              "      <th>2010-01-04</th>\n",
              "      <td>7.622500</td>\n",
              "    </tr>\n",
              "    <tr>\n",
              "      <th>2010-01-05</th>\n",
              "      <td>7.664286</td>\n",
              "    </tr>\n",
              "    <tr>\n",
              "      <th>2010-01-06</th>\n",
              "      <td>7.656428</td>\n",
              "    </tr>\n",
              "    <tr>\n",
              "      <th>2010-01-07</th>\n",
              "      <td>7.562500</td>\n",
              "    </tr>\n",
              "    <tr>\n",
              "      <th>2010-01-08</th>\n",
              "      <td>7.510714</td>\n",
              "    </tr>\n",
              "    <tr>\n",
              "      <th>...</th>\n",
              "      <td>...</td>\n",
              "    </tr>\n",
              "    <tr>\n",
              "      <th>2020-10-02</th>\n",
              "      <td>112.889999</td>\n",
              "    </tr>\n",
              "    <tr>\n",
              "      <th>2020-10-05</th>\n",
              "      <td>113.910004</td>\n",
              "    </tr>\n",
              "    <tr>\n",
              "      <th>2020-10-06</th>\n",
              "      <td>115.699997</td>\n",
              "    </tr>\n",
              "    <tr>\n",
              "      <th>2020-10-07</th>\n",
              "      <td>114.620003</td>\n",
              "    </tr>\n",
              "    <tr>\n",
              "      <th>2020-10-08</th>\n",
              "      <td>116.250000</td>\n",
              "    </tr>\n",
              "  </tbody>\n",
              "</table>\n",
              "<p>2711 rows × 1 columns</p>\n",
              "</div>"
            ],
            "text/plain": [
              "                  Open\n",
              "Date                  \n",
              "2010-01-04    7.622500\n",
              "2010-01-05    7.664286\n",
              "2010-01-06    7.656428\n",
              "2010-01-07    7.562500\n",
              "2010-01-08    7.510714\n",
              "...                ...\n",
              "2020-10-02  112.889999\n",
              "2020-10-05  113.910004\n",
              "2020-10-06  115.699997\n",
              "2020-10-07  114.620003\n",
              "2020-10-08  116.250000\n",
              "\n",
              "[2711 rows x 1 columns]"
            ]
          },
          "metadata": {
            "tags": []
          },
          "execution_count": 8
        }
      ]
    },
    {
      "cell_type": "markdown",
      "metadata": {
        "id": "tlY48kboayTE"
      },
      "source": [
        "Making Date a column"
      ]
    },
    {
      "cell_type": "code",
      "metadata": {
        "id": "lv6t5v4EqXom",
        "outputId": "98c2e679-a37c-4bab-d5e7-e5a579798505",
        "colab": {
          "base_uri": "https://localhost:8080/",
          "height": 424
        }
      },
      "source": [
        "ds=dataset.reset_index()\n",
        "ds"
      ],
      "execution_count": 9,
      "outputs": [
        {
          "output_type": "execute_result",
          "data": {
            "text/html": [
              "<div>\n",
              "<style scoped>\n",
              "    .dataframe tbody tr th:only-of-type {\n",
              "        vertical-align: middle;\n",
              "    }\n",
              "\n",
              "    .dataframe tbody tr th {\n",
              "        vertical-align: top;\n",
              "    }\n",
              "\n",
              "    .dataframe thead th {\n",
              "        text-align: right;\n",
              "    }\n",
              "</style>\n",
              "<table border=\"1\" class=\"dataframe\">\n",
              "  <thead>\n",
              "    <tr style=\"text-align: right;\">\n",
              "      <th></th>\n",
              "      <th>Date</th>\n",
              "      <th>Open</th>\n",
              "    </tr>\n",
              "  </thead>\n",
              "  <tbody>\n",
              "    <tr>\n",
              "      <th>0</th>\n",
              "      <td>2010-01-04</td>\n",
              "      <td>7.622500</td>\n",
              "    </tr>\n",
              "    <tr>\n",
              "      <th>1</th>\n",
              "      <td>2010-01-05</td>\n",
              "      <td>7.664286</td>\n",
              "    </tr>\n",
              "    <tr>\n",
              "      <th>2</th>\n",
              "      <td>2010-01-06</td>\n",
              "      <td>7.656428</td>\n",
              "    </tr>\n",
              "    <tr>\n",
              "      <th>3</th>\n",
              "      <td>2010-01-07</td>\n",
              "      <td>7.562500</td>\n",
              "    </tr>\n",
              "    <tr>\n",
              "      <th>4</th>\n",
              "      <td>2010-01-08</td>\n",
              "      <td>7.510714</td>\n",
              "    </tr>\n",
              "    <tr>\n",
              "      <th>...</th>\n",
              "      <td>...</td>\n",
              "      <td>...</td>\n",
              "    </tr>\n",
              "    <tr>\n",
              "      <th>2706</th>\n",
              "      <td>2020-10-02</td>\n",
              "      <td>112.889999</td>\n",
              "    </tr>\n",
              "    <tr>\n",
              "      <th>2707</th>\n",
              "      <td>2020-10-05</td>\n",
              "      <td>113.910004</td>\n",
              "    </tr>\n",
              "    <tr>\n",
              "      <th>2708</th>\n",
              "      <td>2020-10-06</td>\n",
              "      <td>115.699997</td>\n",
              "    </tr>\n",
              "    <tr>\n",
              "      <th>2709</th>\n",
              "      <td>2020-10-07</td>\n",
              "      <td>114.620003</td>\n",
              "    </tr>\n",
              "    <tr>\n",
              "      <th>2710</th>\n",
              "      <td>2020-10-08</td>\n",
              "      <td>116.250000</td>\n",
              "    </tr>\n",
              "  </tbody>\n",
              "</table>\n",
              "<p>2711 rows × 2 columns</p>\n",
              "</div>"
            ],
            "text/plain": [
              "           Date        Open\n",
              "0    2010-01-04    7.622500\n",
              "1    2010-01-05    7.664286\n",
              "2    2010-01-06    7.656428\n",
              "3    2010-01-07    7.562500\n",
              "4    2010-01-08    7.510714\n",
              "...         ...         ...\n",
              "2706 2020-10-02  112.889999\n",
              "2707 2020-10-05  113.910004\n",
              "2708 2020-10-06  115.699997\n",
              "2709 2020-10-07  114.620003\n",
              "2710 2020-10-08  116.250000\n",
              "\n",
              "[2711 rows x 2 columns]"
            ]
          },
          "metadata": {
            "tags": []
          },
          "execution_count": 9
        }
      ]
    },
    {
      "cell_type": "markdown",
      "metadata": {
        "id": "Pt6kcuhRa3lH"
      },
      "source": [
        "Plotting the data obtained"
      ]
    },
    {
      "cell_type": "code",
      "metadata": {
        "id": "DbxSv7rmfMxx",
        "outputId": "3d31ea95-90fc-4659-b769-b0562a333f15",
        "colab": {
          "base_uri": "https://localhost:8080/",
          "height": 527
        }
      },
      "source": [
        "plt.figure(figsize=(16,8))\n",
        "plt.title('Open Price History', fontsize=22)\n",
        "plt.plot(df['Open'])\n",
        "plt.xlabel('Date',fontsize=18)\n",
        "plt.ylabel('Open Price USD ($)',fontsize=18)\n",
        "plt.show()"
      ],
      "execution_count": 10,
      "outputs": [
        {
          "output_type": "display_data",
          "data": {
            "image/png": "[encoded data removed]",
            "text/plain": [
              "<Figure size 1152x576 with 1 Axes>"
            ]
          },
          "metadata": {
            "tags": [],
            "needs_background": "light"
          }
        }
      ]
    },
    {
      "cell_type": "markdown",
      "metadata": {
        "id": "eeMD_JaydlU8"
      },
      "source": [
        "Converting Data to arrays with time stamp"
      ]
    },
    {
      "cell_type": "code",
      "metadata": {
        "id": "ozDPaqx2dg0f",
        "outputId": "06373953-5ff5-491b-85be-13b1c0006d2a",
        "colab": {
          "base_uri": "https://localhost:8080/",
          "height": 147
        }
      },
      "source": [
        "arr= ds.values\n",
        "arr"
      ],
      "execution_count": 11,
      "outputs": [
        {
          "output_type": "execute_result",
          "data": {
            "text/plain": [
              "array([[Timestamp('2010-01-04 00:00:00'), 7.622499942779541],\n",
              "       [Timestamp('2010-01-05 00:00:00'), 7.664285659790039],\n",
              "       [Timestamp('2010-01-06 00:00:00'), 7.656428337097168],\n",
              "       ...,\n",
              "       [Timestamp('2020-10-06 00:00:00'), 115.69999694824219],\n",
              "       [Timestamp('2020-10-07 00:00:00'), 114.62000274658203],\n",
              "       [Timestamp('2020-10-08 00:00:00'), 116.25]], dtype=object)"
            ]
          },
          "metadata": {
            "tags": []
          },
          "execution_count": 11
        }
      ]
    }
  ]
}