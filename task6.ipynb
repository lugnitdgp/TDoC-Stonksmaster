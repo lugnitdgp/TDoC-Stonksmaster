{
  "nbformat": 4,
  "nbformat_minor": 0,
  "metadata": {
    "colab": {
      "name": "task6.ipynb",
      "provenance": []
    },
    "kernelspec": {
      "name": "python3",
      "display_name": "Python 3"
    }
  },
  "cells": [
    {
      "cell_type": "code",
      "metadata": {
        "id": "f0QMH6opW65D",
        "outputId": "8a044e28-cfe4-4544-e642-fe0e7112cdeb",
        "colab": {
          "base_uri": "https://localhost:8080/",
          "height": 243
        }
      },
      "source": [
        "!pip install yfinance"
      ],
      "execution_count": 232,
      "outputs": [
        {
          "output_type": "stream",
          "text": [
            "Requirement already satisfied: yfinance in /usr/local/lib/python3.6/dist-packages (0.1.55)\n",
            "Requirement already satisfied: multitasking>=0.0.7 in /usr/local/lib/python3.6/dist-packages (from yfinance) (0.0.9)\n",
            "Requirement already satisfied: lxml>=4.5.1 in /usr/local/lib/python3.6/dist-packages (from yfinance) (4.5.2)\n",
            "Requirement already satisfied: requests>=2.20 in /usr/local/lib/python3.6/dist-packages (from yfinance) (2.23.0)\n",
            "Requirement already satisfied: pandas>=0.24 in /usr/local/lib/python3.6/dist-packages (from yfinance) (1.1.2)\n",
            "Requirement already satisfied: numpy>=1.15 in /usr/local/lib/python3.6/dist-packages (from yfinance) (1.18.5)\n",
            "Requirement already satisfied: chardet<4,>=3.0.2 in /usr/local/lib/python3.6/dist-packages (from requests>=2.20->yfinance) (3.0.4)\n",
            "Requirement already satisfied: certifi>=2017.4.17 in /usr/local/lib/python3.6/dist-packages (from requests>=2.20->yfinance) (2020.6.20)\n",
            "Requirement already satisfied: idna<3,>=2.5 in /usr/local/lib/python3.6/dist-packages (from requests>=2.20->yfinance) (2.10)\n",
            "Requirement already satisfied: urllib3!=1.25.0,!=1.25.1,<1.26,>=1.21.1 in /usr/local/lib/python3.6/dist-packages (from requests>=2.20->yfinance) (1.24.3)\n",
            "Requirement already satisfied: python-dateutil>=2.7.3 in /usr/local/lib/python3.6/dist-packages (from pandas>=0.24->yfinance) (2.8.1)\n",
            "Requirement already satisfied: pytz>=2017.2 in /usr/local/lib/python3.6/dist-packages (from pandas>=0.24->yfinance) (2018.9)\n",
            "Requirement already satisfied: six>=1.5 in /usr/local/lib/python3.6/dist-packages (from python-dateutil>=2.7.3->pandas>=0.24->yfinance) (1.15.0)\n"
          ],
          "name": "stdout"
        }
      ]
    },
    {
      "cell_type": "code",
      "metadata": {
        "id": "VkbxNCYGXblC"
      },
      "source": [
        "import numpy as np\n",
        "import pandas as pd\n",
        "import yfinance as yf\n",
        "from bs4 import BeautifulSoup as bs\n",
        "import seaborn as sns\n",
        "import matplotlib.pyplot as plt\n",
        "import matplotlib.dates as mdates\n",
        "import json,requests,time,datetime,requests,sys\n",
        "from io import StringIO\n",
        "\n",
        "\n",
        "\n",
        "from sklearn.preprocessing import StandardScaler\n",
        "from sklearn.model_selection import train_test_split\n",
        "from sklearn.model_selection import KFold\n",
        "from sklearn.model_selection import cross_val_score\n",
        "from sklearn.linear_model import LinearRegression\n",
        "from sklearn.linear_model import Lasso\n",
        "from sklearn.linear_model import ElasticNet\n",
        "from sklearn.tree import DecisionTreeRegressor\n",
        "from sklearn.neighbors import KNeighborsRegressor\n",
        "from sklearn.ensemble import GradientBoostingRegressor\n",
        "from sklearn.svm import SVR\n",
        "from sklearn.preprocessing import MinMaxScaler\n",
        "from sklearn.preprocessing import StandardScaler\n",
        "from sklearn.metrics import mean_squared_error, r2_score\n",
        "\n",
        "from keras.models import Sequential\n",
        "from keras.layers import Dense, LSTM\n",
        "\n",
        "plt.rcParams[\"figure.figsize\"] = (25,8)"
      ],
      "execution_count": 233,
      "outputs": []
    },
    {
      "cell_type": "code",
      "metadata": {
        "id": "7MIfn8KiXedi"
      },
      "source": [
        "ticker='googl'"
      ],
      "execution_count": 234,
      "outputs": []
    },
    {
      "cell_type": "code",
      "metadata": {
        "id": "-wiMaYKYYlWL",
        "outputId": "1a6a729d-ab81-4938-ab9c-19f4ecfb45ee",
        "colab": {
          "base_uri": "https://localhost:8080/",
          "height": 239
        }
      },
      "source": [
        "df=yf.download(tickers=ticker)\n",
        "df.head()"
      ],
      "execution_count": 235,
      "outputs": [
        {
          "output_type": "stream",
          "text": [
            "\r[*********************100%***********************]  1 of 1 completed\n"
          ],
          "name": "stdout"
        },
        {
          "output_type": "execute_result",
          "data": {
            "text/html": [
              "<div>\n",
              "<style scoped>\n",
              "    .dataframe tbody tr th:only-of-type {\n",
              "        vertical-align: middle;\n",
              "    }\n",
              "\n",
              "    .dataframe tbody tr th {\n",
              "        vertical-align: top;\n",
              "    }\n",
              "\n",
              "    .dataframe thead th {\n",
              "        text-align: right;\n",
              "    }\n",
              "</style>\n",
              "<table border=\"1\" class=\"dataframe\">\n",
              "  <thead>\n",
              "    <tr style=\"text-align: right;\">\n",
              "      <th></th>\n",
              "      <th>Open</th>\n",
              "      <th>High</th>\n",
              "      <th>Low</th>\n",
              "      <th>Close</th>\n",
              "      <th>Adj Close</th>\n",
              "      <th>Volume</th>\n",
              "    </tr>\n",
              "    <tr>\n",
              "      <th>Date</th>\n",
              "      <th></th>\n",
              "      <th></th>\n",
              "      <th></th>\n",
              "      <th></th>\n",
              "      <th></th>\n",
              "      <th></th>\n",
              "    </tr>\n",
              "  </thead>\n",
              "  <tbody>\n",
              "    <tr>\n",
              "      <th>2004-08-19</th>\n",
              "      <td>50.050049</td>\n",
              "      <td>52.082081</td>\n",
              "      <td>48.028027</td>\n",
              "      <td>50.220219</td>\n",
              "      <td>50.220219</td>\n",
              "      <td>44659000</td>\n",
              "    </tr>\n",
              "    <tr>\n",
              "      <th>2004-08-20</th>\n",
              "      <td>50.555557</td>\n",
              "      <td>54.594593</td>\n",
              "      <td>50.300301</td>\n",
              "      <td>54.209209</td>\n",
              "      <td>54.209209</td>\n",
              "      <td>22834300</td>\n",
              "    </tr>\n",
              "    <tr>\n",
              "      <th>2004-08-23</th>\n",
              "      <td>55.430431</td>\n",
              "      <td>56.796795</td>\n",
              "      <td>54.579578</td>\n",
              "      <td>54.754753</td>\n",
              "      <td>54.754753</td>\n",
              "      <td>18256100</td>\n",
              "    </tr>\n",
              "    <tr>\n",
              "      <th>2004-08-24</th>\n",
              "      <td>55.675674</td>\n",
              "      <td>55.855854</td>\n",
              "      <td>51.836838</td>\n",
              "      <td>52.487488</td>\n",
              "      <td>52.487488</td>\n",
              "      <td>15247300</td>\n",
              "    </tr>\n",
              "    <tr>\n",
              "      <th>2004-08-25</th>\n",
              "      <td>52.532532</td>\n",
              "      <td>54.054054</td>\n",
              "      <td>51.991993</td>\n",
              "      <td>53.053055</td>\n",
              "      <td>53.053055</td>\n",
              "      <td>9188600</td>\n",
              "    </tr>\n",
              "  </tbody>\n",
              "</table>\n",
              "</div>"
            ],
            "text/plain": [
              "                 Open       High        Low      Close  Adj Close    Volume\n",
              "Date                                                                       \n",
              "2004-08-19  50.050049  52.082081  48.028027  50.220219  50.220219  44659000\n",
              "2004-08-20  50.555557  54.594593  50.300301  54.209209  54.209209  22834300\n",
              "2004-08-23  55.430431  56.796795  54.579578  54.754753  54.754753  18256100\n",
              "2004-08-24  55.675674  55.855854  51.836838  52.487488  52.487488  15247300\n",
              "2004-08-25  52.532532  54.054054  51.991993  53.053055  53.053055   9188600"
            ]
          },
          "metadata": {
            "tags": []
          },
          "execution_count": 235
        }
      ]
    },
    {
      "cell_type": "code",
      "metadata": {
        "id": "LZRCfGdaYw4w",
        "outputId": "dc712b5f-0480-4959-9777-adc03bdf7c21",
        "colab": {
          "base_uri": "https://localhost:8080/",
          "height": 222
        }
      },
      "source": [
        "df.tail()"
      ],
      "execution_count": 236,
      "outputs": [
        {
          "output_type": "execute_result",
          "data": {
            "text/html": [
              "<div>\n",
              "<style scoped>\n",
              "    .dataframe tbody tr th:only-of-type {\n",
              "        vertical-align: middle;\n",
              "    }\n",
              "\n",
              "    .dataframe tbody tr th {\n",
              "        vertical-align: top;\n",
              "    }\n",
              "\n",
              "    .dataframe thead th {\n",
              "        text-align: right;\n",
              "    }\n",
              "</style>\n",
              "<table border=\"1\" class=\"dataframe\">\n",
              "  <thead>\n",
              "    <tr style=\"text-align: right;\">\n",
              "      <th></th>\n",
              "      <th>Open</th>\n",
              "      <th>High</th>\n",
              "      <th>Low</th>\n",
              "      <th>Close</th>\n",
              "      <th>Adj Close</th>\n",
              "      <th>Volume</th>\n",
              "    </tr>\n",
              "    <tr>\n",
              "      <th>Date</th>\n",
              "      <th></th>\n",
              "      <th></th>\n",
              "      <th></th>\n",
              "      <th></th>\n",
              "      <th></th>\n",
              "      <th></th>\n",
              "    </tr>\n",
              "  </thead>\n",
              "  <tbody>\n",
              "    <tr>\n",
              "      <th>2020-10-05</th>\n",
              "      <td>1462.650024</td>\n",
              "      <td>1484.699951</td>\n",
              "      <td>1460.089966</td>\n",
              "      <td>1482.829956</td>\n",
              "      <td>1482.829956</td>\n",
              "      <td>1080100</td>\n",
              "    </tr>\n",
              "    <tr>\n",
              "      <th>2020-10-06</th>\n",
              "      <td>1475.500000</td>\n",
              "      <td>1484.520020</td>\n",
              "      <td>1445.010010</td>\n",
              "      <td>1451.020020</td>\n",
              "      <td>1451.020020</td>\n",
              "      <td>1304800</td>\n",
              "    </tr>\n",
              "    <tr>\n",
              "      <th>2020-10-07</th>\n",
              "      <td>1459.310059</td>\n",
              "      <td>1468.969971</td>\n",
              "      <td>1433.229980</td>\n",
              "      <td>1459.140015</td>\n",
              "      <td>1459.140015</td>\n",
              "      <td>1805400</td>\n",
              "    </tr>\n",
              "    <tr>\n",
              "      <th>2020-10-08</th>\n",
              "      <td>1465.449951</td>\n",
              "      <td>1488.030029</td>\n",
              "      <td>1465.449951</td>\n",
              "      <td>1483.430054</td>\n",
              "      <td>1483.430054</td>\n",
              "      <td>1303800</td>\n",
              "    </tr>\n",
              "    <tr>\n",
              "      <th>2020-10-09</th>\n",
              "      <td>1492.859985</td>\n",
              "      <td>1511.849976</td>\n",
              "      <td>1487.000000</td>\n",
              "      <td>1510.449951</td>\n",
              "      <td>1510.449951</td>\n",
              "      <td>1646800</td>\n",
              "    </tr>\n",
              "  </tbody>\n",
              "</table>\n",
              "</div>"
            ],
            "text/plain": [
              "                   Open         High  ...    Adj Close   Volume\n",
              "Date                                  ...                      \n",
              "2020-10-05  1462.650024  1484.699951  ...  1482.829956  1080100\n",
              "2020-10-06  1475.500000  1484.520020  ...  1451.020020  1304800\n",
              "2020-10-07  1459.310059  1468.969971  ...  1459.140015  1805400\n",
              "2020-10-08  1465.449951  1488.030029  ...  1483.430054  1303800\n",
              "2020-10-09  1492.859985  1511.849976  ...  1510.449951  1646800\n",
              "\n",
              "[5 rows x 6 columns]"
            ]
          },
          "metadata": {
            "tags": []
          },
          "execution_count": 236
        }
      ]
    },
    {
      "cell_type": "code",
      "metadata": {
        "id": "9Ljv0ldiZUkC",
        "outputId": "80259d7c-4356-413c-a8ad-90f07dc9e272",
        "colab": {
          "base_uri": "https://localhost:8080/",
          "height": 281
        }
      },
      "source": [
        "df.describe()"
      ],
      "execution_count": 237,
      "outputs": [
        {
          "output_type": "execute_result",
          "data": {
            "text/html": [
              "<div>\n",
              "<style scoped>\n",
              "    .dataframe tbody tr th:only-of-type {\n",
              "        vertical-align: middle;\n",
              "    }\n",
              "\n",
              "    .dataframe tbody tr th {\n",
              "        vertical-align: top;\n",
              "    }\n",
              "\n",
              "    .dataframe thead th {\n",
              "        text-align: right;\n",
              "    }\n",
              "</style>\n",
              "<table border=\"1\" class=\"dataframe\">\n",
              "  <thead>\n",
              "    <tr style=\"text-align: right;\">\n",
              "      <th></th>\n",
              "      <th>Open</th>\n",
              "      <th>High</th>\n",
              "      <th>Low</th>\n",
              "      <th>Close</th>\n",
              "      <th>Adj Close</th>\n",
              "      <th>Volume</th>\n",
              "    </tr>\n",
              "  </thead>\n",
              "  <tbody>\n",
              "    <tr>\n",
              "      <th>count</th>\n",
              "      <td>4065.000000</td>\n",
              "      <td>4065.000000</td>\n",
              "      <td>4065.000000</td>\n",
              "      <td>4065.000000</td>\n",
              "      <td>4065.000000</td>\n",
              "      <td>4.065000e+03</td>\n",
              "    </tr>\n",
              "    <tr>\n",
              "      <th>mean</th>\n",
              "      <td>539.584729</td>\n",
              "      <td>544.661588</td>\n",
              "      <td>534.173108</td>\n",
              "      <td>539.576613</td>\n",
              "      <td>539.576613</td>\n",
              "      <td>6.879486e+06</td>\n",
              "    </tr>\n",
              "    <tr>\n",
              "      <th>std</th>\n",
              "      <td>388.744951</td>\n",
              "      <td>392.409972</td>\n",
              "      <td>385.085643</td>\n",
              "      <td>388.996482</td>\n",
              "      <td>388.996482</td>\n",
              "      <td>7.882561e+06</td>\n",
              "    </tr>\n",
              "    <tr>\n",
              "      <th>min</th>\n",
              "      <td>49.644646</td>\n",
              "      <td>50.920921</td>\n",
              "      <td>48.028027</td>\n",
              "      <td>50.055054</td>\n",
              "      <td>50.055054</td>\n",
              "      <td>5.206000e+05</td>\n",
              "    </tr>\n",
              "    <tr>\n",
              "      <th>25%</th>\n",
              "      <td>241.491486</td>\n",
              "      <td>244.439438</td>\n",
              "      <td>239.294296</td>\n",
              "      <td>241.376373</td>\n",
              "      <td>241.376373</td>\n",
              "      <td>1.830200e+06</td>\n",
              "    </tr>\n",
              "    <tr>\n",
              "      <th>50%</th>\n",
              "      <td>345.050049</td>\n",
              "      <td>348.123108</td>\n",
              "      <td>340.910919</td>\n",
              "      <td>345.325317</td>\n",
              "      <td>345.325317</td>\n",
              "      <td>4.167000e+06</td>\n",
              "    </tr>\n",
              "    <tr>\n",
              "      <th>75%</th>\n",
              "      <td>799.020020</td>\n",
              "      <td>803.539978</td>\n",
              "      <td>793.260010</td>\n",
              "      <td>798.820007</td>\n",
              "      <td>798.820007</td>\n",
              "      <td>8.683300e+06</td>\n",
              "    </tr>\n",
              "    <tr>\n",
              "      <th>max</th>\n",
              "      <td>1699.520020</td>\n",
              "      <td>1726.099976</td>\n",
              "      <td>1660.189941</td>\n",
              "      <td>1717.390015</td>\n",
              "      <td>1717.390015</td>\n",
              "      <td>8.215110e+07</td>\n",
              "    </tr>\n",
              "  </tbody>\n",
              "</table>\n",
              "</div>"
            ],
            "text/plain": [
              "              Open         High  ...    Adj Close        Volume\n",
              "count  4065.000000  4065.000000  ...  4065.000000  4.065000e+03\n",
              "mean    539.584729   544.661588  ...   539.576613  6.879486e+06\n",
              "std     388.744951   392.409972  ...   388.996482  7.882561e+06\n",
              "min      49.644646    50.920921  ...    50.055054  5.206000e+05\n",
              "25%     241.491486   244.439438  ...   241.376373  1.830200e+06\n",
              "50%     345.050049   348.123108  ...   345.325317  4.167000e+06\n",
              "75%     799.020020   803.539978  ...   798.820007  8.683300e+06\n",
              "max    1699.520020  1726.099976  ...  1717.390015  8.215110e+07\n",
              "\n",
              "[8 rows x 6 columns]"
            ]
          },
          "metadata": {
            "tags": []
          },
          "execution_count": 237
        }
      ]
    },
    {
      "cell_type": "code",
      "metadata": {
        "id": "B9i-ViQ9ZWUl",
        "outputId": "56927a4b-91c8-4dd6-c8e2-46768400bf91",
        "colab": {
          "base_uri": "https://localhost:8080/",
          "height": 243
        }
      },
      "source": [
        "df.info()"
      ],
      "execution_count": 238,
      "outputs": [
        {
          "output_type": "stream",
          "text": [
            "<class 'pandas.core.frame.DataFrame'>\n",
            "DatetimeIndex: 4065 entries, 2004-08-19 to 2020-10-09\n",
            "Data columns (total 6 columns):\n",
            " #   Column     Non-Null Count  Dtype  \n",
            "---  ------     --------------  -----  \n",
            " 0   Open       4065 non-null   float64\n",
            " 1   High       4065 non-null   float64\n",
            " 2   Low        4065 non-null   float64\n",
            " 3   Close      4065 non-null   float64\n",
            " 4   Adj Close  4065 non-null   float64\n",
            " 5   Volume     4065 non-null   int64  \n",
            "dtypes: float64(5), int64(1)\n",
            "memory usage: 222.3 KB\n"
          ],
          "name": "stdout"
        }
      ]
    },
    {
      "cell_type": "code",
      "metadata": {
        "id": "qXk6L-yDZaTJ"
      },
      "source": [
        "dataset=df.drop(columns=['High','Low','Close','Adj Close','Volume'])"
      ],
      "execution_count": 239,
      "outputs": []
    },
    {
      "cell_type": "code",
      "metadata": {
        "id": "q9M0VbQcaFCt",
        "outputId": "db1c31ed-74da-4657-fdac-e89d0e2f4287",
        "colab": {
          "base_uri": "https://localhost:8080/",
          "height": 222
        }
      },
      "source": [
        "dataset.head()"
      ],
      "execution_count": 240,
      "outputs": [
        {
          "output_type": "execute_result",
          "data": {
            "text/html": [
              "<div>\n",
              "<style scoped>\n",
              "    .dataframe tbody tr th:only-of-type {\n",
              "        vertical-align: middle;\n",
              "    }\n",
              "\n",
              "    .dataframe tbody tr th {\n",
              "        vertical-align: top;\n",
              "    }\n",
              "\n",
              "    .dataframe thead th {\n",
              "        text-align: right;\n",
              "    }\n",
              "</style>\n",
              "<table border=\"1\" class=\"dataframe\">\n",
              "  <thead>\n",
              "    <tr style=\"text-align: right;\">\n",
              "      <th></th>\n",
              "      <th>Open</th>\n",
              "    </tr>\n",
              "    <tr>\n",
              "      <th>Date</th>\n",
              "      <th></th>\n",
              "    </tr>\n",
              "  </thead>\n",
              "  <tbody>\n",
              "    <tr>\n",
              "      <th>2004-08-19</th>\n",
              "      <td>50.050049</td>\n",
              "    </tr>\n",
              "    <tr>\n",
              "      <th>2004-08-20</th>\n",
              "      <td>50.555557</td>\n",
              "    </tr>\n",
              "    <tr>\n",
              "      <th>2004-08-23</th>\n",
              "      <td>55.430431</td>\n",
              "    </tr>\n",
              "    <tr>\n",
              "      <th>2004-08-24</th>\n",
              "      <td>55.675674</td>\n",
              "    </tr>\n",
              "    <tr>\n",
              "      <th>2004-08-25</th>\n",
              "      <td>52.532532</td>\n",
              "    </tr>\n",
              "  </tbody>\n",
              "</table>\n",
              "</div>"
            ],
            "text/plain": [
              "                 Open\n",
              "Date                 \n",
              "2004-08-19  50.050049\n",
              "2004-08-20  50.555557\n",
              "2004-08-23  55.430431\n",
              "2004-08-24  55.675674\n",
              "2004-08-25  52.532532"
            ]
          },
          "metadata": {
            "tags": []
          },
          "execution_count": 240
        }
      ]
    },
    {
      "cell_type": "code",
      "metadata": {
        "id": "qdIK1n4paGwx",
        "outputId": "938fb032-51fd-4d3b-cf15-2bdc1ec6381a",
        "colab": {
          "base_uri": "https://localhost:8080/",
          "height": 156
        }
      },
      "source": [
        "dataset.info()"
      ],
      "execution_count": 241,
      "outputs": [
        {
          "output_type": "stream",
          "text": [
            "<class 'pandas.core.frame.DataFrame'>\n",
            "DatetimeIndex: 4065 entries, 2004-08-19 to 2020-10-09\n",
            "Data columns (total 1 columns):\n",
            " #   Column  Non-Null Count  Dtype  \n",
            "---  ------  --------------  -----  \n",
            " 0   Open    4065 non-null   float64\n",
            "dtypes: float64(1)\n",
            "memory usage: 63.5 KB\n"
          ],
          "name": "stdout"
        }
      ]
    },
    {
      "cell_type": "code",
      "metadata": {
        "id": "zHWJsc58ag0c"
      },
      "source": [
        "ds=dataset.reset_index()"
      ],
      "execution_count": 242,
      "outputs": []
    },
    {
      "cell_type": "code",
      "metadata": {
        "id": "qQOaLKlmaw1b",
        "outputId": "639ba546-a44b-45b7-9190-f5f0a55bd251",
        "colab": {
          "base_uri": "https://localhost:8080/",
          "height": 193
        }
      },
      "source": [
        "ds.head()"
      ],
      "execution_count": 243,
      "outputs": [
        {
          "output_type": "execute_result",
          "data": {
            "text/html": [
              "<div>\n",
              "<style scoped>\n",
              "    .dataframe tbody tr th:only-of-type {\n",
              "        vertical-align: middle;\n",
              "    }\n",
              "\n",
              "    .dataframe tbody tr th {\n",
              "        vertical-align: top;\n",
              "    }\n",
              "\n",
              "    .dataframe thead th {\n",
              "        text-align: right;\n",
              "    }\n",
              "</style>\n",
              "<table border=\"1\" class=\"dataframe\">\n",
              "  <thead>\n",
              "    <tr style=\"text-align: right;\">\n",
              "      <th></th>\n",
              "      <th>Date</th>\n",
              "      <th>Open</th>\n",
              "    </tr>\n",
              "  </thead>\n",
              "  <tbody>\n",
              "    <tr>\n",
              "      <th>0</th>\n",
              "      <td>2004-08-19</td>\n",
              "      <td>50.050049</td>\n",
              "    </tr>\n",
              "    <tr>\n",
              "      <th>1</th>\n",
              "      <td>2004-08-20</td>\n",
              "      <td>50.555557</td>\n",
              "    </tr>\n",
              "    <tr>\n",
              "      <th>2</th>\n",
              "      <td>2004-08-23</td>\n",
              "      <td>55.430431</td>\n",
              "    </tr>\n",
              "    <tr>\n",
              "      <th>3</th>\n",
              "      <td>2004-08-24</td>\n",
              "      <td>55.675674</td>\n",
              "    </tr>\n",
              "    <tr>\n",
              "      <th>4</th>\n",
              "      <td>2004-08-25</td>\n",
              "      <td>52.532532</td>\n",
              "    </tr>\n",
              "  </tbody>\n",
              "</table>\n",
              "</div>"
            ],
            "text/plain": [
              "        Date       Open\n",
              "0 2004-08-19  50.050049\n",
              "1 2004-08-20  50.555557\n",
              "2 2004-08-23  55.430431\n",
              "3 2004-08-24  55.675674\n",
              "4 2004-08-25  52.532532"
            ]
          },
          "metadata": {
            "tags": []
          },
          "execution_count": 243
        }
      ]
    },
    {
      "cell_type": "code",
      "metadata": {
        "id": "hNWbB2uJcQo7"
      },
      "source": [
        "arr=ds.values"
      ],
      "execution_count": 244,
      "outputs": []
    },
    {
      "cell_type": "code",
      "metadata": {
        "id": "UqQZAzdfcW62",
        "outputId": "3bb34fb2-dd1b-4710-bc10-ca9a8d467080",
        "colab": {
          "base_uri": "https://localhost:8080/",
          "height": 156
        }
      },
      "source": [
        "arr"
      ],
      "execution_count": 245,
      "outputs": [
        {
          "output_type": "execute_result",
          "data": {
            "text/plain": [
              "array([[Timestamp('2004-08-19 00:00:00'), 50.050048828125],\n",
              "       [Timestamp('2004-08-20 00:00:00'), 50.55555725097656],\n",
              "       [Timestamp('2004-08-23 00:00:00'), 55.4304313659668],\n",
              "       ...,\n",
              "       [Timestamp('2020-10-07 00:00:00'), 1459.31005859375],\n",
              "       [Timestamp('2020-10-08 00:00:00'), 1465.449951171875],\n",
              "       [Timestamp('2020-10-09 00:00:00'), 1492.8599853515625]],\n",
              "      dtype=object)"
            ]
          },
          "metadata": {
            "tags": []
          },
          "execution_count": 245
        }
      ]
    },
    {
      "cell_type": "code",
      "metadata": {
        "id": "9Y6tVtd5ciTz",
        "outputId": "4464a8f2-ffff-4b82-c924-6fe1dc53a4c1",
        "colab": {
          "base_uri": "https://localhost:8080/",
          "height": 478
        }
      },
      "source": [
        "_=sns.lineplot(x=dataset.index,y=dataset.Open)"
      ],
      "execution_count": 246,
      "outputs": [
        {
          "output_type": "display_data",
          "data": {
            "image/png": "[encoded data removed]",
            "text/plain": [
              "<Figure size 1800x576 with 1 Axes>"
            ]
          },
          "metadata": {
            "tags": [],
            "needs_background": "light"
          }
        }
      ]
    },
    {
      "cell_type": "code",
      "metadata": {
        "id": "IijY5SbFdkY5",
        "outputId": "f5635ec3-5f78-4322-8e8d-f37d8059dfbd",
        "colab": {
          "base_uri": "https://localhost:8080/",
          "height": 193
        }
      },
      "source": [
        "ds.tail()"
      ],
      "execution_count": 247,
      "outputs": [
        {
          "output_type": "execute_result",
          "data": {
            "text/html": [
              "<div>\n",
              "<style scoped>\n",
              "    .dataframe tbody tr th:only-of-type {\n",
              "        vertical-align: middle;\n",
              "    }\n",
              "\n",
              "    .dataframe tbody tr th {\n",
              "        vertical-align: top;\n",
              "    }\n",
              "\n",
              "    .dataframe thead th {\n",
              "        text-align: right;\n",
              "    }\n",
              "</style>\n",
              "<table border=\"1\" class=\"dataframe\">\n",
              "  <thead>\n",
              "    <tr style=\"text-align: right;\">\n",
              "      <th></th>\n",
              "      <th>Date</th>\n",
              "      <th>Open</th>\n",
              "    </tr>\n",
              "  </thead>\n",
              "  <tbody>\n",
              "    <tr>\n",
              "      <th>4060</th>\n",
              "      <td>2020-10-05</td>\n",
              "      <td>1462.650024</td>\n",
              "    </tr>\n",
              "    <tr>\n",
              "      <th>4061</th>\n",
              "      <td>2020-10-06</td>\n",
              "      <td>1475.500000</td>\n",
              "    </tr>\n",
              "    <tr>\n",
              "      <th>4062</th>\n",
              "      <td>2020-10-07</td>\n",
              "      <td>1459.310059</td>\n",
              "    </tr>\n",
              "    <tr>\n",
              "      <th>4063</th>\n",
              "      <td>2020-10-08</td>\n",
              "      <td>1465.449951</td>\n",
              "    </tr>\n",
              "    <tr>\n",
              "      <th>4064</th>\n",
              "      <td>2020-10-09</td>\n",
              "      <td>1492.859985</td>\n",
              "    </tr>\n",
              "  </tbody>\n",
              "</table>\n",
              "</div>"
            ],
            "text/plain": [
              "           Date         Open\n",
              "4060 2020-10-05  1462.650024\n",
              "4061 2020-10-06  1475.500000\n",
              "4062 2020-10-07  1459.310059\n",
              "4063 2020-10-08  1465.449951\n",
              "4064 2020-10-09  1492.859985"
            ]
          },
          "metadata": {
            "tags": []
          },
          "execution_count": 247
        }
      ]
    },
    {
      "cell_type": "code",
      "metadata": {
        "id": "d1i8qTZrfPGp",
        "outputId": "c1d1b072-b1fc-4566-91a8-f48eaca233e1",
        "colab": {
          "base_uri": "https://localhost:8080/",
          "height": 156
        }
      },
      "source": [
        "arr=dataset.reset_index().values\n",
        "arr"
      ],
      "execution_count": 248,
      "outputs": [
        {
          "output_type": "execute_result",
          "data": {
            "text/plain": [
              "array([[Timestamp('2004-08-19 00:00:00'), 50.050048828125],\n",
              "       [Timestamp('2004-08-20 00:00:00'), 50.55555725097656],\n",
              "       [Timestamp('2004-08-23 00:00:00'), 55.4304313659668],\n",
              "       ...,\n",
              "       [Timestamp('2020-10-07 00:00:00'), 1459.31005859375],\n",
              "       [Timestamp('2020-10-08 00:00:00'), 1465.449951171875],\n",
              "       [Timestamp('2020-10-09 00:00:00'), 1492.8599853515625]],\n",
              "      dtype=object)"
            ]
          },
          "metadata": {
            "tags": []
          },
          "execution_count": 248
        }
      ]
    },
    {
      "cell_type": "code",
      "metadata": {
        "id": "vh2E8KuiR5BH",
        "outputId": "47418df9-6a26-4920-c70d-0b4d888e728a",
        "colab": {
          "base_uri": "https://localhost:8080/",
          "height": 34
        }
      },
      "source": [
        "X = arr[:, 0]\n",
        "Y = arr[:, 1]\n",
        "arr.shape"
      ],
      "execution_count": 249,
      "outputs": [
        {
          "output_type": "execute_result",
          "data": {
            "text/plain": [
              "(4065, 2)"
            ]
          },
          "metadata": {
            "tags": []
          },
          "execution_count": 249
        }
      ]
    },
    {
      "cell_type": "code",
      "metadata": {
        "id": "wGMSDXiiSHXS",
        "outputId": "c8588090-d48e-468d-c04b-793bce96f0a5",
        "colab": {
          "base_uri": "https://localhost:8080/",
          "height": 34
        }
      },
      "source": [
        "X.shape"
      ],
      "execution_count": 250,
      "outputs": [
        {
          "output_type": "execute_result",
          "data": {
            "text/plain": [
              "(4065,)"
            ]
          },
          "metadata": {
            "tags": []
          },
          "execution_count": 250
        }
      ]
    },
    {
      "cell_type": "code",
      "metadata": {
        "id": "T5LfGTNUTmxu",
        "outputId": "a8bdf0af-43cd-4fa7-9e0f-f0a166eb42a4",
        "colab": {
          "base_uri": "https://localhost:8080/",
          "height": 34
        }
      },
      "source": [
        "train_size=int(arr.shape[0]*0.75)\n",
        "train_size"
      ],
      "execution_count": 251,
      "outputs": [
        {
          "output_type": "execute_result",
          "data": {
            "text/plain": [
              "3048"
            ]
          },
          "metadata": {
            "tags": []
          },
          "execution_count": 251
        }
      ]
    },
    {
      "cell_type": "code",
      "metadata": {
        "id": "mdYv9c2IVoRn",
        "outputId": "e3024c2c-4204-4050-87a9-efb81fe1a967",
        "colab": {
          "base_uri": "https://localhost:8080/",
          "height": 34
        }
      },
      "source": [
        "validation_size=int(arr.shape[0]*0.15)\n",
        "validation_size"
      ],
      "execution_count": 252,
      "outputs": [
        {
          "output_type": "execute_result",
          "data": {
            "text/plain": [
              "609"
            ]
          },
          "metadata": {
            "tags": []
          },
          "execution_count": 252
        }
      ]
    },
    {
      "cell_type": "code",
      "metadata": {
        "id": "7drapO3XVvo3",
        "outputId": "81429ee2-9a28-441d-81ec-21fb00438ee5",
        "colab": {
          "base_uri": "https://localhost:8080/",
          "height": 34
        }
      },
      "source": [
        "test_size=arr.shape[0]-(train_size+validation_size)\n",
        "test_size"
      ],
      "execution_count": 253,
      "outputs": [
        {
          "output_type": "execute_result",
          "data": {
            "text/plain": [
              "408"
            ]
          },
          "metadata": {
            "tags": []
          },
          "execution_count": 253
        }
      ]
    },
    {
      "cell_type": "code",
      "metadata": {
        "id": "GhsLPW_sV8HW",
        "outputId": "38498f1e-f8cb-4885-930d-1ec30369b9b3",
        "colab": {
          "base_uri": "https://localhost:8080/",
          "height": 138
        }
      },
      "source": [
        "scaler = MinMaxScaler(feature_range=(0, 1)) \n",
        "scaled_data = scaler.fit_transform(dataset)\n",
        "scaled_data"
      ],
      "execution_count": 254,
      "outputs": [
        {
          "output_type": "execute_result",
          "data": {
            "text/plain": [
              "array([[2.45717430e-04],\n",
              "       [5.52109314e-04],\n",
              "       [3.50680165e-03],\n",
              "       ...,\n",
              "       [8.54407209e-01],\n",
              "       [8.58128637e-01],\n",
              "       [8.74742034e-01]])"
            ]
          },
          "metadata": {
            "tags": []
          },
          "execution_count": 254
        }
      ]
    },
    {
      "cell_type": "code",
      "metadata": {
        "id": "Eqw7BPT2WN8x",
        "outputId": "c36ef41b-e4e5-41f6-b673-6f357e204bed",
        "colab": {
          "base_uri": "https://localhost:8080/",
          "height": 34
        }
      },
      "source": [
        "training_data=scaled_data[:train_size,:]\n",
        "training_data.shape"
      ],
      "execution_count": 255,
      "outputs": [
        {
          "output_type": "execute_result",
          "data": {
            "text/plain": [
              "(3048, 1)"
            ]
          },
          "metadata": {
            "tags": []
          },
          "execution_count": 255
        }
      ]
    },
    {
      "cell_type": "code",
      "metadata": {
        "id": "C5ZtKs7LcNmB",
        "outputId": "362b866e-f8b6-4bf2-9a79-ec0b5c74a630",
        "colab": {
          "base_uri": "https://localhost:8080/",
          "height": 138
        }
      },
      "source": [
        "training_data"
      ],
      "execution_count": 256,
      "outputs": [
        {
          "output_type": "execute_result",
          "data": {
            "text/plain": [
              "array([[2.45717430e-04],\n",
              "       [5.52109314e-04],\n",
              "       [3.50680165e-03],\n",
              "       ...,\n",
              "       [4.60856236e-01],\n",
              "       [4.63971631e-01],\n",
              "       [4.60747141e-01]])"
            ]
          },
          "metadata": {
            "tags": []
          },
          "execution_count": 256
        }
      ]
    },
    {
      "cell_type": "code",
      "metadata": {
        "id": "Gt6JGxf2nqop"
      },
      "source": [
        "def prepare_x(the_data):\n",
        "  x=[]\n",
        "  for i in range(120,the_data.shape[0]):\n",
        "    x.append(the_data[i-120:i,0])\n",
        "  x=np.array(x)\n",
        "  X = np.reshape(x, (x.shape[0],x.shape[1],1))\n",
        "  return X\n"
      ],
      "execution_count": 257,
      "outputs": []
    },
    {
      "cell_type": "code",
      "metadata": {
        "id": "CJlkHHHVYQqM",
        "outputId": "766a93fa-8415-46fd-ee39-b30f57dd1012",
        "colab": {
          "base_uri": "https://localhost:8080/",
          "height": 156
        }
      },
      "source": [
        "x_data=df.index[:train_size]\n",
        "x_data"
      ],
      "execution_count": 258,
      "outputs": [
        {
          "output_type": "execute_result",
          "data": {
            "text/plain": [
              "DatetimeIndex(['2004-08-19', '2004-08-20', '2004-08-23', '2004-08-24',\n",
              "               '2004-08-25', '2004-08-26', '2004-08-27', '2004-08-30',\n",
              "               '2004-08-31', '2004-09-01',\n",
              "               ...\n",
              "               '2016-09-13', '2016-09-14', '2016-09-15', '2016-09-16',\n",
              "               '2016-09-19', '2016-09-20', '2016-09-21', '2016-09-22',\n",
              "               '2016-09-23', '2016-09-26'],\n",
              "              dtype='datetime64[ns]', name='Date', length=3048, freq=None)"
            ]
          },
          "metadata": {
            "tags": []
          },
          "execution_count": 258
        }
      ]
    },
    {
      "cell_type": "code",
      "metadata": {
        "id": "9-CSW4SqZZlG",
        "outputId": "8b82945b-d2e5-4c7f-9405-ed5020f3eeb4",
        "colab": {
          "base_uri": "https://localhost:8080/",
          "height": 138
        }
      },
      "source": [
        "y_train=training_data\n",
        "y_train"
      ],
      "execution_count": 259,
      "outputs": [
        {
          "output_type": "execute_result",
          "data": {
            "text/plain": [
              "array([[2.45717430e-04],\n",
              "       [5.52109314e-04],\n",
              "       [3.50680165e-03],\n",
              "       ...,\n",
              "       [4.60856236e-01],\n",
              "       [4.63971631e-01],\n",
              "       [4.60747141e-01]])"
            ]
          },
          "metadata": {
            "tags": []
          },
          "execution_count": 259
        }
      ]
    },
    {
      "cell_type": "code",
      "metadata": {
        "id": "HdculSfuZmp0"
      },
      "source": [
        "X_train=prepare_x(training_data)\n",
        "y_train=[]"
      ],
      "execution_count": 260,
      "outputs": []
    },
    {
      "cell_type": "code",
      "metadata": {
        "id": "gq5uRJe8aR6c"
      },
      "source": [
        "for i in range(120,training_data.shape[0]):\n",
        "  y_train.append(training_data[i,0])\n",
        "\n"
      ],
      "execution_count": 261,
      "outputs": []
    },
    {
      "cell_type": "code",
      "metadata": {
        "id": "taY-whmVdGWt",
        "outputId": "e52a0248-7148-4894-f893-175d116fbb09",
        "colab": {
          "base_uri": "https://localhost:8080/",
          "height": 34
        }
      },
      "source": [
        "#x_train=np.array(x_train)\n",
        "y_train=np.array(y_train)\n",
        "x_train.shape"
      ],
      "execution_count": 262,
      "outputs": [
        {
          "output_type": "execute_result",
          "data": {
            "text/plain": [
              "(2928, 120)"
            ]
          },
          "metadata": {
            "tags": []
          },
          "execution_count": 262
        }
      ]
    },
    {
      "cell_type": "code",
      "metadata": {
        "id": "GGGv_iBuf8SP"
      },
      "source": [
        "#X_train = np.reshape(x_train, (x_train.shape[0],x_train.shape[1],1))\n",
        "#X_train.shape"
      ],
      "execution_count": 263,
      "outputs": []
    },
    {
      "cell_type": "code",
      "metadata": {
        "id": "DW8EsLcEgRMZ"
      },
      "source": [
        "model = Sequential()\n",
        "model.add(LSTM(units=50, return_sequences=True,input_shape=(X_train.shape[1],1)))\n",
        "model.add(LSTM(units=50, return_sequences=False))\n",
        "model.add(Dense(units=25))\n",
        "model.add(Dense(units=1))"
      ],
      "execution_count": 264,
      "outputs": []
    },
    {
      "cell_type": "code",
      "metadata": {
        "id": "O9R07shXgji6"
      },
      "source": [
        "model.compile(optimizer='adam', loss='mean_squared_error')"
      ],
      "execution_count": 265,
      "outputs": []
    },
    {
      "cell_type": "code",
      "metadata": {
        "id": "9ZV-QfmqhYBh",
        "outputId": "94f1249e-262b-4e2e-d4cf-444d164ce9b1",
        "colab": {
          "base_uri": "https://localhost:8080/",
          "height": 103
        }
      },
      "source": [
        "model.fit(X_train, y_train, batch_size=1, epochs=2)\n"
      ],
      "execution_count": 266,
      "outputs": [
        {
          "output_type": "stream",
          "text": [
            "Epoch 1/2\n",
            "2928/2928 [==============================] - 133s 46ms/step - loss: 2.4383e-04\n",
            "Epoch 2/2\n",
            "2928/2928 [==============================] - 123s 42ms/step - loss: 1.1389e-04\n"
          ],
          "name": "stdout"
        },
        {
          "output_type": "execute_result",
          "data": {
            "text/plain": [
              "<tensorflow.python.keras.callbacks.History at 0x7f44fffa76d8>"
            ]
          },
          "metadata": {
            "tags": []
          },
          "execution_count": 266
        }
      ]
    },
    {
      "cell_type": "code",
      "metadata": {
        "id": "HGSx6a-ijUaC"
      },
      "source": [
        "test_data = scaled_data[train_size -120:train_size+validation_size, : ]\n",
        "test_data"
      ],
      "execution_count": null,
      "outputs": []
    },
    {
      "cell_type": "code",
      "metadata": {
        "id": "lIabmua7ml0V"
      },
      "source": [
        "\n"
      ],
      "execution_count": 267,
      "outputs": []
    },
    {
      "cell_type": "code",
      "metadata": {
        "id": "ufKwNbbmj7ld"
      },
      "source": [
        "x_valid=[]\n",
        "y_valid=scaled_data[train_size:train_size+validation_size,:]"
      ],
      "execution_count": 268,
      "outputs": []
    },
    {
      "cell_type": "code",
      "metadata": {
        "id": "VReCIPEAkBL2"
      },
      "source": [
        "for i in range(120,test_data.shape[0]):\n",
        "    x_valid.append(test_data[i-120:i,0])"
      ],
      "execution_count": 269,
      "outputs": []
    },
    {
      "cell_type": "code",
      "metadata": {
        "id": "jLpfREFSkOL1"
      },
      "source": [
        "x_valid=np.array(x_valid)"
      ],
      "execution_count": 270,
      "outputs": []
    },
    {
      "cell_type": "code",
      "metadata": {
        "id": "v8NVkF8fkZom"
      },
      "source": [
        "X_valid = np.reshape(x_valid, (x_valid.shape[0],x_valid.shape[1],1))\n"
      ],
      "execution_count": 271,
      "outputs": []
    },
    {
      "cell_type": "code",
      "metadata": {
        "id": "XE8r6YUBnW16"
      },
      "source": [
        "X_valid=prepare_x(test_data)"
      ],
      "execution_count": 272,
      "outputs": []
    },
    {
      "cell_type": "code",
      "metadata": {
        "id": "eHnIzxWpkmX4"
      },
      "source": [
        "predictions = model.predict(X_valid) \n",
        "predictions = scaler.inverse_transform(predictions)"
      ],
      "execution_count": 273,
      "outputs": []
    },
    {
      "cell_type": "code",
      "metadata": {
        "id": "aAnAmErdlJyM",
        "outputId": "54d79be2-4b32-49d6-d348-3972cd7dbe42",
        "colab": {
          "base_uri": "https://localhost:8080/",
          "height": 34
        }
      },
      "source": [
        "predictions.shape"
      ],
      "execution_count": 274,
      "outputs": [
        {
          "output_type": "execute_result",
          "data": {
            "text/plain": [
              "(609, 1)"
            ]
          },
          "metadata": {
            "tags": []
          },
          "execution_count": 274
        }
      ]
    },
    {
      "cell_type": "code",
      "metadata": {
        "id": "QX1baLBfkt_7",
        "outputId": "0ce605fc-cf0b-4a82-d895-dce4019a128b",
        "colab": {
          "base_uri": "https://localhost:8080/",
          "height": 34
        }
      },
      "source": [
        "rmse=np.sqrt(np.mean(((predictions- y_valid)**2)))\n",
        "rmse"
      ],
      "execution_count": 275,
      "outputs": [
        {
          "output_type": "execute_result",
          "data": {
            "text/plain": [
              "993.3876551722582"
            ]
          },
          "metadata": {
            "tags": []
          },
          "execution_count": 275
        }
      ]
    },
    {
      "cell_type": "code",
      "metadata": {
        "id": "qEU6rE1Kk6rI"
      },
      "source": [
        ""
      ],
      "execution_count": 275,
      "outputs": []
    },
    {
      "cell_type": "code",
      "metadata": {
        "id": "7Q5h6VQzlj8k"
      },
      "source": [
        ""
      ],
      "execution_count": 275,
      "outputs": []
    },
    {
      "cell_type": "code",
      "metadata": {
        "id": "OYEsbZiOlkEh"
      },
      "source": [
        ""
      ],
      "execution_count": 275,
      "outputs": []
    },
    {
      "cell_type": "code",
      "metadata": {
        "id": "yKMKqWlMlj0y",
        "outputId": "d2da3580-04d4-47b2-da23-7ed8d45b7d4e",
        "colab": {
          "base_uri": "https://localhost:8080/",
          "height": 121
        }
      },
      "source": [
        "train = dataset[:train_size]\n",
        "valid = dataset[train_size:train_size+validation_size]\n",
        "valid['Predictions'] = predictions"
      ],
      "execution_count": 276,
      "outputs": [
        {
          "output_type": "stream",
          "text": [
            "/usr/local/lib/python3.6/dist-packages/ipykernel_launcher.py:3: SettingWithCopyWarning: \n",
            "A value is trying to be set on a copy of a slice from a DataFrame.\n",
            "Try using .loc[row_indexer,col_indexer] = value instead\n",
            "\n",
            "See the caveats in the documentation: https://pandas.pydata.org/pandas-docs/stable/user_guide/indexing.html#returning-a-view-versus-a-copy\n",
            "  This is separate from the ipykernel package so we can avoid doing imports until\n"
          ],
          "name": "stderr"
        }
      ]
    },
    {
      "cell_type": "code",
      "metadata": {
        "id": "ckHpL5iKlvAf",
        "outputId": "05a2f1fe-1677-4eea-e9ba-0088fdc4d765",
        "colab": {
          "base_uri": "https://localhost:8080/",
          "height": 575
        }
      },
      "source": [
        "plt.figure(figsize=(20,9))\n",
        "plt.title('Model')\n",
        "plt.xlabel('Date', fontsize=18)\n",
        "plt.ylabel('Open Price USD ($)', fontsize=18)\n",
        "plt.plot(train['Open'])\n",
        "plt.plot(valid[['Open', 'Predictions']])\n",
        "plt.legend(['Train', 'Val', 'Predictions'], loc='lower right')\n",
        "plt.show()"
      ],
      "execution_count": 277,
      "outputs": [
        {
          "output_type": "display_data",
          "data": {
            "image/png": "[encoded data removed]",
            "text/plain": [
              "<Figure size 1440x648 with 1 Axes>"
            ]
          },
          "metadata": {
            "tags": [],
            "needs_background": "light"
          }
        }
      ]
    },
    {
      "cell_type": "code",
      "metadata": {
        "id": "v2Fn7vsAmOmZ"
      },
      "source": [
        ""
      ],
      "execution_count": 277,
      "outputs": []
    }
  ]
}