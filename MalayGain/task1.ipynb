{
 "cells": [
  {
   "cell_type": "code",
   "execution_count": 14,
   "metadata": {
    "scrolled": true
   },
   "outputs": [
    {
     "name": "stdout",
     "output_type": "stream",
     "text": [
      "[[6.575e+00 4.980e+00 1.530e+01 5.040e+05]\n",
      " [6.421e+00 9.140e+00 1.780e+01 4.536e+05]\n",
      " [7.185e+00 4.030e+00 1.780e+01 7.287e+05]\n",
      " ...\n",
      " [6.976e+00 5.640e+00 2.100e+01 5.019e+05]\n",
      " [6.794e+00 6.480e+00 2.100e+01 4.620e+05]\n",
      " [6.030e+00 7.880e+00 2.100e+01 2.499e+05]]\n"
     ]
    }
   ],
   "source": [
    "import pandas as pd\n",
    "import matplotlib.pyplot as plt\n",
    "dataframe=pd.read_csv('C:\\\\Users\\\\Malay Gain\\\\Desktop\\\\housing.csv')\n",
    "arr2d=dataframe.values  #coverting to 2D array\n",
    "print(arr2d) "
   ]
  },
  {
   "cell_type": "code",
   "execution_count": 10,
   "metadata": {},
   "outputs": [
    {
     "name": "stdout",
     "output_type": "stream",
     "text": [
      "     LSTAT\n",
      "0     4.98\n",
      "1     9.14\n",
      "2     4.03\n",
      "3     2.94\n",
      "4     5.33\n",
      "..     ...\n",
      "484   9.67\n",
      "485   9.08\n",
      "486   5.64\n",
      "487   6.48\n",
      "488   7.88\n",
      "\n",
      "[489 rows x 1 columns]\n",
      "     LSTAT     RM\n",
      "0     4.98  6.575\n",
      "1     9.14  6.421\n",
      "2     4.03  7.185\n",
      "3     2.94  6.998\n",
      "4     5.33  7.147\n",
      "..     ...    ...\n",
      "484   9.67  6.593\n",
      "485   9.08  6.120\n",
      "486   5.64  6.976\n",
      "487   6.48  6.794\n",
      "488   7.88  6.030\n",
      "\n",
      "[489 rows x 2 columns]\n"
     ]
    }
   ],
   "source": [
    "drop1=dataframe.reindex(columns=['LSTAT'])#dropping column\n",
    "drop2=dataframe.reindex(columns=['RM'])\n",
    "print(drop1)\n",
    "add=drop1.join(drop2) #adding column\n",
    "print(add)"
   ]
  },
  {
   "cell_type": "code",
   "execution_count": 11,
   "metadata": {},
   "outputs": [
    {
     "name": "stdout",
     "output_type": "stream",
     "text": [
      "        RM  HOUSE  PTRATIO      MEDV\n",
      "0    6.575   4.98     15.3  504000.0\n",
      "1    6.421   9.14     17.8  453600.0\n",
      "2    7.185   4.03     17.8  728700.0\n",
      "3    6.998   2.94     18.7  701400.0\n",
      "4    7.147   5.33     18.7  760200.0\n",
      "..     ...    ...      ...       ...\n",
      "484  6.593   9.67     21.0  470400.0\n",
      "485  6.120   9.08     21.0  432600.0\n",
      "486  6.976   5.64     21.0  501900.0\n",
      "487  6.794   6.48     21.0  462000.0\n",
      "488  6.030   7.88     21.0  249900.0\n",
      "\n",
      "[489 rows x 4 columns]\n"
     ]
    }
   ],
   "source": [
    "new=dataframe.rename(columns={\"LSTAT\":\"HOUSE\"})#renaming column\n",
    "print(new)"
   ]
  },
  {
   "cell_type": "code",
   "execution_count": 13,
   "metadata": {},
   "outputs": [
    {
     "name": "stdout",
     "output_type": "stream",
     "text": [
      "      RM  HOUSE  PTRATIO      MEDV\n",
      "0  6.575   4.98     15.3  504000.0\n",
      "1  6.421   9.14     17.8  453600.0\n",
      "2  7.185   4.03     17.8  728700.0\n",
      "3  6.998   2.94     18.7  701400.0\n",
      "4  7.147   5.33     18.7  760200.0\n",
      "5  6.430   5.21     18.7  602700.0\n",
      "6  6.012  12.43     15.2  480900.0\n",
      "7  6.172  19.15     15.2  569100.0\n",
      "8  5.631  29.93     15.2  346500.0\n",
      "9  6.004  17.10     15.2  396900.0\n"
     ]
    }
   ],
   "source": [
    "new=new.head(10)#slicing\n",
    "print(new)"
   ]
  }
 ],
 "metadata": {
  "kernelspec": {
   "display_name": "Python 3",
   "language": "python",
   "name": "python3"
  },
  "language_info": {
   "codemirror_mode": {
    "name": "ipython",
    "version": 3
   },
   "file_extension": ".py",
   "mimetype": "text/x-python",
   "name": "python",
   "nbconvert_exporter": "python",
   "pygments_lexer": "ipython3",
   "version": "3.7.7"
  }
 },
 "nbformat": 4,
 "nbformat_minor": 4
}
