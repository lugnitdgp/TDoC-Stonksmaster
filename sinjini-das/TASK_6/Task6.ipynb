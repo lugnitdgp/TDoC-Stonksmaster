{
  "nbformat": 4,
  "nbformat_minor": 0,
  "metadata": {
    "colab": {
      "name": "Task6.ipynb",
      "provenance": [],
      "collapsed_sections": []
    },
    "kernelspec": {
      "name": "python3",
      "display_name": "Python 3"
    }
  },
  "cells": [
    {
      "cell_type": "code",
      "metadata": {
        "id": "6SP2lAL0x3mB"
      },
      "source": [
        "import pandas as pd\n",
        "from datetime import datetime \n",
        "import time\n",
        "import numpy as np\n",
        "from pandas import set_option\n",
        "import seaborn as sns\n",
        "from numpy import set_printoptions \n",
        "from matplotlib import pyplot\n",
        "from sklearn.preprocessing import StandardScaler\n",
        "from sklearn.model_selection import train_test_split\n",
        "from sklearn.model_selection import KFold\n",
        "from sklearn.model_selection import cross_val_score\n",
        "from sklearn.linear_model import LinearRegression\n",
        "from sklearn.linear_model import Lasso\n",
        "from sklearn.linear_model import ElasticNet\n",
        "from sklearn.tree import DecisionTreeRegressor\n",
        "from sklearn.neighbors import KNeighborsRegressor\n",
        "from sklearn.ensemble import GradientBoostingRegressor\n",
        "from sklearn.svm import SVR\n",
        "from sklearn.preprocessing import MinMaxScaler\n",
        "from sklearn.preprocessing import StandardScaler\n",
        "from sklearn.metrics import mean_squared_error, r2_score"
      ],
      "execution_count": 1,
      "outputs": []
    },
    {
      "cell_type": "code",
      "metadata": {
        "id": "udJeJgH-ye1O",
        "outputId": "6020bdf1-7615-4c99-d9b4-b0710e3005c3",
        "colab": {
          "base_uri": "https://localhost:8080/",
          "height": 297
        }
      },
      "source": [
        "pip install iexfinance"
      ],
      "execution_count": 2,
      "outputs": [
        {
          "output_type": "stream",
          "text": [
            "Collecting iexfinance\n",
            "\u001b[?25l  Downloading https://files.pythonhosted.org/packages/1c/5a/ea97aa0b1581352fe1019105d69dddec25a9f0c331b7c1136ee76ae50589/iexfinance-0.4.3-py3-none-any.whl (51kB)\n",
            "\r\u001b[K     |██████▍                         | 10kB 12.4MB/s eta 0:00:01\r\u001b[K     |████████████▉                   | 20kB 2.9MB/s eta 0:00:01\r\u001b[K     |███████████████████▎            | 30kB 3.3MB/s eta 0:00:01\r\u001b[K     |█████████████████████████▊      | 40kB 3.7MB/s eta 0:00:01\r\u001b[K     |████████████████████████████████| 51kB 2.2MB/s \n",
            "\u001b[?25hRequirement already satisfied: requests in /usr/local/lib/python3.6/dist-packages (from iexfinance) (2.23.0)\n",
            "Requirement already satisfied: pandas in /usr/local/lib/python3.6/dist-packages (from iexfinance) (1.1.2)\n",
            "Requirement already satisfied: idna<3,>=2.5 in /usr/local/lib/python3.6/dist-packages (from requests->iexfinance) (2.10)\n",
            "Requirement already satisfied: urllib3!=1.25.0,!=1.25.1,<1.26,>=1.21.1 in /usr/local/lib/python3.6/dist-packages (from requests->iexfinance) (1.24.3)\n",
            "Requirement already satisfied: chardet<4,>=3.0.2 in /usr/local/lib/python3.6/dist-packages (from requests->iexfinance) (3.0.4)\n",
            "Requirement already satisfied: certifi>=2017.4.17 in /usr/local/lib/python3.6/dist-packages (from requests->iexfinance) (2020.6.20)\n",
            "Requirement already satisfied: pytz>=2017.2 in /usr/local/lib/python3.6/dist-packages (from pandas->iexfinance) (2018.9)\n",
            "Requirement already satisfied: numpy>=1.15.4 in /usr/local/lib/python3.6/dist-packages (from pandas->iexfinance) (1.18.5)\n",
            "Requirement already satisfied: python-dateutil>=2.7.3 in /usr/local/lib/python3.6/dist-packages (from pandas->iexfinance) (2.8.1)\n",
            "Requirement already satisfied: six>=1.5 in /usr/local/lib/python3.6/dist-packages (from python-dateutil>=2.7.3->pandas->iexfinance) (1.15.0)\n",
            "Installing collected packages: iexfinance\n",
            "Successfully installed iexfinance-0.4.3\n"
          ],
          "name": "stdout"
        }
      ]
    },
    {
      "cell_type": "code",
      "metadata": {
        "id": "aBJbKp0Ryk8v"
      },
      "source": [
        "sym = \"AAPL\"  \n",
        "token = \"pk_6b3ac6169ef64261bca98b281e6e5e93\"\n",
        "df_temp = pd.read_json('https://cloud.iexapis.com/stable/stock/'+sym+'/chart/1d?token='+token+'')"
      ],
      "execution_count": 3,
      "outputs": []
    },
    {
      "cell_type": "code",
      "metadata": {
        "id": "DTk4vPtwzHzk"
      },
      "source": [
        "df=df_temp.drop(['close', 'high', 'low', 'volume', 'label', 'average', 'notional', 'numberOfTrades' ], axis=1)"
      ],
      "execution_count": 4,
      "outputs": []
    },
    {
      "cell_type": "code",
      "metadata": {
        "id": "z0-5_PmJzR-q"
      },
      "source": [
        "df['minute']= pd.to_datetime(df['minute'])"
      ],
      "execution_count": 5,
      "outputs": []
    },
    {
      "cell_type": "code",
      "metadata": {
        "id": "-ri_IeHBzZuL"
      },
      "source": [
        "df['datetime']=df.apply(lambda x:'%s %s' % (x['date'],x['minute']),axis=1)\n",
        "df.drop(['date', 'datetime'], axis=1, inplace=True)"
      ],
      "execution_count": 6,
      "outputs": []
    },
    {
      "cell_type": "code",
      "metadata": {
        "id": "o4-M5YhczmT9"
      },
      "source": [
        "df.rename(columns={'minute': 'datetime'}, inplace=True)"
      ],
      "execution_count": 7,
      "outputs": []
    },
    {
      "cell_type": "code",
      "metadata": {
        "id": "3R0u_P1Yzy2y"
      },
      "source": [
        "df['ts'] = df.datetime.values.astype(np.int64) // 10 ** 9"
      ],
      "execution_count": 8,
      "outputs": []
    },
    {
      "cell_type": "code",
      "metadata": {
        "id": "sTPU1OLG0FON",
        "outputId": "a387eb3a-131a-4b48-c302-b756100a598f",
        "colab": {
          "base_uri": "https://localhost:8080/",
          "height": 415
        }
      },
      "source": [
        "df"
      ],
      "execution_count": 9,
      "outputs": [
        {
          "output_type": "execute_result",
          "data": {
            "text/html": [
              "<div>\n",
              "<style scoped>\n",
              "    .dataframe tbody tr th:only-of-type {\n",
              "        vertical-align: middle;\n",
              "    }\n",
              "\n",
              "    .dataframe tbody tr th {\n",
              "        vertical-align: top;\n",
              "    }\n",
              "\n",
              "    .dataframe thead th {\n",
              "        text-align: right;\n",
              "    }\n",
              "</style>\n",
              "<table border=\"1\" class=\"dataframe\">\n",
              "  <thead>\n",
              "    <tr style=\"text-align: right;\">\n",
              "      <th></th>\n",
              "      <th>datetime</th>\n",
              "      <th>open</th>\n",
              "      <th>ts</th>\n",
              "    </tr>\n",
              "  </thead>\n",
              "  <tbody>\n",
              "    <tr>\n",
              "      <th>0</th>\n",
              "      <td>2020-10-11 09:30:00</td>\n",
              "      <td>115.280</td>\n",
              "      <td>1602408600</td>\n",
              "    </tr>\n",
              "    <tr>\n",
              "      <th>1</th>\n",
              "      <td>2020-10-11 09:31:00</td>\n",
              "      <td>115.155</td>\n",
              "      <td>1602408660</td>\n",
              "    </tr>\n",
              "    <tr>\n",
              "      <th>2</th>\n",
              "      <td>2020-10-11 09:32:00</td>\n",
              "      <td>115.000</td>\n",
              "      <td>1602408720</td>\n",
              "    </tr>\n",
              "    <tr>\n",
              "      <th>3</th>\n",
              "      <td>2020-10-11 09:33:00</td>\n",
              "      <td>115.110</td>\n",
              "      <td>1602408780</td>\n",
              "    </tr>\n",
              "    <tr>\n",
              "      <th>4</th>\n",
              "      <td>2020-10-11 09:34:00</td>\n",
              "      <td>115.260</td>\n",
              "      <td>1602408840</td>\n",
              "    </tr>\n",
              "    <tr>\n",
              "      <th>...</th>\n",
              "      <td>...</td>\n",
              "      <td>...</td>\n",
              "      <td>...</td>\n",
              "    </tr>\n",
              "    <tr>\n",
              "      <th>385</th>\n",
              "      <td>2020-10-11 15:55:00</td>\n",
              "      <td>116.705</td>\n",
              "      <td>1602431700</td>\n",
              "    </tr>\n",
              "    <tr>\n",
              "      <th>386</th>\n",
              "      <td>2020-10-11 15:56:00</td>\n",
              "      <td>116.795</td>\n",
              "      <td>1602431760</td>\n",
              "    </tr>\n",
              "    <tr>\n",
              "      <th>387</th>\n",
              "      <td>2020-10-11 15:57:00</td>\n",
              "      <td>116.860</td>\n",
              "      <td>1602431820</td>\n",
              "    </tr>\n",
              "    <tr>\n",
              "      <th>388</th>\n",
              "      <td>2020-10-11 15:58:00</td>\n",
              "      <td>116.910</td>\n",
              "      <td>1602431880</td>\n",
              "    </tr>\n",
              "    <tr>\n",
              "      <th>389</th>\n",
              "      <td>2020-10-11 15:59:00</td>\n",
              "      <td>116.950</td>\n",
              "      <td>1602431940</td>\n",
              "    </tr>\n",
              "  </tbody>\n",
              "</table>\n",
              "<p>390 rows × 3 columns</p>\n",
              "</div>"
            ],
            "text/plain": [
              "               datetime     open          ts\n",
              "0   2020-10-11 09:30:00  115.280  1602408600\n",
              "1   2020-10-11 09:31:00  115.155  1602408660\n",
              "2   2020-10-11 09:32:00  115.000  1602408720\n",
              "3   2020-10-11 09:33:00  115.110  1602408780\n",
              "4   2020-10-11 09:34:00  115.260  1602408840\n",
              "..                  ...      ...         ...\n",
              "385 2020-10-11 15:55:00  116.705  1602431700\n",
              "386 2020-10-11 15:56:00  116.795  1602431760\n",
              "387 2020-10-11 15:57:00  116.860  1602431820\n",
              "388 2020-10-11 15:58:00  116.910  1602431880\n",
              "389 2020-10-11 15:59:00  116.950  1602431940\n",
              "\n",
              "[390 rows x 3 columns]"
            ]
          },
          "metadata": {
            "tags": []
          },
          "execution_count": 9
        }
      ]
    },
    {
      "cell_type": "code",
      "metadata": {
        "id": "l5TWDYmj0Iw6",
        "outputId": "3d3595db-ee7a-492a-939f-970619111af3",
        "colab": {
          "base_uri": "https://localhost:8080/",
          "height": 415
        }
      },
      "source": [
        "df= df.drop(['datetime'], axis=1)\n",
        "df"
      ],
      "execution_count": 11,
      "outputs": [
        {
          "output_type": "execute_result",
          "data": {
            "text/html": [
              "<div>\n",
              "<style scoped>\n",
              "    .dataframe tbody tr th:only-of-type {\n",
              "        vertical-align: middle;\n",
              "    }\n",
              "\n",
              "    .dataframe tbody tr th {\n",
              "        vertical-align: top;\n",
              "    }\n",
              "\n",
              "    .dataframe thead th {\n",
              "        text-align: right;\n",
              "    }\n",
              "</style>\n",
              "<table border=\"1\" class=\"dataframe\">\n",
              "  <thead>\n",
              "    <tr style=\"text-align: right;\">\n",
              "      <th></th>\n",
              "      <th>open</th>\n",
              "      <th>ts</th>\n",
              "    </tr>\n",
              "  </thead>\n",
              "  <tbody>\n",
              "    <tr>\n",
              "      <th>0</th>\n",
              "      <td>115.280</td>\n",
              "      <td>1602408600</td>\n",
              "    </tr>\n",
              "    <tr>\n",
              "      <th>1</th>\n",
              "      <td>115.155</td>\n",
              "      <td>1602408660</td>\n",
              "    </tr>\n",
              "    <tr>\n",
              "      <th>2</th>\n",
              "      <td>115.000</td>\n",
              "      <td>1602408720</td>\n",
              "    </tr>\n",
              "    <tr>\n",
              "      <th>3</th>\n",
              "      <td>115.110</td>\n",
              "      <td>1602408780</td>\n",
              "    </tr>\n",
              "    <tr>\n",
              "      <th>4</th>\n",
              "      <td>115.260</td>\n",
              "      <td>1602408840</td>\n",
              "    </tr>\n",
              "    <tr>\n",
              "      <th>...</th>\n",
              "      <td>...</td>\n",
              "      <td>...</td>\n",
              "    </tr>\n",
              "    <tr>\n",
              "      <th>385</th>\n",
              "      <td>116.705</td>\n",
              "      <td>1602431700</td>\n",
              "    </tr>\n",
              "    <tr>\n",
              "      <th>386</th>\n",
              "      <td>116.795</td>\n",
              "      <td>1602431760</td>\n",
              "    </tr>\n",
              "    <tr>\n",
              "      <th>387</th>\n",
              "      <td>116.860</td>\n",
              "      <td>1602431820</td>\n",
              "    </tr>\n",
              "    <tr>\n",
              "      <th>388</th>\n",
              "      <td>116.910</td>\n",
              "      <td>1602431880</td>\n",
              "    </tr>\n",
              "    <tr>\n",
              "      <th>389</th>\n",
              "      <td>116.950</td>\n",
              "      <td>1602431940</td>\n",
              "    </tr>\n",
              "  </tbody>\n",
              "</table>\n",
              "<p>390 rows × 2 columns</p>\n",
              "</div>"
            ],
            "text/plain": [
              "        open          ts\n",
              "0    115.280  1602408600\n",
              "1    115.155  1602408660\n",
              "2    115.000  1602408720\n",
              "3    115.110  1602408780\n",
              "4    115.260  1602408840\n",
              "..       ...         ...\n",
              "385  116.705  1602431700\n",
              "386  116.795  1602431760\n",
              "387  116.860  1602431820\n",
              "388  116.910  1602431880\n",
              "389  116.950  1602431940\n",
              "\n",
              "[390 rows x 2 columns]"
            ]
          },
          "metadata": {
            "tags": []
          },
          "execution_count": 11
        }
      ]
    },
    {
      "cell_type": "code",
      "metadata": {
        "id": "IkM3l5eO0gTY"
      },
      "source": [
        "array=df.values\n",
        "X=array[:,1]\n",
        "Y=array[:,0]\n"
      ],
      "execution_count": 14,
      "outputs": []
    },
    {
      "cell_type": "code",
      "metadata": {
        "id": "Mzgn9qby1DHC"
      },
      "source": [
        "rx=array[:, 1].reshape(-1,1)\n",
        "\n",
        "#print(rx)\n",
        "\n",
        "val_size = 0.30\n",
        "seed = 3\n",
        "x_train, x_val, y_train, y_val = train_test_split(rx, Y, test_size=val_size, random_state=seed)"
      ],
      "execution_count": 16,
      "outputs": []
    },
    {
      "cell_type": "code",
      "metadata": {
        "id": "JBDaJyDS1zmO"
      },
      "source": [
        "num_folds=3\n",
        "seed =1\n",
        "scoring='r2'"
      ],
      "execution_count": 17,
      "outputs": []
    },
    {
      "cell_type": "code",
      "metadata": {
        "id": "p2gH2hJ32Ecx",
        "outputId": "ddf419a0-e8d6-4ca0-83d6-f3991f70c5d0",
        "colab": {
          "base_uri": "https://localhost:8080/",
          "height": 121
        }
      },
      "source": [
        "models = []\n",
        "models.append((' LR ', LinearRegression()))\n",
        "models.append((' LASSO ', Lasso()))\n",
        "models.append((' EN ', ElasticNet()))\n",
        "models.append((' KNN ', KNeighborsRegressor()))\n",
        "models.append((' CART ', DecisionTreeRegressor()))\n",
        "models.append((' SVR ', SVR()))\n",
        "\n",
        "results = []\n",
        "names = []\n",
        "for name, model in models:\n",
        "    kfold = KFold(n_splits=num_folds, random_state=seed, shuffle=True)\n",
        "    cv_results = cross_val_score(\n",
        "        model, x_train, y_train, cv=kfold, scoring=scoring)\n",
        "    results.append(cv_results)\n",
        "    names.append(name)\n",
        "    msg = \"%s: %f (%f)\" % (name, cv_results.mean(), cv_results.std())\n",
        "    print(msg)"
      ],
      "execution_count": 20,
      "outputs": [
        {
          "output_type": "stream",
          "text": [
            " LR : 0.471158 (0.083207)\n",
            " LASSO : 0.471177 (0.083064)\n",
            " EN : 0.471167 (0.083135)\n",
            " KNN : 0.910836 (0.021590)\n",
            " CART : 0.915220 (0.043692)\n",
            " SVR : 0.641386 (0.115677)\n"
          ],
          "name": "stdout"
        }
      ]
    },
    {
      "cell_type": "code",
      "metadata": {
        "id": "kH5HYYff3n3p",
        "outputId": "7f8ee716-d9d0-4a88-a849-7dcb17ca5d83",
        "colab": {
          "base_uri": "https://localhost:8080/",
          "height": 294
        }
      },
      "source": [
        "fig = pyplot.figure()\n",
        "fig.suptitle(' Scaled Algorithm Comparison ')\n",
        "ax = fig.add_subplot(111)\n",
        "pyplot.boxplot(results)\n",
        "ax.set_xticklabels(names)\n",
        "pyplot.show()"
      ],
      "execution_count": 21,
      "outputs": [
        {
          "output_type": "display_data",
          "data": {
            "image/png": "[encoded data removed]",
            "text/plain": [
              "<Figure size 432x288 with 1 Axes>"
            ]
          },
          "metadata": {
            "tags": [],
            "needs_background": "light"
          }
        }
      ]
    },
    {
      "cell_type": "code",
      "metadata": {
        "id": "ExlmzZz-36eO",
        "outputId": "fd2f9ac4-717a-4067-d011-dd5793767cc8",
        "colab": {
          "base_uri": "https://localhost:8080/",
          "height": 35
        }
      },
      "source": [
        "model = DecisionTreeRegressor(max_depth=20)\n",
        "model.fit(x_train, y_train)\n",
        "\n",
        "predictions = model.predict(x_val)\n",
        "print(r2_score(y_val, predictions))"
      ],
      "execution_count": 24,
      "outputs": [
        {
          "output_type": "stream",
          "text": [
            "0.9484304106749378\n"
          ],
          "name": "stdout"
        }
      ]
    },
    {
      "cell_type": "code",
      "metadata": {
        "id": "z0a2-HmL5A21",
        "outputId": "58778f30-443d-4a32-da66-6259751e2e99",
        "colab": {
          "base_uri": "https://localhost:8080/",
          "height": 35
        }
      },
      "source": [
        "scaler = StandardScaler().fit(x_train)\n",
        "rescaledX = scaler.transform(x_train)\n",
        "model = GradientBoostingRegressor(random_state=seed, n_estimators=100)\n",
        "model.fit(rescaledX, y_train)\n",
        "\n",
        "rescaledValidationX = scaler.transform(x_val)\n",
        "predictions = model.predict(rescaledValidationX)\n",
        "print(r2_score(y_val, predictions))"
      ],
      "execution_count": 25,
      "outputs": [
        {
          "output_type": "stream",
          "text": [
            "0.9447312966014869\n"
          ],
          "name": "stdout"
        }
      ]
    },
    {
      "cell_type": "code",
      "metadata": {
        "id": "GyK2TVIw5YjU",
        "outputId": "fc42aa7d-0c27-473c-c6b7-caf506c77113",
        "colab": {
          "base_uri": "https://localhost:8080/",
          "height": 265
        }
      },
      "source": [
        "pyplot.plot(predictions)\n",
        "pyplot.plot(y_val)\n",
        "\n",
        "pyplot.rcParams['figure.figsize']=(50,25)\n",
        "pyplot.show()\n",
        "\n"
      ],
      "execution_count": 27,
      "outputs": [
        {
          "output_type": "display_data",
          "data": {
            "image/png": "[encoded data removed]",
            "text/plain": [
              "<Figure size 432x288 with 1 Axes>"
            ]
          },
          "metadata": {
            "tags": [],
            "needs_background": "light"
          }
        }
      ]
    }
  ]
}