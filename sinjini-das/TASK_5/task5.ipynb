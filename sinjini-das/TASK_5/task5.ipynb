{
  "nbformat": 4,
  "nbformat_minor": 0,
  "metadata": {
    "colab": {
      "name": "task5.ipynb",
      "provenance": [],
      "collapsed_sections": []
    },
    "kernelspec": {
      "name": "python3",
      "display_name": "Python 3"
    }
  },
  "cells": [
    {
      "cell_type": "code",
      "metadata": {
        "id": "xE7RILZUPIyV"
      },
      "source": [
        "import pandas as pd\n",
        "from datetime import datetime \n",
        "import time\n",
        "import numpy as np"
      ],
      "execution_count": 1,
      "outputs": []
    },
    {
      "cell_type": "code",
      "metadata": {
        "id": "AvV3mu9rPOgf"
      },
      "source": [
        "pip install iexfinance"
      ],
      "execution_count": null,
      "outputs": []
    },
    {
      "cell_type": "code",
      "metadata": {
        "id": "1JZA1lWBPRe_"
      },
      "source": [
        "sym = \"AAPL\"  \n",
        "token = \"pk_6b3ac6169ef64261bca98b281e6e5e93\"\n",
        "df_temp = pd.read_json('https://cloud.iexapis.com/stable/stock/'+sym+'/chart/1d?token='+token+'')"
      ],
      "execution_count": 3,
      "outputs": []
    },
    {
      "cell_type": "code",
      "metadata": {
        "id": "bongTwo6PaGX"
      },
      "source": [
        "df_temp"
      ],
      "execution_count": null,
      "outputs": []
    },
    {
      "cell_type": "code",
      "metadata": {
        "id": "XxnoD-t1Pd1J"
      },
      "source": [
        "df=df_temp.drop(['close', 'high', 'low', 'volume', 'label', 'average', 'notional', 'numberOfTrades' ], axis=1)"
      ],
      "execution_count": 5,
      "outputs": []
    },
    {
      "cell_type": "code",
      "metadata": {
        "id": "itYkeutQPhI-",
        "outputId": "f3438f0c-d60f-40b3-9682-634e614d83aa",
        "colab": {
          "base_uri": "https://localhost:8080/",
          "height": 419
        }
      },
      "source": [
        "df"
      ],
      "execution_count": 6,
      "outputs": [
        {
          "output_type": "execute_result",
          "data": {
            "text/html": [
              "<div>\n",
              "<style scoped>\n",
              "    .dataframe tbody tr th:only-of-type {\n",
              "        vertical-align: middle;\n",
              "    }\n",
              "\n",
              "    .dataframe tbody tr th {\n",
              "        vertical-align: top;\n",
              "    }\n",
              "\n",
              "    .dataframe thead th {\n",
              "        text-align: right;\n",
              "    }\n",
              "</style>\n",
              "<table border=\"1\" class=\"dataframe\">\n",
              "  <thead>\n",
              "    <tr style=\"text-align: right;\">\n",
              "      <th></th>\n",
              "      <th>date</th>\n",
              "      <th>minute</th>\n",
              "      <th>open</th>\n",
              "    </tr>\n",
              "  </thead>\n",
              "  <tbody>\n",
              "    <tr>\n",
              "      <th>0</th>\n",
              "      <td>2020-10-08</td>\n",
              "      <td>09:30</td>\n",
              "      <td>116.270</td>\n",
              "    </tr>\n",
              "    <tr>\n",
              "      <th>1</th>\n",
              "      <td>2020-10-08</td>\n",
              "      <td>09:31</td>\n",
              "      <td>116.080</td>\n",
              "    </tr>\n",
              "    <tr>\n",
              "      <th>2</th>\n",
              "      <td>2020-10-08</td>\n",
              "      <td>09:32</td>\n",
              "      <td>115.810</td>\n",
              "    </tr>\n",
              "    <tr>\n",
              "      <th>3</th>\n",
              "      <td>2020-10-08</td>\n",
              "      <td>09:33</td>\n",
              "      <td>115.950</td>\n",
              "    </tr>\n",
              "    <tr>\n",
              "      <th>4</th>\n",
              "      <td>2020-10-08</td>\n",
              "      <td>09:34</td>\n",
              "      <td>115.690</td>\n",
              "    </tr>\n",
              "    <tr>\n",
              "      <th>...</th>\n",
              "      <td>...</td>\n",
              "      <td>...</td>\n",
              "      <td>...</td>\n",
              "    </tr>\n",
              "    <tr>\n",
              "      <th>228</th>\n",
              "      <td>2020-10-08</td>\n",
              "      <td>13:18</td>\n",
              "      <td>115.070</td>\n",
              "    </tr>\n",
              "    <tr>\n",
              "      <th>229</th>\n",
              "      <td>2020-10-08</td>\n",
              "      <td>13:19</td>\n",
              "      <td>115.080</td>\n",
              "    </tr>\n",
              "    <tr>\n",
              "      <th>230</th>\n",
              "      <td>2020-10-08</td>\n",
              "      <td>13:20</td>\n",
              "      <td>115.020</td>\n",
              "    </tr>\n",
              "    <tr>\n",
              "      <th>231</th>\n",
              "      <td>2020-10-08</td>\n",
              "      <td>13:21</td>\n",
              "      <td>115.040</td>\n",
              "    </tr>\n",
              "    <tr>\n",
              "      <th>232</th>\n",
              "      <td>2020-10-08</td>\n",
              "      <td>13:22</td>\n",
              "      <td>115.025</td>\n",
              "    </tr>\n",
              "  </tbody>\n",
              "</table>\n",
              "<p>233 rows × 3 columns</p>\n",
              "</div>"
            ],
            "text/plain": [
              "          date minute     open\n",
              "0   2020-10-08  09:30  116.270\n",
              "1   2020-10-08  09:31  116.080\n",
              "2   2020-10-08  09:32  115.810\n",
              "3   2020-10-08  09:33  115.950\n",
              "4   2020-10-08  09:34  115.690\n",
              "..         ...    ...      ...\n",
              "228 2020-10-08  13:18  115.070\n",
              "229 2020-10-08  13:19  115.080\n",
              "230 2020-10-08  13:20  115.020\n",
              "231 2020-10-08  13:21  115.040\n",
              "232 2020-10-08  13:22  115.025\n",
              "\n",
              "[233 rows x 3 columns]"
            ]
          },
          "metadata": {
            "tags": []
          },
          "execution_count": 6
        }
      ]
    },
    {
      "cell_type": "code",
      "metadata": {
        "id": "8A_v-FxMQlLF",
        "outputId": "7da6225c-17de-4618-b606-c95247d37b91",
        "colab": {
          "base_uri": "https://localhost:8080/",
          "height": 85
        }
      },
      "source": [
        "df.dtypes"
      ],
      "execution_count": 7,
      "outputs": [
        {
          "output_type": "execute_result",
          "data": {
            "text/plain": [
              "date      datetime64[ns]\n",
              "minute            object\n",
              "open             float64\n",
              "dtype: object"
            ]
          },
          "metadata": {
            "tags": []
          },
          "execution_count": 7
        }
      ]
    },
    {
      "cell_type": "code",
      "metadata": {
        "id": "1DEsz8hgYfno"
      },
      "source": [
        "df['minute']= pd.to_datetime(df['minute'])"
      ],
      "execution_count": 8,
      "outputs": []
    },
    {
      "cell_type": "code",
      "metadata": {
        "id": "wQYAYJI_Y2Sj"
      },
      "source": [
        "df['datetime']=df.apply(lambda x:'%s %s' % (x['date'],x['minute']),axis=1)\n"
      ],
      "execution_count": 9,
      "outputs": []
    },
    {
      "cell_type": "code",
      "metadata": {
        "id": "62p_lwySZLbn",
        "outputId": "41bbefdb-34fa-497d-ab35-4039d119bbff",
        "colab": {
          "base_uri": "https://localhost:8080/",
          "height": 419
        }
      },
      "source": [
        "df.drop(['date', 'datetime'], axis=1, inplace=True)\n",
        "df"
      ],
      "execution_count": 11,
      "outputs": [
        {
          "output_type": "execute_result",
          "data": {
            "text/html": [
              "<div>\n",
              "<style scoped>\n",
              "    .dataframe tbody tr th:only-of-type {\n",
              "        vertical-align: middle;\n",
              "    }\n",
              "\n",
              "    .dataframe tbody tr th {\n",
              "        vertical-align: top;\n",
              "    }\n",
              "\n",
              "    .dataframe thead th {\n",
              "        text-align: right;\n",
              "    }\n",
              "</style>\n",
              "<table border=\"1\" class=\"dataframe\">\n",
              "  <thead>\n",
              "    <tr style=\"text-align: right;\">\n",
              "      <th></th>\n",
              "      <th>minute</th>\n",
              "      <th>open</th>\n",
              "    </tr>\n",
              "  </thead>\n",
              "  <tbody>\n",
              "    <tr>\n",
              "      <th>0</th>\n",
              "      <td>2020-10-08 09:30:00</td>\n",
              "      <td>116.270</td>\n",
              "    </tr>\n",
              "    <tr>\n",
              "      <th>1</th>\n",
              "      <td>2020-10-08 09:31:00</td>\n",
              "      <td>116.080</td>\n",
              "    </tr>\n",
              "    <tr>\n",
              "      <th>2</th>\n",
              "      <td>2020-10-08 09:32:00</td>\n",
              "      <td>115.810</td>\n",
              "    </tr>\n",
              "    <tr>\n",
              "      <th>3</th>\n",
              "      <td>2020-10-08 09:33:00</td>\n",
              "      <td>115.950</td>\n",
              "    </tr>\n",
              "    <tr>\n",
              "      <th>4</th>\n",
              "      <td>2020-10-08 09:34:00</td>\n",
              "      <td>115.690</td>\n",
              "    </tr>\n",
              "    <tr>\n",
              "      <th>...</th>\n",
              "      <td>...</td>\n",
              "      <td>...</td>\n",
              "    </tr>\n",
              "    <tr>\n",
              "      <th>228</th>\n",
              "      <td>2020-10-08 13:18:00</td>\n",
              "      <td>115.070</td>\n",
              "    </tr>\n",
              "    <tr>\n",
              "      <th>229</th>\n",
              "      <td>2020-10-08 13:19:00</td>\n",
              "      <td>115.080</td>\n",
              "    </tr>\n",
              "    <tr>\n",
              "      <th>230</th>\n",
              "      <td>2020-10-08 13:20:00</td>\n",
              "      <td>115.020</td>\n",
              "    </tr>\n",
              "    <tr>\n",
              "      <th>231</th>\n",
              "      <td>2020-10-08 13:21:00</td>\n",
              "      <td>115.040</td>\n",
              "    </tr>\n",
              "    <tr>\n",
              "      <th>232</th>\n",
              "      <td>2020-10-08 13:22:00</td>\n",
              "      <td>115.025</td>\n",
              "    </tr>\n",
              "  </tbody>\n",
              "</table>\n",
              "<p>233 rows × 2 columns</p>\n",
              "</div>"
            ],
            "text/plain": [
              "                 minute     open\n",
              "0   2020-10-08 09:30:00  116.270\n",
              "1   2020-10-08 09:31:00  116.080\n",
              "2   2020-10-08 09:32:00  115.810\n",
              "3   2020-10-08 09:33:00  115.950\n",
              "4   2020-10-08 09:34:00  115.690\n",
              "..                  ...      ...\n",
              "228 2020-10-08 13:18:00  115.070\n",
              "229 2020-10-08 13:19:00  115.080\n",
              "230 2020-10-08 13:20:00  115.020\n",
              "231 2020-10-08 13:21:00  115.040\n",
              "232 2020-10-08 13:22:00  115.025\n",
              "\n",
              "[233 rows x 2 columns]"
            ]
          },
          "metadata": {
            "tags": []
          },
          "execution_count": 11
        }
      ]
    },
    {
      "cell_type": "code",
      "metadata": {
        "id": "GZMase3zZcw5",
        "outputId": "bdac1e37-4191-448c-ecab-a45880381017",
        "colab": {
          "base_uri": "https://localhost:8080/",
          "height": 419
        }
      },
      "source": [
        "df.rename(columns={'minute': 'datetime'}, inplace=True)\n",
        "df"
      ],
      "execution_count": 12,
      "outputs": [
        {
          "output_type": "execute_result",
          "data": {
            "text/html": [
              "<div>\n",
              "<style scoped>\n",
              "    .dataframe tbody tr th:only-of-type {\n",
              "        vertical-align: middle;\n",
              "    }\n",
              "\n",
              "    .dataframe tbody tr th {\n",
              "        vertical-align: top;\n",
              "    }\n",
              "\n",
              "    .dataframe thead th {\n",
              "        text-align: right;\n",
              "    }\n",
              "</style>\n",
              "<table border=\"1\" class=\"dataframe\">\n",
              "  <thead>\n",
              "    <tr style=\"text-align: right;\">\n",
              "      <th></th>\n",
              "      <th>datetime</th>\n",
              "      <th>open</th>\n",
              "    </tr>\n",
              "  </thead>\n",
              "  <tbody>\n",
              "    <tr>\n",
              "      <th>0</th>\n",
              "      <td>2020-10-08 09:30:00</td>\n",
              "      <td>116.270</td>\n",
              "    </tr>\n",
              "    <tr>\n",
              "      <th>1</th>\n",
              "      <td>2020-10-08 09:31:00</td>\n",
              "      <td>116.080</td>\n",
              "    </tr>\n",
              "    <tr>\n",
              "      <th>2</th>\n",
              "      <td>2020-10-08 09:32:00</td>\n",
              "      <td>115.810</td>\n",
              "    </tr>\n",
              "    <tr>\n",
              "      <th>3</th>\n",
              "      <td>2020-10-08 09:33:00</td>\n",
              "      <td>115.950</td>\n",
              "    </tr>\n",
              "    <tr>\n",
              "      <th>4</th>\n",
              "      <td>2020-10-08 09:34:00</td>\n",
              "      <td>115.690</td>\n",
              "    </tr>\n",
              "    <tr>\n",
              "      <th>...</th>\n",
              "      <td>...</td>\n",
              "      <td>...</td>\n",
              "    </tr>\n",
              "    <tr>\n",
              "      <th>228</th>\n",
              "      <td>2020-10-08 13:18:00</td>\n",
              "      <td>115.070</td>\n",
              "    </tr>\n",
              "    <tr>\n",
              "      <th>229</th>\n",
              "      <td>2020-10-08 13:19:00</td>\n",
              "      <td>115.080</td>\n",
              "    </tr>\n",
              "    <tr>\n",
              "      <th>230</th>\n",
              "      <td>2020-10-08 13:20:00</td>\n",
              "      <td>115.020</td>\n",
              "    </tr>\n",
              "    <tr>\n",
              "      <th>231</th>\n",
              "      <td>2020-10-08 13:21:00</td>\n",
              "      <td>115.040</td>\n",
              "    </tr>\n",
              "    <tr>\n",
              "      <th>232</th>\n",
              "      <td>2020-10-08 13:22:00</td>\n",
              "      <td>115.025</td>\n",
              "    </tr>\n",
              "  </tbody>\n",
              "</table>\n",
              "<p>233 rows × 2 columns</p>\n",
              "</div>"
            ],
            "text/plain": [
              "               datetime     open\n",
              "0   2020-10-08 09:30:00  116.270\n",
              "1   2020-10-08 09:31:00  116.080\n",
              "2   2020-10-08 09:32:00  115.810\n",
              "3   2020-10-08 09:33:00  115.950\n",
              "4   2020-10-08 09:34:00  115.690\n",
              "..                  ...      ...\n",
              "228 2020-10-08 13:18:00  115.070\n",
              "229 2020-10-08 13:19:00  115.080\n",
              "230 2020-10-08 13:20:00  115.020\n",
              "231 2020-10-08 13:21:00  115.040\n",
              "232 2020-10-08 13:22:00  115.025\n",
              "\n",
              "[233 rows x 2 columns]"
            ]
          },
          "metadata": {
            "tags": []
          },
          "execution_count": 12
        }
      ]
    },
    {
      "cell_type": "code",
      "metadata": {
        "id": "dLxGOWnlZgMd",
        "outputId": "97dd0b30-af28-400a-cceb-39f7bf2afbaf",
        "colab": {
          "base_uri": "https://localhost:8080/",
          "height": 419
        }
      },
      "source": [
        "df['ts'] = df.datetime.values.astype(np.int64) // 10 ** 9\n",
        "df"
      ],
      "execution_count": 13,
      "outputs": [
        {
          "output_type": "execute_result",
          "data": {
            "text/html": [
              "<div>\n",
              "<style scoped>\n",
              "    .dataframe tbody tr th:only-of-type {\n",
              "        vertical-align: middle;\n",
              "    }\n",
              "\n",
              "    .dataframe tbody tr th {\n",
              "        vertical-align: top;\n",
              "    }\n",
              "\n",
              "    .dataframe thead th {\n",
              "        text-align: right;\n",
              "    }\n",
              "</style>\n",
              "<table border=\"1\" class=\"dataframe\">\n",
              "  <thead>\n",
              "    <tr style=\"text-align: right;\">\n",
              "      <th></th>\n",
              "      <th>datetime</th>\n",
              "      <th>open</th>\n",
              "      <th>ts</th>\n",
              "    </tr>\n",
              "  </thead>\n",
              "  <tbody>\n",
              "    <tr>\n",
              "      <th>0</th>\n",
              "      <td>2020-10-08 09:30:00</td>\n",
              "      <td>116.270</td>\n",
              "      <td>1602149400</td>\n",
              "    </tr>\n",
              "    <tr>\n",
              "      <th>1</th>\n",
              "      <td>2020-10-08 09:31:00</td>\n",
              "      <td>116.080</td>\n",
              "      <td>1602149460</td>\n",
              "    </tr>\n",
              "    <tr>\n",
              "      <th>2</th>\n",
              "      <td>2020-10-08 09:32:00</td>\n",
              "      <td>115.810</td>\n",
              "      <td>1602149520</td>\n",
              "    </tr>\n",
              "    <tr>\n",
              "      <th>3</th>\n",
              "      <td>2020-10-08 09:33:00</td>\n",
              "      <td>115.950</td>\n",
              "      <td>1602149580</td>\n",
              "    </tr>\n",
              "    <tr>\n",
              "      <th>4</th>\n",
              "      <td>2020-10-08 09:34:00</td>\n",
              "      <td>115.690</td>\n",
              "      <td>1602149640</td>\n",
              "    </tr>\n",
              "    <tr>\n",
              "      <th>...</th>\n",
              "      <td>...</td>\n",
              "      <td>...</td>\n",
              "      <td>...</td>\n",
              "    </tr>\n",
              "    <tr>\n",
              "      <th>228</th>\n",
              "      <td>2020-10-08 13:18:00</td>\n",
              "      <td>115.070</td>\n",
              "      <td>1602163080</td>\n",
              "    </tr>\n",
              "    <tr>\n",
              "      <th>229</th>\n",
              "      <td>2020-10-08 13:19:00</td>\n",
              "      <td>115.080</td>\n",
              "      <td>1602163140</td>\n",
              "    </tr>\n",
              "    <tr>\n",
              "      <th>230</th>\n",
              "      <td>2020-10-08 13:20:00</td>\n",
              "      <td>115.020</td>\n",
              "      <td>1602163200</td>\n",
              "    </tr>\n",
              "    <tr>\n",
              "      <th>231</th>\n",
              "      <td>2020-10-08 13:21:00</td>\n",
              "      <td>115.040</td>\n",
              "      <td>1602163260</td>\n",
              "    </tr>\n",
              "    <tr>\n",
              "      <th>232</th>\n",
              "      <td>2020-10-08 13:22:00</td>\n",
              "      <td>115.025</td>\n",
              "      <td>1602163320</td>\n",
              "    </tr>\n",
              "  </tbody>\n",
              "</table>\n",
              "<p>233 rows × 3 columns</p>\n",
              "</div>"
            ],
            "text/plain": [
              "               datetime     open          ts\n",
              "0   2020-10-08 09:30:00  116.270  1602149400\n",
              "1   2020-10-08 09:31:00  116.080  1602149460\n",
              "2   2020-10-08 09:32:00  115.810  1602149520\n",
              "3   2020-10-08 09:33:00  115.950  1602149580\n",
              "4   2020-10-08 09:34:00  115.690  1602149640\n",
              "..                  ...      ...         ...\n",
              "228 2020-10-08 13:18:00  115.070  1602163080\n",
              "229 2020-10-08 13:19:00  115.080  1602163140\n",
              "230 2020-10-08 13:20:00  115.020  1602163200\n",
              "231 2020-10-08 13:21:00  115.040  1602163260\n",
              "232 2020-10-08 13:22:00  115.025  1602163320\n",
              "\n",
              "[233 rows x 3 columns]"
            ]
          },
          "metadata": {
            "tags": []
          },
          "execution_count": 13
        }
      ]
    },
    {
      "cell_type": "code",
      "metadata": {
        "id": "omlHcS_OZ_2q",
        "outputId": "d4c1aceb-f2fc-40b4-968a-bfdaffda7c31",
        "colab": {
          "base_uri": "https://localhost:8080/",
          "height": 419
        }
      },
      "source": [
        "df.drop(['datetime'], axis=1, inplace=True)\n",
        "df"
      ],
      "execution_count": 14,
      "outputs": [
        {
          "output_type": "execute_result",
          "data": {
            "text/html": [
              "<div>\n",
              "<style scoped>\n",
              "    .dataframe tbody tr th:only-of-type {\n",
              "        vertical-align: middle;\n",
              "    }\n",
              "\n",
              "    .dataframe tbody tr th {\n",
              "        vertical-align: top;\n",
              "    }\n",
              "\n",
              "    .dataframe thead th {\n",
              "        text-align: right;\n",
              "    }\n",
              "</style>\n",
              "<table border=\"1\" class=\"dataframe\">\n",
              "  <thead>\n",
              "    <tr style=\"text-align: right;\">\n",
              "      <th></th>\n",
              "      <th>open</th>\n",
              "      <th>ts</th>\n",
              "    </tr>\n",
              "  </thead>\n",
              "  <tbody>\n",
              "    <tr>\n",
              "      <th>0</th>\n",
              "      <td>116.270</td>\n",
              "      <td>1602149400</td>\n",
              "    </tr>\n",
              "    <tr>\n",
              "      <th>1</th>\n",
              "      <td>116.080</td>\n",
              "      <td>1602149460</td>\n",
              "    </tr>\n",
              "    <tr>\n",
              "      <th>2</th>\n",
              "      <td>115.810</td>\n",
              "      <td>1602149520</td>\n",
              "    </tr>\n",
              "    <tr>\n",
              "      <th>3</th>\n",
              "      <td>115.950</td>\n",
              "      <td>1602149580</td>\n",
              "    </tr>\n",
              "    <tr>\n",
              "      <th>4</th>\n",
              "      <td>115.690</td>\n",
              "      <td>1602149640</td>\n",
              "    </tr>\n",
              "    <tr>\n",
              "      <th>...</th>\n",
              "      <td>...</td>\n",
              "      <td>...</td>\n",
              "    </tr>\n",
              "    <tr>\n",
              "      <th>228</th>\n",
              "      <td>115.070</td>\n",
              "      <td>1602163080</td>\n",
              "    </tr>\n",
              "    <tr>\n",
              "      <th>229</th>\n",
              "      <td>115.080</td>\n",
              "      <td>1602163140</td>\n",
              "    </tr>\n",
              "    <tr>\n",
              "      <th>230</th>\n",
              "      <td>115.020</td>\n",
              "      <td>1602163200</td>\n",
              "    </tr>\n",
              "    <tr>\n",
              "      <th>231</th>\n",
              "      <td>115.040</td>\n",
              "      <td>1602163260</td>\n",
              "    </tr>\n",
              "    <tr>\n",
              "      <th>232</th>\n",
              "      <td>115.025</td>\n",
              "      <td>1602163320</td>\n",
              "    </tr>\n",
              "  </tbody>\n",
              "</table>\n",
              "<p>233 rows × 2 columns</p>\n",
              "</div>"
            ],
            "text/plain": [
              "        open          ts\n",
              "0    116.270  1602149400\n",
              "1    116.080  1602149460\n",
              "2    115.810  1602149520\n",
              "3    115.950  1602149580\n",
              "4    115.690  1602149640\n",
              "..       ...         ...\n",
              "228  115.070  1602163080\n",
              "229  115.080  1602163140\n",
              "230  115.020  1602163200\n",
              "231  115.040  1602163260\n",
              "232  115.025  1602163320\n",
              "\n",
              "[233 rows x 2 columns]"
            ]
          },
          "metadata": {
            "tags": []
          },
          "execution_count": 14
        }
      ]
    }
  ]
}