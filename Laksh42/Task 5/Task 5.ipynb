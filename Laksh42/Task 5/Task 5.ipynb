{
 "cells": [
  {
   "cell_type": "code",
   "execution_count": 135,
   "metadata": {},
   "outputs": [],
   "source": [
    "import requests\n",
    "import pandas as pd\n",
    "import json\n",
    "import datetime\n",
    "from datetime import datetime as dt\n",
    "import time"
   ]
  },
  {
   "cell_type": "markdown",
   "metadata": {},
   "source": [
    "### Retrieving the data as json files from the API"
   ]
  },
  {
   "cell_type": "code",
   "execution_count": 136,
   "metadata": {},
   "outputs": [],
   "source": [
    "key = \"pk_0ba0b28e021743c9a9ca74377d5b0e7c\"\n",
    "ticker = \"nflx\""
   ]
  },
  {
   "cell_type": "code",
   "execution_count": 137,
   "metadata": {},
   "outputs": [],
   "source": [
    "prev_yr = \"https://cloud.iexapis.com/stable/stock/\"+ticker+\"/chart/1y?token=\"+key\n",
    "prev_day = \"https://cloud.iexapis.com/stable/stock/\"+ticker+\"/chart/1d?token=\"+key\n",
    "pres_day = \"https://cloud.iexapis.com/stable/stock/\"+ticker+\"/intraday-prices/batch?token=\"+key\n",
    "\n",
    "data_py = requests.get(prev_yr)\n",
    "data_pd = requests.get(prev_day)\n",
    "data_psd = requests.get(pres_day)\n",
    "\n",
    "jsn_py = json.loads(data_py.text)\n",
    "jsn_pd = json.loads(data_pd.text)\n",
    "jsn_psd = json.loads(data_psd.text)"
   ]
  },
  {
   "cell_type": "markdown",
   "metadata": {},
   "source": [
    "### Creating timestamps"
   ]
  },
  {
   "cell_type": "code",
   "execution_count": 138,
   "metadata": {},
   "outputs": [],
   "source": [
    "for i in jsn_py:\n",
    "    i['minute'] = i.get('minute','09:30')"
   ]
  },
  {
   "cell_type": "code",
   "execution_count": 139,
   "metadata": {},
   "outputs": [],
   "source": [
    "for i in jsn_py:\n",
    "        string = i['date']+'T'+i['minute']+':00+00:00'\n",
    "        element= dt.strptime(string,\"%Y-%m-%dT%H:%M:%S+00:00\")\n",
    "        tuple = element.timetuple() \n",
    "        timestamp = time.mktime(tuple)\n",
    "        i['timestamps']= i.get('timestamps',timestamp)\n",
    "\n",
    "for i in jsn_pd:\n",
    "        string = i['date']+'T'+i['minute']+':00+00:00'\n",
    "        element= dt.strptime(string,\"%Y-%m-%dT%H:%M:%S+00:00\")\n",
    "        tuple = element.timetuple() \n",
    "        timestamp = time.mktime(tuple)\n",
    "        i['timestamps']= i.get('timestamps',timestamp)\n",
    "\n",
    "for i in jsn_psd:\n",
    "        string = i['date']+'T'+i['minute']+':00+00:00'\n",
    "        element= dt.strptime(string,\"%Y-%m-%dT%H:%M:%S+00:00\")\n",
    "        tuple = element.timetuple() \n",
    "        timestamp = time.mktime(tuple)\n",
    "        i['timestamps']= i.get('timestamps',timestamp)"
   ]
  },
  {
   "cell_type": "markdown",
   "metadata": {},
   "source": [
    "### Converting into a dataframe"
   ]
  },
  {
   "cell_type": "code",
   "execution_count": 140,
   "metadata": {},
   "outputs": [
    {
     "name": "stderr",
     "output_type": "stream",
     "text": [
      "c:\\python27\\lib\\site-packages\\ipykernel_launcher.py:5: FutureWarning: Sorting because non-concatenation axis is not aligned. A future version\n",
      "of pandas will change to not sort by default.\n",
      "\n",
      "To accept the future behavior, pass 'sort=False'.\n",
      "\n",
      "To retain the current behavior and silence the warning, pass 'sort=True'.\n",
      "\n",
      "  \"\"\"\n"
     ]
    },
    {
     "data": {
      "text/html": [
       "<div>\n",
       "<style scoped>\n",
       "    .dataframe tbody tr th:only-of-type {\n",
       "        vertical-align: middle;\n",
       "    }\n",
       "\n",
       "    .dataframe tbody tr th {\n",
       "        vertical-align: top;\n",
       "    }\n",
       "\n",
       "    .dataframe thead th {\n",
       "        text-align: right;\n",
       "    }\n",
       "</style>\n",
       "<table border=\"1\" class=\"dataframe\">\n",
       "  <thead>\n",
       "    <tr style=\"text-align: right;\">\n",
       "      <th></th>\n",
       "      <th>open</th>\n",
       "      <th>timestamps</th>\n",
       "    </tr>\n",
       "  </thead>\n",
       "  <tbody>\n",
       "    <tr>\n",
       "      <th>0</th>\n",
       "      <td>265.97</td>\n",
       "      <td>1.570680e+09</td>\n",
       "    </tr>\n",
       "    <tr>\n",
       "      <th>1</th>\n",
       "      <td>284.80</td>\n",
       "      <td>1.570766e+09</td>\n",
       "    </tr>\n",
       "    <tr>\n",
       "      <th>2</th>\n",
       "      <td>283.93</td>\n",
       "      <td>1.571026e+09</td>\n",
       "    </tr>\n",
       "    <tr>\n",
       "      <th>3</th>\n",
       "      <td>283.82</td>\n",
       "      <td>1.571112e+09</td>\n",
       "    </tr>\n",
       "    <tr>\n",
       "      <th>4</th>\n",
       "      <td>283.12</td>\n",
       "      <td>1.571198e+09</td>\n",
       "    </tr>\n",
       "  </tbody>\n",
       "</table>\n",
       "</div>"
      ],
      "text/plain": [
       "     open    timestamps\n",
       "0  265.97  1.570680e+09\n",
       "1  284.80  1.570766e+09\n",
       "2  283.93  1.571026e+09\n",
       "3  283.82  1.571112e+09\n",
       "4  283.12  1.571198e+09"
      ]
     },
     "execution_count": 140,
     "metadata": {},
     "output_type": "execute_result"
    }
   ],
   "source": [
    "df_py= pd.DataFrame(jsn_py)\n",
    "df_pd= pd.DataFrame(jsn_pd)\n",
    "df_psd= pd.DataFrame(jsn_psd)\n",
    "\n",
    "stock = pd.concat([df_py, df_pd, df_psd])\n",
    "stock = stock.drop(['close','high','low','volume','uOpen','uHigh','uLow','uVolume','change','label','changeOverTime','uClose','minute','date','changePercent','average','notional','numberOfTrades'],axis=1)\n",
    "stock.head()"
   ]
  },
  {
   "cell_type": "code",
   "execution_count": null,
   "metadata": {},
   "outputs": [],
   "source": []
  }
 ],
 "metadata": {
  "kernelspec": {
   "display_name": "Python 2",
   "language": "python",
   "name": "python2"
  },
  "language_info": {
   "codemirror_mode": {
    "name": "ipython",
    "version": 2
   },
   "file_extension": ".py",
   "mimetype": "text/x-python",
   "name": "python",
   "nbconvert_exporter": "python",
   "pygments_lexer": "ipython2",
   "version": "2.7.18"
  }
 },
 "nbformat": 4,
 "nbformat_minor": 2
}
