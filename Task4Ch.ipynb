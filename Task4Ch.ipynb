{
  "nbformat": 4,
  "nbformat_minor": 0,
  "metadata": {
    "colab": {
      "name": "Task4Ch.ipynb",
      "provenance": [],
      "collapsed_sections": []
    },
    "kernelspec": {
      "name": "python3",
      "display_name": "Python 3"
    }
  },
  "cells": [
    {
      "cell_type": "code",
      "metadata": {
        "id": "G6bmWQ_Pdo8H"
      },
      "source": [
        "#libraies for collection of data\n",
        "import numpy as np\n",
        "import pandas as pd\n",
        "# for plotting\n",
        "from matplotlib import pyplot as plt\n",
        "#libraries for feature scaling\n",
        "from sklearn.preprocessing import MinMaxScaler\n",
        "from sklearn.preprocessing import StandardScaler\n",
        "#model selection and training\n",
        "from sklearn.model_selection import train_test_split\n",
        "from sklearn.model_selection import cross_val_score\n",
        "from sklearn.model_selection import KFold\n",
        "from sklearn.metrics import r2_score\n",
        "from sklearn.linear_model import LinearRegression\n",
        "from sklearn.linear_model import Lasso\n",
        "from sklearn.linear_model import ElasticNet\n",
        "from sklearn.neighbors import KNeighborsRegressor\n",
        "from sklearn.tree import DecisionTreeRegressor\n",
        "from sklearn.svm import SVR\n"
      ],
      "execution_count": 52,
      "outputs": []
    },
    {
      "cell_type": "code",
      "metadata": {
        "id": "mHSTC7Z2tcpL"
      },
      "source": [
        "# loading the data and preparing the DataFrame \n",
        "names=['CRIM','ZN','INDUS','CHAS','NOX','RM','AGE','DIS','RAD','TAX','PTRATIO','B','LSTAT','MEDV']\n",
        "df= pd.read_csv('housing (task4).csv',skipinitialspace=True,delim_whitespace=True,names=names)\n",
        "df.dropna(inplace=True)\n",
        "#df"
      ],
      "execution_count": 53,
      "outputs": []
    },
    {
      "cell_type": "code",
      "metadata": {
        "id": "9oSVhfNfwWYl"
      },
      "source": [
        "# Converting DF to Arrays\n",
        "arr= df.values\n",
        "#print(arr)\n",
        "x= arr[:,0:13]\n",
        "y= arr[:,13]\n",
        "#print(x)\n",
        "#print(y)"
      ],
      "execution_count": 54,
      "outputs": []
    },
    {
      "cell_type": "code",
      "metadata": {
        "id": "3wKFI09VyFcI"
      },
      "source": [
        "# feature scaling\n",
        "rex= MinMaxScaler(feature_range=(0,1)).fit_transform(x)\n",
        "#print(rex)"
      ],
      "execution_count": 55,
      "outputs": []
    },
    {
      "cell_type": "code",
      "metadata": {
        "id": "RJZNwQHp39_G"
      },
      "source": [
        "# slicing the dataset using sklearn lib function\n",
        "validation_size=0.20\n",
        "seed=7\n",
        "X_train,X_validation,Y_train,Y_validation= train_test_split(rex,y,test_size=validation_size,random_state=seed)\n",
        "#print(X_train)\n",
        "#print(X_validation)"
      ],
      "execution_count": 56,
      "outputs": []
    },
    {
      "cell_type": "code",
      "metadata": {
        "id": "QwljbPuJ8yAo",
        "outputId": "6eadae54-5631-4bc0-95ab-17f01786af88",
        "colab": {
          "base_uri": "https://localhost:8080/"
        }
      },
      "source": [
        "# feeding to various ML model and testing r2 score\n",
        "num_folds= 3\n",
        "seed=1\n",
        "scoring_method= 'r2'\n",
        "models=[('LR',LinearRegression()),('LASSO',Lasso()),('EN',ElasticNet()),('KNN',KNeighborsRegressor()),('CART',DecisionTreeRegressor()),('SVR',SVR())]\n",
        "# evaluating r2 score of each model\n",
        "results=[]\n",
        "names=[]\n",
        "for name,model in models:\n",
        "  kfold= KFold(n_splits=num_folds, random_state=seed,shuffle=True)\n",
        "  cv_results= cross_val_score(model,X_train,Y_train,cv=kfold,scoring=scoring_method)\n",
        "  results.append(cv_results)\n",
        "  names.append(name)\n",
        "  print(\"%s  %f  %f\"%(name,cv_results.mean(),cv_results.std()))\n",
        "# now we get the r2 score of different model, LR score is the most close to 1"
      ],
      "execution_count": 57,
      "outputs": [
        {
          "output_type": "stream",
          "text": [
            "LR  0.737467  0.011413\n",
            "LASSO  0.245332  0.057829\n",
            "EN  0.160228  0.023761\n",
            "KNN  0.655409  0.021859\n",
            "CART  0.742287  0.047519\n",
            "SVR  0.527794  0.038373\n"
          ],
          "name": "stdout"
        }
      ]
    },
    {
      "cell_type": "code",
      "metadata": {
        "id": "TQdY2p_QZ-83",
        "outputId": "13eafae5-6d71-46c6-ed13-6cfc0a13b960",
        "colab": {
          "base_uri": "https://localhost:8080/",
          "height": 294
        }
      },
      "source": [
        "# comparing on the measures of central tendency using boxplot\n",
        "fig= plt.figure()\n",
        "fig.suptitle('ML Algoriths')\n",
        "ax= fig.add_subplot(111)\n",
        "plt.boxplot(results)\n",
        "ax.set_xticklabels(names)\n",
        "pyplot.show()"
      ],
      "execution_count": 58,
      "outputs": [
        {
          "output_type": "display_data",
          "data": {
            "image/png": "[encoded data removed]",
            "text/plain": [
              "<Figure size 432x288 with 1 Axes>"
            ]
          },
          "metadata": {
            "tags": [],
            "needs_background": "light"
          }
        }
      ]
    },
    {
      "cell_type": "code",
      "metadata": {
        "id": "-Uc2U4TSd8_m"
      },
      "source": [
        "# now we will compare both the r2 score of the models and the boxplot results to decide the final result.\n",
        "# best r2 scores are of LR, CART and KNN, now we'll compare the boxplot of these three\n",
        "# clearly, CART has the best distribution\n",
        "# there we choose our final model- CART"
      ],
      "execution_count": 59,
      "outputs": []
    },
    {
      "cell_type": "code",
      "metadata": {
        "id": "vUJ4HkDie95b",
        "outputId": "354424cf-114d-47ac-c913-541bc3ab92ca",
        "colab": {
          "base_uri": "https://localhost:8080/"
        }
      },
      "source": [
        "# preparing the model using train sets and testing on the validation set to get the fnal score\n",
        "cart= DecisionTreeRegressor(max_depth=10)\n",
        "cart.fit(X_train,Y_train)\n",
        "predictions = cart.predict(X_validation)\n",
        "print(r2_score(Y_validation,predictions)) #final result"
      ],
      "execution_count": 62,
      "outputs": [
        {
          "output_type": "stream",
          "text": [
            "0.6526367619655704\n"
          ],
          "name": "stdout"
        }
      ]
    },
    {
      "cell_type": "code",
      "metadata": {
        "id": "nf-M8GA0hpX4"
      },
      "source": [
        "#model= SVR()\n",
        "#model.fit(X_train,Y_train)\n",
        "#pr= model.predict(X_validation)\n",
        "#print(r2_score(Y_validation,predictions))"
      ],
      "execution_count": 50,
      "outputs": []
    }
  ]
}