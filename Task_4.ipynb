{
  "nbformat": 4,
  "nbformat_minor": 0,
  "metadata": {
    "colab": {
      "name": "Task_4.ipynb",
      "provenance": [],
      "collapsed_sections": []
    },
    "kernelspec": {
      "name": "python3",
      "display_name": "Python 3"
    }
  },
  "cells": [
    {
      "cell_type": "code",
      "metadata": {
        "id": "5J9L0DF5ckHV"
      },
      "source": [
        "import numpy as np\n",
        "import pandas as pd\n",
        "from matplotlib import pyplot\n",
        "from numpy import arange\n",
        "from numpy import printoptions\n",
        "from pandas import read_csv\n",
        "from pandas import set_option\n",
        "import seaborn as sns\n",
        "from sklearn.preprocessing import StandardScaler\n",
        "from sklearn.preprocessing import MinMaxScaler\n",
        "from sklearn.model_selection import train_test_split\n",
        "from sklearn.model_selection import KFold\n",
        "from sklearn.model_selection import cross_val_score\n",
        "from sklearn.linear_model import LinearRegression\n",
        "from sklearn.linear_model import Lasso\n",
        "from sklearn.linear_model import ElasticNet\n",
        "from sklearn.tree import DecisionTreeRegressor\n",
        "\n",
        "from sklearn.neighbors import KNeighborsRegressor\n",
        "from sklearn.ensemble import GradientBoostingRegressor\n",
        "from sklearn.svm import SVR\n",
        "from sklearn.metrics import mean_squared_error,r2_score"
      ],
      "execution_count": 73,
      "outputs": []
    },
    {
      "cell_type": "code",
      "metadata": {
        "id": "cw1zsAdKM1kM"
      },
      "source": [
        "colNames=['CRIM','ZN','INDUS','CHAS','NOX','RM','AGE','DIS','RAD','TAX','PTRATIO','B','LSTAT','MEDV']\n",
        "df=pd.read_csv('housing (task4).csv',skipinitialspace=True,delim_whitespace=True,names=colNames)\n",
        "df=df.dropna()\n"
      ],
      "execution_count": 74,
      "outputs": []
    },
    {
      "cell_type": "code",
      "metadata": {
        "id": "6NxsqM_UJtZa"
      },
      "source": [
        "array=df.values\n",
        "X=array[:,0:13]\n",
        "Y=array[:,13]"
      ],
      "execution_count": 75,
      "outputs": []
    },
    {
      "cell_type": "code",
      "metadata": {
        "id": "e50maPblIt3z",
        "outputId": "7e3b9447-e2cf-4b3c-938b-49d7d7bb7710",
        "colab": {
          "base_uri": "https://localhost:8080/"
        }
      },
      "source": [
        "#Rescalling Data\n",
        "scalar=MinMaxScaler(feature_range=(0,1))\n",
        "rX=scalar.fit_transform(X)\n",
        "np.set_printoptions(precision=4)\n",
        "print(rX[0:1,:])\n"
      ],
      "execution_count": 76,
      "outputs": [
        {
          "output_type": "stream",
          "text": [
            "[[0.     0.18   0.0678 0.     0.3148 0.5775 0.6416 0.2692 0.     0.208\n",
            "  0.2872 1.     0.0897]]\n"
          ],
          "name": "stdout"
        }
      ]
    },
    {
      "cell_type": "code",
      "metadata": {
        "id": "5qj16ukbM-L7"
      },
      "source": [
        "validation_size=0.33\n",
        "seed=7\n",
        "X_train,X_validation,Y_train,Y_validation=train_test_split(rX,Y,test_size=validation_size,random_state=seed)"
      ],
      "execution_count": 77,
      "outputs": []
    },
    {
      "cell_type": "code",
      "metadata": {
        "id": "G9xJ9GXWmXK2"
      },
      "source": [
        "num_folds=3\n",
        "seed=1\n",
        "scoring='r2'"
      ],
      "execution_count": 78,
      "outputs": []
    },
    {
      "cell_type": "code",
      "metadata": {
        "id": "EgwsK9CBmhbd",
        "outputId": "59c313fb-8954-4e61-c6ae-6bbd07d6e6fd",
        "colab": {
          "base_uri": "https://localhost:8080/"
        }
      },
      "source": [
        "models=[]\n",
        "models.append(('LR',LinearRegression()))\n",
        "models.append(('LASSO',Lasso()))\n",
        "models.append(('EN',ElasticNet()))\n",
        "models.append(('KNN',KNeighborsRegressor()))\n",
        "models.append(('CART',DecisionTreeRegressor()))\n",
        "models.append(('SVR',SVR()))\n",
        "results=[]\n",
        "names=[]\n",
        "for name, model in models:  \n",
        "  kfold=KFold(n_splits=num_folds,random_state=seed,shuffle=True)\n",
        "  cv_results=cross_val_score(model,X_train,Y_train,cv=kfold,scoring=scoring)\n",
        "  results.append(cv_results)\n",
        "  names.append(name)\n",
        "  msg=\"%s: %f (%f)\" % (name,cv_results.mean(),cv_results.std())\n",
        "  print(msg)"
      ],
      "execution_count": 79,
      "outputs": [
        {
          "output_type": "stream",
          "text": [
            "LR: 0.710669 (0.050219)\n",
            "LASSO: 0.229649 (0.073271)\n",
            "EN: 0.126835 (0.040412)\n",
            "KNN: 0.605440 (0.070115)\n",
            "CART: 0.715362 (0.028046)\n",
            "SVR: 0.472674 (0.098830)\n"
          ],
          "name": "stdout"
        }
      ]
    },
    {
      "cell_type": "code",
      "metadata": {
        "id": "DCTb2frXIUAp",
        "outputId": "dae357f2-d378-46b6-c577-ce11a2eefe76",
        "colab": {
          "base_uri": "https://localhost:8080/",
          "height": 294
        }
      },
      "source": [
        "fig=pyplot.figure()\n",
        "fig.suptitle('Scaled Algorithm Comparison')\n",
        "ax=fig.add_subplot(111) #(rows columns n) n<=rows*columns\n",
        "pyplot.boxplot(results)\n",
        "ax.set_xticklabels(names)\n",
        "pyplot.show()"
      ],
      "execution_count": 80,
      "outputs": [
        {
          "output_type": "display_data",
          "data": {
            "image/png": "[encoded data removed]",
            "text/plain": [
              "<Figure size 432x288 with 1 Axes>"
            ]
          },
          "metadata": {
            "tags": [],
            "needs_background": "light"
          }
        }
      ]
    },
    {
      "cell_type": "code",
      "metadata": {
        "id": "-Kf966fWTETX",
        "outputId": "549471fc-32a6-4e02-8c31-4e578ff86e94",
        "colab": {
          "base_uri": "https://localhost:8080/"
        }
      },
      "source": [
        "model=DecisionTreeRegressor(max_depth=30)\n",
        "model.fit(X_train, Y_train)\n",
        "predictions=model.predict(X_validation)\n",
        "print(r2_score(Y_validation,predictions))"
      ],
      "execution_count": 81,
      "outputs": [
        {
          "output_type": "stream",
          "text": [
            "0.6964958987944256\n"
          ],
          "name": "stdout"
        }
      ]
    },
    {
      "cell_type": "code",
      "metadata": {
        "id": "0qL-nNl3TX8i",
        "outputId": "4ba3a356-d9f1-4478-8b47-d55f1d5a5a21",
        "colab": {
          "base_uri": "https://localhost:8080/"
        }
      },
      "source": [
        "scaler=StandardScaler().fit(X_train)\n",
        "rescaledX=scaler.transform(X_train)\n",
        "model=GradientBoostingRegressor(random_state=seed,n_estimators=100)\n",
        "model.fit(rescaledX, Y_train)\n",
        "rescaledValidationX = scaler.transform(X_validation)\n",
        "predictions = model.predict(rescaledValidationX)\n",
        "print(r2_score(Y_validation, predictions))\n"
      ],
      "execution_count": 85,
      "outputs": [
        {
          "output_type": "stream",
          "text": [
            "0.869829076477171\n"
          ],
          "name": "stdout"
        }
      ]
    }
  ]
}