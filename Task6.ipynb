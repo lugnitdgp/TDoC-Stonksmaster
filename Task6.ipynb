{
  "nbformat": 4,
  "nbformat_minor": 0,
  "metadata": {
    "colab": {
      "name": "Task6.ipynb",
      "provenance": [],
      "authorship_tag": "ABX9TyPRV0JHwwPGOW+Jq6HDmp+E"
    },
    "kernelspec": {
      "name": "python3",
      "display_name": "Python 3"
    }
  },
  "cells": [
    {
      "cell_type": "markdown",
      "metadata": {
        "id": "jGvvRM0mJ7qK"
      },
      "source": [
        "Importing required libraries"
      ]
    },
    {
      "cell_type": "code",
      "metadata": {
        "id": "274ZwCFjJsLL"
      },
      "source": [
        "import requests\n",
        "import json\n",
        "import datetime\n",
        "from datetime import datetime as dt\n",
        "import time\n",
        "import pandas as pd\n",
        "import numpy as np\n",
        "import seaborn as sns\n",
        "import matplotlib.pyplot as plt\n",
        "from sklearn.preprocessing import StandardScaler, MinMaxScaler\n",
        "from sklearn.model_selection import train_test_split\n",
        "from sklearn.model_selection import KFold\n",
        "from sklearn.model_selection import cross_val_score\n",
        "from sklearn.linear_model import LinearRegression\n",
        "from sklearn.linear_model import Lasso\n",
        "from sklearn.linear_model import ElasticNet\n",
        "from sklearn.ensemble import RandomForestRegressor\n",
        "from sklearn.tree import DecisionTreeRegressor\n",
        "from sklearn.neighbors import KNeighborsRegressor\n",
        "from sklearn.ensemble import GradientBoostingRegressor\n",
        "from sklearn.svm import SVR\n",
        "from sklearn.metrics import mean_squared_error, r2_score"
      ],
      "execution_count": 27,
      "outputs": []
    },
    {
      "cell_type": "markdown",
      "metadata": {
        "id": "zsmBtSSlMepB"
      },
      "source": [
        "Importing Data"
      ]
    },
    {
      "cell_type": "code",
      "metadata": {
        "id": "PxByYOYWKA_V"
      },
      "source": [
        "key = \"pk_f6cf9e2425354ca5b8487526e91b5249\"\n",
        "ticker = \"aapl\"\n",
        "prev_yr = \"https://cloud.iexapis.com/stable/stock/\"+ticker+\"/chart/1y?token=\"+key\n",
        "prev_day = \"https://cloud.iexapis.com/stable/stock/\"+ticker+\"/chart/1d?token=\"+key\n",
        "present_day = \"https://cloud.iexapis.com/stable/stock/\"+ticker+\"/intraday-prices/batch?token=\"+key\n",
        "\n",
        "prevyr_data = requests.get(prev_yr)\n",
        "prevday_data = requests.get(prev_day)\n",
        "presday_data = requests.get(present_day)\n",
        "prevyr = json.loads(prevyr_data.text)\n",
        "prevday = json.loads(prevday_data.text)\n",
        "presentday = json.loads(presday_data.text)"
      ],
      "execution_count": 28,
      "outputs": []
    },
    {
      "cell_type": "markdown",
      "metadata": {
        "id": "ZZ9fbYoNKQS2"
      },
      "source": [
        "Converting dates to timestamps"
      ]
    },
    {
      "cell_type": "code",
      "metadata": {
        "id": "A1OXRx1SKGIR"
      },
      "source": [
        "for i in prevyr:\n",
        "    i['minute'] = i.get('minute','09:30')\n",
        "\n",
        "for i in prevyr:\n",
        "        string = i['date']+'T'+i['minute']+':00+00:00'\n",
        "        element= dt.strptime(string,\"%Y-%m-%dT%H:%M:%S+00:00\")\n",
        "        tuple = element.timetuple() \n",
        "        timestamp = time.mktime(tuple)\n",
        "        i['timestamps']= i.get('timestamps',timestamp)\n",
        "\n",
        "for i in prevday:\n",
        "        string = i['date']+'T'+i['minute']+':00+00:00'\n",
        "        element= dt.strptime(string,\"%Y-%m-%dT%H:%M:%S+00:00\")\n",
        "        tuple = element.timetuple() \n",
        "        timestamp = time.mktime(tuple)\n",
        "        i['timestamps']= i.get('timestamps',timestamp)\n",
        "\n",
        "for i in presentday:\n",
        "        string = i['date']+'T'+i['minute']+':00+00:00'\n",
        "        element= dt.strptime(string,\"%Y-%m-%dT%H:%M:%S+00:00\")\n",
        "        tuple = element.timetuple() \n",
        "        timestamp = time.mktime(tuple)\n",
        "        i['timestamps']= i.get('timestamps',timestamp)"
      ],
      "execution_count": 29,
      "outputs": []
    },
    {
      "cell_type": "markdown",
      "metadata": {
        "id": "tuvNh3hnKWsp"
      },
      "source": [
        "Making DataFrames"
      ]
    },
    {
      "cell_type": "code",
      "metadata": {
        "id": "asbZETh7KY2_",
        "outputId": "ae51cebe-338b-4006-d6d6-24377733d026",
        "colab": {
          "base_uri": "https://localhost:8080/",
          "height": 206
        }
      },
      "source": [
        "pd.set_option(\"display.precision\", 4)\n",
        "\n",
        "df_prevyr= pd.DataFrame(prevyr)\n",
        "df_prevday= pd.DataFrame(prevday)\n",
        "df_presday= pd.DataFrame(presentday)\n",
        "\n",
        "dataset = pd.concat([df_prevyr, df_prevday, df_presday])\n",
        "dataset = dataset.drop(['close','high','low','volume','uOpen','uHigh','uLow','uVolume','change','label','changeOverTime','uClose','minute','date','changePercent','average','notional','numberOfTrades'],axis=1)\n",
        "dataset.head(5)"
      ],
      "execution_count": 30,
      "outputs": [
        {
          "output_type": "execute_result",
          "data": {
            "text/html": [
              "<div>\n",
              "<style scoped>\n",
              "    .dataframe tbody tr th:only-of-type {\n",
              "        vertical-align: middle;\n",
              "    }\n",
              "\n",
              "    .dataframe tbody tr th {\n",
              "        vertical-align: top;\n",
              "    }\n",
              "\n",
              "    .dataframe thead th {\n",
              "        text-align: right;\n",
              "    }\n",
              "</style>\n",
              "<table border=\"1\" class=\"dataframe\">\n",
              "  <thead>\n",
              "    <tr style=\"text-align: right;\">\n",
              "      <th></th>\n",
              "      <th>open</th>\n",
              "      <th>timestamps</th>\n",
              "    </tr>\n",
              "  </thead>\n",
              "  <tbody>\n",
              "    <tr>\n",
              "      <th>0</th>\n",
              "      <td>56.98</td>\n",
              "      <td>1.5707e+09</td>\n",
              "    </tr>\n",
              "    <tr>\n",
              "      <th>1</th>\n",
              "      <td>58.24</td>\n",
              "      <td>1.5708e+09</td>\n",
              "    </tr>\n",
              "    <tr>\n",
              "      <th>2</th>\n",
              "      <td>58.73</td>\n",
              "      <td>1.5710e+09</td>\n",
              "    </tr>\n",
              "    <tr>\n",
              "      <th>3</th>\n",
              "      <td>59.10</td>\n",
              "      <td>1.5711e+09</td>\n",
              "    </tr>\n",
              "    <tr>\n",
              "      <th>4</th>\n",
              "      <td>58.34</td>\n",
              "      <td>1.5712e+09</td>\n",
              "    </tr>\n",
              "  </tbody>\n",
              "</table>\n",
              "</div>"
            ],
            "text/plain": [
              "    open  timestamps\n",
              "0  56.98  1.5707e+09\n",
              "1  58.24  1.5708e+09\n",
              "2  58.73  1.5710e+09\n",
              "3  59.10  1.5711e+09\n",
              "4  58.34  1.5712e+09"
            ]
          },
          "metadata": {
            "tags": []
          },
          "execution_count": 30
        }
      ]
    },
    {
      "cell_type": "code",
      "metadata": {
        "id": "hQOg7dnhKnEn",
        "outputId": "083a641a-a72a-48e1-f4fc-13ef894a5a9f",
        "colab": {
          "base_uri": "https://localhost:8080/",
          "height": 129
        }
      },
      "source": [
        "dataset[dataset==np.inf]=np.nan\n",
        "dataset.fillna(dataset.mean(), inplace=True)\n",
        "dataset.timestamps[0:5]"
      ],
      "execution_count": 31,
      "outputs": [
        {
          "output_type": "execute_result",
          "data": {
            "text/plain": [
              "0    1.5707e+09\n",
              "1    1.5708e+09\n",
              "2    1.5710e+09\n",
              "3    1.5711e+09\n",
              "4    1.5712e+09\n",
              "Name: timestamps, dtype: float64"
            ]
          },
          "metadata": {
            "tags": []
          },
          "execution_count": 31
        }
      ]
    },
    {
      "cell_type": "markdown",
      "metadata": {
        "id": "m7CUk39aKxFB"
      },
      "source": [
        "Reshaping arrays"
      ]
    },
    {
      "cell_type": "code",
      "metadata": {
        "id": "LM0OelFpKqt3"
      },
      "source": [
        "array = dataset.values\n",
        "X = array[:,1]\n",
        "X = X.reshape(-1,1)\n",
        "y = array[:,0]"
      ],
      "execution_count": 32,
      "outputs": []
    },
    {
      "cell_type": "markdown",
      "metadata": {
        "id": "2rkr0Dr4KtlY"
      },
      "source": [
        "Splitting the data"
      ]
    },
    {
      "cell_type": "code",
      "metadata": {
        "id": "rIf8j8wgKrhS"
      },
      "source": [
        "X_train, X_validation, Y_train, Y_validation = train_test_split(X, y,test_size=0.3, random_state=3)"
      ],
      "execution_count": 33,
      "outputs": []
    },
    {
      "cell_type": "markdown",
      "metadata": {
        "id": "L0nhHEfzK_9J"
      },
      "source": [
        "Importing models"
      ]
    },
    {
      "cell_type": "code",
      "metadata": {
        "id": "pI6V0woSLBob"
      },
      "source": [
        "models = []\n",
        "models.append((' LR ', LinearRegression()))\n",
        "models.append((' LASSO ', Lasso()))\n",
        "models.append((' EN ', ElasticNet()))\n",
        "models.append((' KNN ', KNeighborsRegressor()))\n",
        "models.append(('Random Forest',RandomForestRegressor()))\n",
        "models.append((\"Gradient Boosting\", GradientBoostingRegressor()))\n",
        "models.append((' Decison Tree ', DecisionTreeRegressor()))\n",
        "models.append((' Support Vector ', SVR()))\n"
      ],
      "execution_count": 34,
      "outputs": []
    },
    {
      "cell_type": "markdown",
      "metadata": {
        "id": "szRSge3aLCWU"
      },
      "source": [
        "Evaluating the models"
      ]
    },
    {
      "cell_type": "code",
      "metadata": {
        "id": "i3k32qghLQ-T",
        "outputId": "73971b82-6186-4479-fd9f-32f566066e4f",
        "colab": {
          "base_uri": "https://localhost:8080/",
          "height": 166
        }
      },
      "source": [
        "results = []\n",
        "names = []\n",
        "for name, model in models:\n",
        "    kfold = KFold( shuffle=True, random_state=5)\n",
        "    cv_result = cross_val_score(model, X_train, Y_train, cv=kfold, scoring='r2')\n",
        "    results.append(cv_result)\n",
        "    names.append(name)\n",
        "    print(f'{name} has mean {round(cv_result.mean(), 3)} with standard deviation {round(cv_result.std(), 3)}')"
      ],
      "execution_count": 35,
      "outputs": [
        {
          "output_type": "stream",
          "text": [
            " LR  has mean 0.906 with standard deviation 0.022\n",
            " LASSO  has mean 0.906 with standard deviation 0.022\n",
            " EN  has mean 0.906 with standard deviation 0.022\n",
            " KNN  has mean 0.993 with standard deviation 0.003\n",
            "Random Forest has mean 0.995 with standard deviation 0.002\n",
            "Gradient Boosting has mean 0.994 with standard deviation 0.003\n",
            " Decison Tree  has mean 0.994 with standard deviation 0.002\n",
            " Support Vector  has mean 0.967 with standard deviation 0.009\n"
          ],
          "name": "stdout"
        }
      ]
    },
    {
      "cell_type": "markdown",
      "metadata": {
        "id": "f1iaIR_lLRxI"
      },
      "source": [
        "Plotting models' results "
      ]
    },
    {
      "cell_type": "code",
      "metadata": {
        "id": "YAaPNa17LXIk",
        "outputId": "85633683-4050-4197-e4ea-bc19d2498904",
        "colab": {
          "base_uri": "https://localhost:8080/",
          "height": 294
        }
      },
      "source": [
        "fig = plt.figure()\n",
        "fig.suptitle(' Algorithm Comparison ')\n",
        "ax = fig.add_subplot(111)\n",
        "plt.boxplot(results)\n",
        "ax.set_xticklabels(names)\n",
        "plt.show()\n"
      ],
      "execution_count": 36,
      "outputs": [
        {
          "output_type": "display_data",
          "data": {
            "image/png": "[encoded data removed]",
            "text/plain": [
              "<Figure size 432x288 with 1 Axes>"
            ]
          },
          "metadata": {
            "tags": [],
            "needs_background": "light"
          }
        }
      ]
    },
    {
      "cell_type": "markdown",
      "metadata": {
        "id": "hXdSW4m4OanN"
      },
      "source": [
        "Random Forest Regressor gives the best results and is the model with which we go ahead in this project"
      ]
    },
    {
      "cell_type": "markdown",
      "metadata": {
        "id": "1skGTHXROp0K"
      },
      "source": [
        "Fitting the model"
      ]
    },
    {
      "cell_type": "code",
      "metadata": {
        "id": "IF5cXiwsNbXZ",
        "outputId": "dc24b9b7-5f42-42b7-c0a6-9289856f42cc",
        "colab": {
          "base_uri": "https://localhost:8080/",
          "height": 36
        }
      },
      "source": [
        "model = RandomForestRegressor(max_depth=20)\n",
        "model.fit(X_train, y_train)\n",
        "\n",
        "predictions = model.predict(X_val)\n",
        "print(r2_score(y_val, predictions))"
      ],
      "execution_count": 37,
      "outputs": [
        {
          "output_type": "stream",
          "text": [
            "0.9971789813003713\n"
          ],
          "name": "stdout"
        }
      ]
    },
    {
      "cell_type": "markdown",
      "metadata": {
        "id": "96EcAGmgOr8U"
      },
      "source": [
        "Plotting the predictions"
      ]
    },
    {
      "cell_type": "code",
      "metadata": {
        "id": "lenC2amkNn-z",
        "outputId": "6b31ea1e-aeb5-4f32-aca6-5f142ae752f3",
        "colab": {
          "base_uri": "https://localhost:8080/",
          "height": 627
        }
      },
      "source": [
        "figure = plt.figure(figsize=(15,10))\n",
        "plt.plot(X, y, label=\"ACTUAL PRICES\")\n",
        "plt.plot(X, model.predict(X.reshape(-1,1)), label=\"PREDICTED PRICES\")\n",
        "plt.legend(loc='lower right')\n",
        "plt.title(\"STOCK PRICE OF \"+ ticker, fontsize=20, fontweight='bold')\n",
        "plt.xlabel(\"TIME INTERVAL\")\n",
        "plt.ylabel(\"STOCK PRICE\")\n",
        "plt.show()"
      ],
      "execution_count": 38,
      "outputs": [
        {
          "output_type": "display_data",
          "data": {
            "image/png": "[encoded data removed]",
            "text/plain": [
              "<Figure size 1080x720 with 1 Axes>"
            ]
          },
          "metadata": {
            "tags": [],
            "needs_background": "light"
          }
        }
      ]
    }
  ]
}