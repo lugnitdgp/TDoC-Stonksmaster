{
 "cells": [
  {
   "cell_type": "code",
   "execution_count": 10,
   "metadata": {},
   "outputs": [],
   "source": [
    "import numpy as np \n",
    "import pandas as pd \n",
    "import matplotlib.pyplot as plt\n",
    "import seaborn as sns"
   ]
  },
  {
   "cell_type": "code",
   "execution_count": 11,
   "metadata": {},
   "outputs": [],
   "source": [
    "df=pd.read_csv(\"housing.csv\")"
   ]
  },
  {
   "cell_type": "code",
   "execution_count": 12,
   "metadata": {},
   "outputs": [
    {
     "data": {
      "text/html": [
       "<div>\n",
       "<style scoped>\n",
       "    .dataframe tbody tr th:only-of-type {\n",
       "        vertical-align: middle;\n",
       "    }\n",
       "\n",
       "    .dataframe tbody tr th {\n",
       "        vertical-align: top;\n",
       "    }\n",
       "\n",
       "    .dataframe thead th {\n",
       "        text-align: right;\n",
       "    }\n",
       "</style>\n",
       "<table border=\"1\" class=\"dataframe\">\n",
       "  <thead>\n",
       "    <tr style=\"text-align: right;\">\n",
       "      <th></th>\n",
       "      <th>RM</th>\n",
       "      <th>LSTAT</th>\n",
       "      <th>PTRATIO</th>\n",
       "      <th>MEDV</th>\n",
       "    </tr>\n",
       "  </thead>\n",
       "  <tbody>\n",
       "    <tr>\n",
       "      <th>0</th>\n",
       "      <td>6.575</td>\n",
       "      <td>4.98</td>\n",
       "      <td>15.3</td>\n",
       "      <td>504000.0</td>\n",
       "    </tr>\n",
       "    <tr>\n",
       "      <th>1</th>\n",
       "      <td>6.421</td>\n",
       "      <td>9.14</td>\n",
       "      <td>17.8</td>\n",
       "      <td>453600.0</td>\n",
       "    </tr>\n",
       "    <tr>\n",
       "      <th>2</th>\n",
       "      <td>7.185</td>\n",
       "      <td>4.03</td>\n",
       "      <td>17.8</td>\n",
       "      <td>728700.0</td>\n",
       "    </tr>\n",
       "    <tr>\n",
       "      <th>3</th>\n",
       "      <td>6.998</td>\n",
       "      <td>2.94</td>\n",
       "      <td>18.7</td>\n",
       "      <td>701400.0</td>\n",
       "    </tr>\n",
       "    <tr>\n",
       "      <th>4</th>\n",
       "      <td>7.147</td>\n",
       "      <td>5.33</td>\n",
       "      <td>18.7</td>\n",
       "      <td>760200.0</td>\n",
       "    </tr>\n",
       "  </tbody>\n",
       "</table>\n",
       "</div>"
      ],
      "text/plain": [
       "      RM  LSTAT  PTRATIO      MEDV\n",
       "0  6.575   4.98     15.3  504000.0\n",
       "1  6.421   9.14     17.8  453600.0\n",
       "2  7.185   4.03     17.8  728700.0\n",
       "3  6.998   2.94     18.7  701400.0\n",
       "4  7.147   5.33     18.7  760200.0"
      ]
     },
     "execution_count": 12,
     "metadata": {},
     "output_type": "execute_result"
    }
   ],
   "source": [
    "df.head()"
   ]
  },
  {
   "cell_type": "code",
   "execution_count": 13,
   "metadata": {},
   "outputs": [
    {
     "name": "stdout",
     "output_type": "stream",
     "text": [
      "<class 'pandas.core.frame.DataFrame'>\n",
      "RangeIndex: 489 entries, 0 to 488\n",
      "Data columns (total 4 columns):\n",
      " #   Column   Non-Null Count  Dtype  \n",
      "---  ------   --------------  -----  \n",
      " 0   RM       489 non-null    float64\n",
      " 1   LSTAT    489 non-null    float64\n",
      " 2   PTRATIO  489 non-null    float64\n",
      " 3   MEDV     489 non-null    float64\n",
      "dtypes: float64(4)\n",
      "memory usage: 15.4 KB\n"
     ]
    }
   ],
   "source": [
    "df.info()"
   ]
  },
  {
   "cell_type": "code",
   "execution_count": 14,
   "metadata": {},
   "outputs": [
    {
     "data": {
      "text/plain": [
       "RM         0\n",
       "LSTAT      0\n",
       "PTRATIO    0\n",
       "MEDV       0\n",
       "dtype: int64"
      ]
     },
     "execution_count": 14,
     "metadata": {},
     "output_type": "execute_result"
    }
   ],
   "source": [
    "df.isnull().sum()"
   ]
  },
  {
   "cell_type": "code",
   "execution_count": 15,
   "metadata": {},
   "outputs": [],
   "source": [
    "X=df.drop(\"MEDV\",axis=1)\n",
    "y=df.MEDV.values"
   ]
  },
  {
   "cell_type": "code",
   "execution_count": 16,
   "metadata": {},
   "outputs": [
    {
     "data": {
      "text/html": [
       "<div>\n",
       "<style scoped>\n",
       "    .dataframe tbody tr th:only-of-type {\n",
       "        vertical-align: middle;\n",
       "    }\n",
       "\n",
       "    .dataframe tbody tr th {\n",
       "        vertical-align: top;\n",
       "    }\n",
       "\n",
       "    .dataframe thead th {\n",
       "        text-align: right;\n",
       "    }\n",
       "</style>\n",
       "<table border=\"1\" class=\"dataframe\">\n",
       "  <thead>\n",
       "    <tr style=\"text-align: right;\">\n",
       "      <th></th>\n",
       "      <th>RM</th>\n",
       "      <th>LSTAT</th>\n",
       "      <th>PTRATIO</th>\n",
       "    </tr>\n",
       "  </thead>\n",
       "  <tbody>\n",
       "    <tr>\n",
       "      <th>0</th>\n",
       "      <td>6.575</td>\n",
       "      <td>4.98</td>\n",
       "      <td>15.3</td>\n",
       "    </tr>\n",
       "    <tr>\n",
       "      <th>1</th>\n",
       "      <td>6.421</td>\n",
       "      <td>9.14</td>\n",
       "      <td>17.8</td>\n",
       "    </tr>\n",
       "    <tr>\n",
       "      <th>2</th>\n",
       "      <td>7.185</td>\n",
       "      <td>4.03</td>\n",
       "      <td>17.8</td>\n",
       "    </tr>\n",
       "    <tr>\n",
       "      <th>3</th>\n",
       "      <td>6.998</td>\n",
       "      <td>2.94</td>\n",
       "      <td>18.7</td>\n",
       "    </tr>\n",
       "    <tr>\n",
       "      <th>4</th>\n",
       "      <td>7.147</td>\n",
       "      <td>5.33</td>\n",
       "      <td>18.7</td>\n",
       "    </tr>\n",
       "    <tr>\n",
       "      <th>...</th>\n",
       "      <td>...</td>\n",
       "      <td>...</td>\n",
       "      <td>...</td>\n",
       "    </tr>\n",
       "    <tr>\n",
       "      <th>484</th>\n",
       "      <td>6.593</td>\n",
       "      <td>9.67</td>\n",
       "      <td>21.0</td>\n",
       "    </tr>\n",
       "    <tr>\n",
       "      <th>485</th>\n",
       "      <td>6.120</td>\n",
       "      <td>9.08</td>\n",
       "      <td>21.0</td>\n",
       "    </tr>\n",
       "    <tr>\n",
       "      <th>486</th>\n",
       "      <td>6.976</td>\n",
       "      <td>5.64</td>\n",
       "      <td>21.0</td>\n",
       "    </tr>\n",
       "    <tr>\n",
       "      <th>487</th>\n",
       "      <td>6.794</td>\n",
       "      <td>6.48</td>\n",
       "      <td>21.0</td>\n",
       "    </tr>\n",
       "    <tr>\n",
       "      <th>488</th>\n",
       "      <td>6.030</td>\n",
       "      <td>7.88</td>\n",
       "      <td>21.0</td>\n",
       "    </tr>\n",
       "  </tbody>\n",
       "</table>\n",
       "<p>489 rows × 3 columns</p>\n",
       "</div>"
      ],
      "text/plain": [
       "        RM  LSTAT  PTRATIO\n",
       "0    6.575   4.98     15.3\n",
       "1    6.421   9.14     17.8\n",
       "2    7.185   4.03     17.8\n",
       "3    6.998   2.94     18.7\n",
       "4    7.147   5.33     18.7\n",
       "..     ...    ...      ...\n",
       "484  6.593   9.67     21.0\n",
       "485  6.120   9.08     21.0\n",
       "486  6.976   5.64     21.0\n",
       "487  6.794   6.48     21.0\n",
       "488  6.030   7.88     21.0\n",
       "\n",
       "[489 rows x 3 columns]"
      ]
     },
     "execution_count": 16,
     "metadata": {},
     "output_type": "execute_result"
    }
   ],
   "source": [
    "X"
   ]
  },
  {
   "cell_type": "code",
   "execution_count": 17,
   "metadata": {},
   "outputs": [
    {
     "data": {
      "text/plain": [
       "array([ 504000.,  453600.,  728700.,  701400.,  760200.,  602700.,\n",
       "        480900.,  569100.,  346500.,  396900.,  315000.,  396900.,\n",
       "        455700.,  428400.,  382200.,  417900.,  485100.,  367500.,\n",
       "        424200.,  382200.,  285600.,  411600.,  319200.,  304500.,\n",
       "        327600.,  291900.,  348600.,  310800.,  386400.,  441000.,\n",
       "        266700.,  304500.,  277200.,  275100.,  283500.,  396900.,\n",
       "        420000.,  441000.,  518700.,  646800.,  732900.,  558600.,\n",
       "        531300.,  518700.,  445200.,  405300.,  420000.,  348600.,\n",
       "        302400.,  407400.,  413700.,  430500.,  525000.,  491400.,\n",
       "        396900.,  743400.,  518700.,  663600.,  489300.,  411600.,\n",
       "        392700.,  336000.,  466200.,  525000.,  693000.,  493500.,\n",
       "        407400.,  462000.,  365400.,  438900.,  508200.,  455700.,\n",
       "        478800.,  491400.,  506100.,  449400.,  420000.,  436800.,\n",
       "        445200.,  426300.,  588000.,  501900.,  520800.,  480900.,\n",
       "        501900.,  558600.,  472500.,  466200.,  495600.,  602700.,\n",
       "        474600.,  462000.,  480900.,  525000.,  432600.,  596400.,\n",
       "        449400.,  812700.,  919800.,  697200.,  577500.,  556500.,\n",
       "        390600.,  405300.,  422100.,  409500.,  409500.,  428400.,\n",
       "        415800.,  407400.,  455700.,  478800.,  394800.,  392700.,\n",
       "        388500.,  384300.,  445200.,  403200.,  428400.,  405300.,\n",
       "        462000.,  426300.,  430500.,  363300.,  394800.,  449400.,\n",
       "        329700.,  340200.,  378000.,  300300.,  403200.,  411600.,\n",
       "        483000.,  386400.,  327600.,  380100.,  365400.,  359100.,\n",
       "        279300.,  373800.,  294000.,  302400.,  281400.,  327600.,\n",
       "        247800.,  289800.,  327600.,  306600.,  373800.,  323400.,\n",
       "        451500.,  411600.,  321300.,  407400.,  357000.,  327600.,\n",
       "        275100.,  867300.,  510300.,  489300.,  567000.,  476700.,\n",
       "        525000.,  499800.,  499800.,  468300.,  365400.,  401100.,\n",
       "        485100.,  495600.,  474600.,  617400.,  487200.,  516600.,\n",
       "        627900.,  781200.,  835800.,  760200.,  795900.,  682500.,\n",
       "        554400.,  621600.,  672000.,  625800.,  732900.,  777000.,\n",
       "        640500.,  764400.,  653100.,  611100.,  699300.,  636300.,\n",
       "        726600.,  732900.,  690900.,  506100.,  888300., 1018500.,\n",
       "        474600.,  512400.,  472500.,  512400.,  420000.,  455700.,\n",
       "        405300.,  470400.,  590100.,  497700.,  525000.,  489300.,\n",
       "        602700.,  451500.,  483000.,  560700.,  455700.,  577500.,\n",
       "        632100.,  940800.,  789600.,  663600.,  980700.,  661500.,\n",
       "        510300.,  665700.,  875700., 1014300.,  609000.,  504000.,\n",
       "        527100.,  661500.,  497700.,  489300.,  462000.,  422100.,\n",
       "        466200.,  497700.,  369600.,  388500.,  510300.,  430500.,\n",
       "        514500.,  550200.,  512400.,  520800.,  621600.,  898800.,\n",
       "        459900.,  438900.,  924000.,  756000.,  632100.,  709800.,\n",
       "        905100., 1024800.,  651000.,  766500.,  478800.,  644700.,\n",
       "        913500.,  434700.,  443100.,  529200.,  512400.,  739200.,\n",
       "        680400.,  672000.,  697200.,  695100.,  611100.,  737100.,\n",
       "        953400.,  743400.,  966000.,  676200.,  462000.,  422100.,\n",
       "        487200.,  468300.,  520800.,  598500.,  783300.,  585900.,\n",
       "        501900.,  455700.,  600600.,  569100.,  426300.,  472500.,\n",
       "        609000.,  520800.,  462000.,  554400.,  695100.,  758100.,\n",
       "        596400.,  701400.,  592200.,  478800.,  426300.,  338100.,\n",
       "        464100.,  407400.,  453600.,  499800.,  340200.,  373800.,\n",
       "        415800.,  485100.,  441000.,  499800.,  485100.,  428400.,\n",
       "        388500.,  525000.,  516600.,  483000.,  466200.,  405300.,\n",
       "        474600.,  415800.,  359100.,  407400.,  466200.,  434700.,\n",
       "        443100.,  409500.,  388500.,  432600.,  399000.,  392700.,\n",
       "        686700.,  346500.,  501900.,  655200.,  367500.,  361200.,\n",
       "        485100.,  514500.,  558600.,  480900.,  506100.,  390600.,\n",
       "        632100.,  382200.,  432600.,  373800.,  455700.,  476700.,\n",
       "        474600.,  525000.,  417900.,  436800.,  352800.,  577500.,\n",
       "        459900.,  485100.,  289800.,  289800.,  315000.,  291900.,\n",
       "        279300.,  275100.,  214200.,  218400.,  228900.,  237300.,\n",
       "        258300.,  184800.,  151200.,  220500.,  155400.,  214200.,\n",
       "        241500.,  317100.,  487200.,  203700.,  289800.,  266700.,\n",
       "        275100.,  262500.,  178500.,  105000.,  132300.,  117600.,\n",
       "        151200.,  254100.,  174300.,  178500.,  105000.,  249900.,\n",
       "        585900.,  361200.,  577500.,  315000.,  361200.,  375900.,\n",
       "        342300.,  147000.,  151200.,  157500.,  218400.,  184800.,\n",
       "        176400.,  350700.,  298200.,  436800.,  281400.,  245700.,\n",
       "        174300.,  214200.,  228900.,  231000.,  199500.,  304500.,\n",
       "        296100.,  338100.,  300300.,  245700.,  281400.,  201600.,\n",
       "        182700.,  176400.,  268800.,  220500.,  359100.,  386400.,\n",
       "        323400.,  226800.,  247800.,  312900.,  264600.,  296100.,\n",
       "        273000.,  281400.,  319200.,  338100.,  373800.,  312900.,\n",
       "        296100.,  266700.,  283500.,  312900.,  420000.,  344400.,\n",
       "        371700.,  409500.,  424200.,  449400.,  417900.,  399000.,\n",
       "        401100.,  401100.,  422100.,  417900.,  411600.,  487200.,\n",
       "        625800.,  289800.,  279300.,  350700.,  252000.,  306600.,\n",
       "        449400.,  483000.,  497700.,  525000.,  457800.,  432600.,\n",
       "        445200.,  401100.,  432600.,  319200.,  147000.,  170100.,\n",
       "        285600.,  422100.,  457800.,  514500.,  485100.,  413700.,\n",
       "        384300.,  445200.,  367500.,  352800.,  470400.,  432600.,\n",
       "        501900.,  462000.,  249900.])"
      ]
     },
     "execution_count": 17,
     "metadata": {},
     "output_type": "execute_result"
    }
   ],
   "source": [
    "y"
   ]
  },
  {
   "cell_type": "code",
   "execution_count": 19,
   "metadata": {},
   "outputs": [],
   "source": [
    "## Models\n",
    "from sklearn.linear_model import LinearRegression\n",
    "from sklearn.tree import DecisionTreeRegressor\n",
    "from sklearn.ensemble import RandomForestRegressor\n",
    "\n",
    "## Model evaluators\n",
    "from sklearn.model_selection import train_test_split, cross_val_score\n",
    "from sklearn.model_selection import RandomizedSearchCV, GridSearchCV\n",
    "from sklearn.metrics import mean_squared_log_error, mean_absolute_error, r2_score\n"
   ]
  },
  {
   "cell_type": "code",
   "execution_count": 20,
   "metadata": {},
   "outputs": [],
   "source": [
    "np.random.seed(42)\n",
    "# Split into train & test set\n",
    "X_train, X_test, y_train, y_test = train_test_split(X, \n",
    "                                                    y, \n",
    "                                                    test_size = 0.2)"
   ]
  },
  {
   "cell_type": "code",
   "execution_count": 21,
   "metadata": {},
   "outputs": [],
   "source": [
    "# Put models in a dictionary\n",
    "models = {\"DecisionTree\": DecisionTreeRegressor(),\n",
    "          \"Linear Regression\": LinearRegression(), \n",
    "          \"Random Forest\": RandomForestRegressor()}\n",
    "\n",
    "# Create function to fit and score models\n",
    "def fit_and_score(models, X_train, X_test, y_train, y_test):\n",
    "    # Random seed for reproducible results\n",
    "    np.random.seed(42)\n",
    "    # Make a list to keep model scores\n",
    "    model_scores = {}\n",
    "    # Loop through models\n",
    "    for name, model in models.items():\n",
    "        # Fit the model to the data\n",
    "        model.fit(X_train, y_train)\n",
    "        # Evaluate the model and append its score to model_scores\n",
    "        model_scores[name] = model.score(X_test, y_test)\n",
    "    return model_scores"
   ]
  },
  {
   "cell_type": "code",
   "execution_count": 22,
   "metadata": {},
   "outputs": [
    {
     "data": {
      "text/plain": [
       "{'DecisionTree': 0.7089688992980032,\n",
       " 'Linear Regression': 0.6910934003098511,\n",
       " 'Random Forest': 0.8516866101832741}"
      ]
     },
     "execution_count": 22,
     "metadata": {},
     "output_type": "execute_result"
    }
   ],
   "source": [
    "\n",
    "model_scores = fit_and_score(models=models,\n",
    "                             X_train=X_train,\n",
    "                             X_test=X_test,\n",
    "                             y_train=y_train,\n",
    "                             y_test=y_test)\n",
    "model_scores"
   ]
  },
  {
   "cell_type": "code",
   "execution_count": 23,
   "metadata": {},
   "outputs": [
    {
     "data": {
      "image/png": "[encoded data removed]",
      "text/plain": [
       "<Figure size 432x288 with 1 Axes>"
      ]
     },
     "metadata": {
      "needs_background": "light"
     },
     "output_type": "display_data"
    }
   ],
   "source": [
    "# Model Comparision\n",
    "model_compare = pd.DataFrame(model_scores, index=['accuracy'])\n",
    "model_compare.T.plot.bar();"
   ]
  },
  {
   "cell_type": "code",
   "execution_count": 24,
   "metadata": {},
   "outputs": [
    {
     "data": {
      "text/plain": [
       "RandomForestRegressor(bootstrap=True, ccp_alpha=0.0, criterion='mse',\n",
       "                      max_depth=None, max_features='auto', max_leaf_nodes=None,\n",
       "                      max_samples=None, min_impurity_decrease=0.0,\n",
       "                      min_impurity_split=None, min_samples_leaf=1,\n",
       "                      min_samples_split=2, min_weight_fraction_leaf=0.0,\n",
       "                      n_estimators=100, n_jobs=-1, oob_score=False,\n",
       "                      random_state=42, verbose=0, warm_start=False)"
      ]
     },
     "execution_count": 24,
     "metadata": {},
     "output_type": "execute_result"
    }
   ],
   "source": [
    "# We Use Random Forest Regressor\n",
    "model = RandomForestRegressor(n_jobs=-1, \n",
    "                              random_state=42)\n",
    "model.fit(X_train,y_train)"
   ]
  },
  {
   "cell_type": "code",
   "execution_count": 25,
   "metadata": {},
   "outputs": [
    {
     "data": {
      "text/plain": [
       "0.8523419529990267"
      ]
     },
     "execution_count": 25,
     "metadata": {},
     "output_type": "execute_result"
    }
   ],
   "source": [
    "model.score(X_test,y_test)"
   ]
  },
  {
   "cell_type": "code",
   "execution_count": 29,
   "metadata": {},
   "outputs": [
    {
     "data": {
      "text/plain": [
       "0.6665530307569869"
      ]
     },
     "execution_count": 29,
     "metadata": {},
     "output_type": "execute_result"
    }
   ],
   "source": [
    "# Cross Validated Accuracy Score\n",
    "cv_acc = cross_val_score(model,\n",
    "                         X,\n",
    "                         y,\n",
    "                         cv=5)\n",
    "np.mean(cv_acc)"
   ]
  },
  {
   "cell_type": "code",
   "execution_count": null,
   "metadata": {},
   "outputs": [],
   "source": []
  }
 ],
 "metadata": {
  "kernelspec": {
   "display_name": "Python 3",
   "language": "python",
   "name": "python3"
  },
  "language_info": {
   "codemirror_mode": {
    "name": "ipython",
    "version": 3
   },
   "file_extension": ".py",
   "mimetype": "text/x-python",
   "name": "python",
   "nbconvert_exporter": "python",
   "pygments_lexer": "ipython3",
   "version": "3.7.6"
  }
 },
 "nbformat": 4,
 "nbformat_minor": 4
}
