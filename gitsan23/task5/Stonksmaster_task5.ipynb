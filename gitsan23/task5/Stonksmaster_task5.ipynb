{
  "nbformat": 4,
  "nbformat_minor": 0,
  "metadata": {
    "colab": {
      "name": "Stonksmaster_task5.ipynb",
      "provenance": []
    },
    "kernelspec": {
      "name": "python3",
      "display_name": "Python 3"
    }
  },
  "cells": [
    {
      "cell_type": "code",
      "metadata": {
        "id": "OwPY4GMnxGR3",
        "outputId": "e8f91c2a-e0b7-4dc0-a802-f2a39f87572a",
        "colab": {
          "base_uri": "https://localhost:8080/",
          "height": 252
        }
      },
      "source": [
        "import pandas as pd\n",
        "import datetime as dt\n",
        "import requests\n",
        "\n",
        "from datetime import datetime as dt\n",
        "\n",
        "datay='https://cloud.iexapis.com/stable/stock/aapl/chart/1y?token=pk_780c659870ee4d548bcdf1bf2d7479fc'\n",
        "datad='https://cloud.iexapis.com/stable/stock/aapl/chart/1d?token=pk_780c659870ee4d548bcdf1bf2d7479fc'\n",
        "dataday='https://cloud.iexapis.com/stable/stock/aapl/intraday-prices/batch?token=pk_780c659870ee4d548bcdf1bf2d7479fc'\n",
        "import json\n",
        "dd= requests.get(datad)\n",
        "dy= requests.get(datay)\n",
        "dday= requests.get(dataday)\n",
        "datad=json.loads(dd.text)\n",
        "datay=json.loads(dy.text)\n",
        "dataday=json.loads(dday.text)\n",
        "for i in datay:\n",
        "    i['minute'] = i.get('minute','09:30')\n",
        "for i in datay:\n",
        "      string= i['date']+'T'+i['minute']+':00+00:00'\n",
        "      element= dt.strptime(string,\"%Y-%m-%dT%H:%M:%S+00:00\")\n",
        "      timestamp= dt.timestamp(element)\n",
        "      i['timestamps']= i.get('timestamps',timestamp)\n",
        "for i in datad:\n",
        "       string= i['date']+'T'+i['minute']+':00+00:00'\n",
        "       element= dt.strptime(string,\"%Y-%m-%dT%H:%M:%S+00:00\")\n",
        "       timestamp= dt.timestamp(element)     \n",
        "       i['timestamps']= i.get('timestamps', timestamp)\n",
        "for i in dataday:\n",
        "        string= i['date']+'T'+i['minute']+':00+00:00'\n",
        "        element= dt.strptime(string,\"%Y-%m-%dT%H:%M:%S+00:00\")\n",
        "        timestamp= dt.timestamp(element)\n",
        "        i['timestamps']= i.get('timestamps', timestamp)\n",
        "      \n",
        "df_1= pd.DataFrame(datay)\n",
        "df_2= pd.DataFrame(datad)\n",
        "df_3= pd.DataFrame(dataday)\n",
        "      \n",
        "frames =[df_1,df_2,df_3]\n",
        "final =pd.concat(frames)\n",
        "final= final.drop(['date','close','high','low','volume','uOpen','uHigh','uLow','uVolume','change','label','changeOverTime','minute','uClose','changePercent','average','notional','numberOfTrades'],axis=1)\n",
        "print(final)\n",
        "    \n"
      ],
      "execution_count": 65,
      "outputs": [
        {
          "output_type": "stream",
          "text": [
            "        open    timestamps\n",
            "0     56.760  1.570613e+09\n",
            "1     56.980  1.570700e+09\n",
            "2     58.240  1.570786e+09\n",
            "3     58.730  1.571045e+09\n",
            "4     59.100  1.571132e+09\n",
            "..       ...           ...\n",
            "178  115.960  1.602246e+09\n",
            "179  115.970  1.602247e+09\n",
            "180  116.000  1.602247e+09\n",
            "181  116.040  1.602247e+09\n",
            "182  116.015  1.602247e+09\n",
            "\n",
            "[619 rows x 2 columns]\n"
          ],
          "name": "stdout"
        }
      ]
    }
  ]
}