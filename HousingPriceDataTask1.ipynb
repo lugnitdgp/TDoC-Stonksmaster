{
  "nbformat": 4,
  "nbformat_minor": 0,
  "metadata": {
    "colab": {
      "name": "HousingPriceData.ipynb",
      "provenance": [],
      "collapsed_sections": []
    },
    "kernelspec": {
      "name": "python3",
      "display_name": "Python 3"
    }
  },
  "cells": [
    {
      "cell_type": "code",
      "metadata": {
        "id": "JuoL0tWbR_Mu"
      },
      "source": [
        "#importing the libraries\n",
        "import numpy as np\n",
        "import pandas as pd\n",
        "import matplotlib.pyplot as plt"
      ],
      "execution_count": 83,
      "outputs": []
    },
    {
      "cell_type": "code",
      "metadata": {
        "id": "F2_oBIjCSv1i",
        "outputId": "80e6ef07-6a84-4872-ab98-0613c434dd09",
        "colab": {
          "base_uri": "https://localhost:8080/",
          "height": 202
        }
      },
      "source": [
        "#loading the dataset\n",
        "housing_data = pd.read_csv(\"housing.csv\")\n",
        "housing_data.head()"
      ],
      "execution_count": 84,
      "outputs": [
        {
          "output_type": "execute_result",
          "data": {
            "text/html": [
              "<div>\n",
              "<style scoped>\n",
              "    .dataframe tbody tr th:only-of-type {\n",
              "        vertical-align: middle;\n",
              "    }\n",
              "\n",
              "    .dataframe tbody tr th {\n",
              "        vertical-align: top;\n",
              "    }\n",
              "\n",
              "    .dataframe thead th {\n",
              "        text-align: right;\n",
              "    }\n",
              "</style>\n",
              "<table border=\"1\" class=\"dataframe\">\n",
              "  <thead>\n",
              "    <tr style=\"text-align: right;\">\n",
              "      <th></th>\n",
              "      <th>RM</th>\n",
              "      <th>LSTAT</th>\n",
              "      <th>PTRATIO</th>\n",
              "      <th>MEDV</th>\n",
              "    </tr>\n",
              "  </thead>\n",
              "  <tbody>\n",
              "    <tr>\n",
              "      <th>0</th>\n",
              "      <td>6.58</td>\n",
              "      <td>4.98</td>\n",
              "      <td>15.30</td>\n",
              "      <td>504000.00</td>\n",
              "    </tr>\n",
              "    <tr>\n",
              "      <th>1</th>\n",
              "      <td>6.42</td>\n",
              "      <td>9.14</td>\n",
              "      <td>17.80</td>\n",
              "      <td>453600.00</td>\n",
              "    </tr>\n",
              "    <tr>\n",
              "      <th>2</th>\n",
              "      <td>7.18</td>\n",
              "      <td>4.03</td>\n",
              "      <td>17.80</td>\n",
              "      <td>728700.00</td>\n",
              "    </tr>\n",
              "    <tr>\n",
              "      <th>3</th>\n",
              "      <td>7.00</td>\n",
              "      <td>2.94</td>\n",
              "      <td>18.70</td>\n",
              "      <td>701400.00</td>\n",
              "    </tr>\n",
              "    <tr>\n",
              "      <th>4</th>\n",
              "      <td>7.15</td>\n",
              "      <td>5.33</td>\n",
              "      <td>18.70</td>\n",
              "      <td>760200.00</td>\n",
              "    </tr>\n",
              "  </tbody>\n",
              "</table>\n",
              "</div>"
            ],
            "text/plain": [
              "    RM  LSTAT  PTRATIO      MEDV\n",
              "0 6.58   4.98    15.30 504000.00\n",
              "1 6.42   9.14    17.80 453600.00\n",
              "2 7.18   4.03    17.80 728700.00\n",
              "3 7.00   2.94    18.70 701400.00\n",
              "4 7.15   5.33    18.70 760200.00"
            ]
          },
          "metadata": {
            "tags": []
          },
          "execution_count": 84
        }
      ]
    },
    {
      "cell_type": "code",
      "metadata": {
        "id": "FIsWW1emUURa",
        "outputId": "924d64af-8a5b-42b1-b8b4-502bd0ef5764",
        "colab": {
          "base_uri": "https://localhost:8080/",
          "height": 104
        }
      },
      "source": [
        "#Converting the database to a numpy 2D array\n",
        "housing_data_2D = np.array(housing_data)\n",
        "housing_data_2D[:5]"
      ],
      "execution_count": 85,
      "outputs": [
        {
          "output_type": "execute_result",
          "data": {
            "text/plain": [
              "array([[     6.575,      4.98 ,     15.3  , 504000.   ],\n",
              "       [     6.421,      9.14 ,     17.8  , 453600.   ],\n",
              "       [     7.185,      4.03 ,     17.8  , 728700.   ],\n",
              "       [     6.998,      2.94 ,     18.7  , 701400.   ],\n",
              "       [     7.147,      5.33 ,     18.7  , 760200.   ]])"
            ]
          },
          "metadata": {
            "tags": []
          },
          "execution_count": 85
        }
      ]
    },
    {
      "cell_type": "code",
      "metadata": {
        "id": "WBh_AaAfXSoa",
        "outputId": "1fb1e74c-5042-4829-97e3-32840e87be91",
        "colab": {
          "base_uri": "https://localhost:8080/",
          "height": 202
        }
      },
      "source": [
        "#let us drop the column 'PTRATIO'\n",
        "housing_data.drop(labels=['PTRATIO'], axis=1, inplace=True)\n",
        "housing_data.head()"
      ],
      "execution_count": 86,
      "outputs": [
        {
          "output_type": "execute_result",
          "data": {
            "text/html": [
              "<div>\n",
              "<style scoped>\n",
              "    .dataframe tbody tr th:only-of-type {\n",
              "        vertical-align: middle;\n",
              "    }\n",
              "\n",
              "    .dataframe tbody tr th {\n",
              "        vertical-align: top;\n",
              "    }\n",
              "\n",
              "    .dataframe thead th {\n",
              "        text-align: right;\n",
              "    }\n",
              "</style>\n",
              "<table border=\"1\" class=\"dataframe\">\n",
              "  <thead>\n",
              "    <tr style=\"text-align: right;\">\n",
              "      <th></th>\n",
              "      <th>RM</th>\n",
              "      <th>LSTAT</th>\n",
              "      <th>MEDV</th>\n",
              "    </tr>\n",
              "  </thead>\n",
              "  <tbody>\n",
              "    <tr>\n",
              "      <th>0</th>\n",
              "      <td>6.58</td>\n",
              "      <td>4.98</td>\n",
              "      <td>504000.00</td>\n",
              "    </tr>\n",
              "    <tr>\n",
              "      <th>1</th>\n",
              "      <td>6.42</td>\n",
              "      <td>9.14</td>\n",
              "      <td>453600.00</td>\n",
              "    </tr>\n",
              "    <tr>\n",
              "      <th>2</th>\n",
              "      <td>7.18</td>\n",
              "      <td>4.03</td>\n",
              "      <td>728700.00</td>\n",
              "    </tr>\n",
              "    <tr>\n",
              "      <th>3</th>\n",
              "      <td>7.00</td>\n",
              "      <td>2.94</td>\n",
              "      <td>701400.00</td>\n",
              "    </tr>\n",
              "    <tr>\n",
              "      <th>4</th>\n",
              "      <td>7.15</td>\n",
              "      <td>5.33</td>\n",
              "      <td>760200.00</td>\n",
              "    </tr>\n",
              "  </tbody>\n",
              "</table>\n",
              "</div>"
            ],
            "text/plain": [
              "    RM  LSTAT      MEDV\n",
              "0 6.58   4.98 504000.00\n",
              "1 6.42   9.14 453600.00\n",
              "2 7.18   4.03 728700.00\n",
              "3 7.00   2.94 701400.00\n",
              "4 7.15   5.33 760200.00"
            ]
          },
          "metadata": {
            "tags": []
          },
          "execution_count": 86
        }
      ]
    },
    {
      "cell_type": "code",
      "metadata": {
        "id": "M1Tr4EHxYsI5",
        "outputId": "c142b231-ebec-45cd-f493-b270f5309597",
        "colab": {
          "base_uri": "https://localhost:8080/",
          "height": 202
        }
      },
      "source": [
        "housing_data.rename(columns={\"RM\": \"Avg. room per dwelling\",}, inplace=True)\n",
        "housing_data.head()"
      ],
      "execution_count": 87,
      "outputs": [
        {
          "output_type": "execute_result",
          "data": {
            "text/html": [
              "<div>\n",
              "<style scoped>\n",
              "    .dataframe tbody tr th:only-of-type {\n",
              "        vertical-align: middle;\n",
              "    }\n",
              "\n",
              "    .dataframe tbody tr th {\n",
              "        vertical-align: top;\n",
              "    }\n",
              "\n",
              "    .dataframe thead th {\n",
              "        text-align: right;\n",
              "    }\n",
              "</style>\n",
              "<table border=\"1\" class=\"dataframe\">\n",
              "  <thead>\n",
              "    <tr style=\"text-align: right;\">\n",
              "      <th></th>\n",
              "      <th>Avg. room per dwelling</th>\n",
              "      <th>LSTAT</th>\n",
              "      <th>MEDV</th>\n",
              "    </tr>\n",
              "  </thead>\n",
              "  <tbody>\n",
              "    <tr>\n",
              "      <th>0</th>\n",
              "      <td>6.58</td>\n",
              "      <td>4.98</td>\n",
              "      <td>504000.00</td>\n",
              "    </tr>\n",
              "    <tr>\n",
              "      <th>1</th>\n",
              "      <td>6.42</td>\n",
              "      <td>9.14</td>\n",
              "      <td>453600.00</td>\n",
              "    </tr>\n",
              "    <tr>\n",
              "      <th>2</th>\n",
              "      <td>7.18</td>\n",
              "      <td>4.03</td>\n",
              "      <td>728700.00</td>\n",
              "    </tr>\n",
              "    <tr>\n",
              "      <th>3</th>\n",
              "      <td>7.00</td>\n",
              "      <td>2.94</td>\n",
              "      <td>701400.00</td>\n",
              "    </tr>\n",
              "    <tr>\n",
              "      <th>4</th>\n",
              "      <td>7.15</td>\n",
              "      <td>5.33</td>\n",
              "      <td>760200.00</td>\n",
              "    </tr>\n",
              "  </tbody>\n",
              "</table>\n",
              "</div>"
            ],
            "text/plain": [
              "   Avg. room per dwelling  LSTAT      MEDV\n",
              "0                    6.58   4.98 504000.00\n",
              "1                    6.42   9.14 453600.00\n",
              "2                    7.18   4.03 728700.00\n",
              "3                    7.00   2.94 701400.00\n",
              "4                    7.15   5.33 760200.00"
            ]
          },
          "metadata": {
            "tags": []
          },
          "execution_count": 87
        }
      ]
    },
    {
      "cell_type": "code",
      "metadata": {
        "id": "3VSzs6_PadsM",
        "outputId": "aad8efcc-74a6-47ff-f840-16c6bfe093fe",
        "colab": {
          "base_uri": "https://localhost:8080/",
          "height": 35
        }
      },
      "source": [
        "#slicing the \"RM\" column of dataframe\n",
        "RM = np.array(housing_data[\"Avg. room per dwelling\"])\n",
        "RM[:5] #created numpy array and displaying first 5 values"
      ],
      "execution_count": 88,
      "outputs": [
        {
          "output_type": "execute_result",
          "data": {
            "text/plain": [
              "array([6.575, 6.421, 7.185, 6.998, 7.147])"
            ]
          },
          "metadata": {
            "tags": []
          },
          "execution_count": 88
        }
      ]
    },
    {
      "cell_type": "code",
      "metadata": {
        "id": "vIqMNOIma-5S"
      },
      "source": [
        ""
      ],
      "execution_count": null,
      "outputs": []
    }
  ]
}